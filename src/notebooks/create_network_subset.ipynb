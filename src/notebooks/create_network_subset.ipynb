{
 "cells": [
  {
   "cell_type": "code",
   "execution_count": 3,
   "metadata": {},
   "outputs": [],
   "source": [
    "import gzip\n",
    "from collections import *\n",
    "import os\n",
    "import csv\n",
    "import snap"
   ]
  },
  {
   "cell_type": "code",
   "execution_count": 3,
   "metadata": {},
   "outputs": [
    {
     "ename": "KeyboardInterrupt",
     "evalue": "",
     "output_type": "error",
     "traceback": [
      "\u001b[0;31m---------------------------------------------------------------------------\u001b[0m",
      "\u001b[0;31mKeyboardInterrupt\u001b[0m                         Traceback (most recent call last)",
      "\u001b[0;32m<ipython-input-3-62220f141842>\u001b[0m in \u001b[0;36m<module>\u001b[0;34m()\u001b[0m\n\u001b[1;32m     27\u001b[0m                 \u001b[0muid2\u001b[0m \u001b[0;34m*=\u001b[0m \u001b[0;34m-\u001b[0m\u001b[0;36m1\u001b[0m\u001b[0;34m\u001b[0m\u001b[0m\n\u001b[1;32m     28\u001b[0m \u001b[0;34m\u001b[0m\u001b[0m\n\u001b[0;32m---> 29\u001b[0;31m             \u001b[0;32mif\u001b[0m \u001b[0muid1\u001b[0m \u001b[0;32min\u001b[0m \u001b[0muid_to_country\u001b[0m \u001b[0;32mand\u001b[0m \u001b[0muid2\u001b[0m \u001b[0;32min\u001b[0m \u001b[0muid_to_country\u001b[0m\u001b[0;34m:\u001b[0m\u001b[0;34m\u001b[0m\u001b[0m\n\u001b[0m\u001b[1;32m     30\u001b[0m                 \u001b[0moutf\u001b[0m\u001b[0;34m.\u001b[0m\u001b[0mwrite\u001b[0m\u001b[0;34m(\u001b[0m\u001b[0;34m\"{} {}\\n\"\u001b[0m\u001b[0;34m.\u001b[0m\u001b[0mformat\u001b[0m\u001b[0;34m(\u001b[0m\u001b[0muid1\u001b[0m\u001b[0;34m,\u001b[0m \u001b[0muid2\u001b[0m\u001b[0;34m)\u001b[0m\u001b[0;34m)\u001b[0m\u001b[0;34m\u001b[0m\u001b[0m\n",
      "\u001b[0;31mKeyboardInterrupt\u001b[0m: "
     ]
    }
   ],
   "source": [
    "uid_to_country = {}\n",
    "file = '/shared/1/projects/cross-lingual-exchange/data/network_subsets/BE.tsv'\n",
    "\n",
    "with open('/home/sayghosh/cross-lingual-exchange/data/user_lists/BE.tsv') as f:\n",
    "    for line_no, line in enumerate(f, 1):\n",
    "        cols = line.split('\\t')\n",
    "        \n",
    "        uid = int(cols[0])\n",
    "        \n",
    "        if uid < 0:\n",
    "            uid *= -1\n",
    "            \n",
    "        country = tuple(cols[1])\n",
    "        uid_to_country[uid] = country\n",
    "\n",
    "with gzip.open('/shared/0/projects/location-inference/from-stanford/merged-mention-net.with-dummy.tsv.gz', 'rb') as f:\n",
    "    with open(file, 'w+') as outf:\n",
    "        for line in f:\n",
    "            cols = line.decode().split('\\t')\n",
    "            uid1 = int(cols[0])\n",
    "            uid2 = int(cols[1])\n",
    "            \n",
    "            if uid1 < 0:\n",
    "                uid1 *= -1\n",
    "            \n",
    "            if uid2 < 0:\n",
    "                uid2 *= -1\n",
    "                \n",
    "            if uid1 in uid_to_country and uid2 in uid_to_country:\n",
    "                outf.write(\"{} {}\\n\".format(uid1, uid2))"
   ]
  },
  {
   "cell_type": "code",
   "execution_count": null,
   "metadata": {},
   "outputs": [],
   "source": []
  }
 ],
 "metadata": {
  "kernelspec": {
   "name": "python3",
   "display_name": "Python 3.7.4 64-bit ('anaconda': virtualenv)",
   "metadata": {
    "interpreter": {
     "hash": "f50bd5474255f82aa829301912ce59e29110123be660cf8d7583f66a20371684"
    }
   }
  },
  "language_info": {
   "codemirror_mode": {
    "name": "ipython",
    "version": 2
   },
   "file_extension": ".py",
   "mimetype": "text/x-python",
   "name": "python",
   "nbconvert_exporter": "python",
   "pygments_lexer": "ipython2",
   "version": "3.7.4-final"
  }
 },
 "nbformat": 4,
 "nbformat_minor": 2
}