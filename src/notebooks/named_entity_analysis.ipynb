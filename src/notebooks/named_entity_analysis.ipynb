{
 "cells": [
  {
   "cell_type": "code",
   "execution_count": 1,
   "metadata": {},
   "outputs": [],
   "source": [
    "import ujson \n",
    "import operator\n",
    "import os\n",
    "from collections import *\n",
    "import glob\n",
    "import pandas as pd\n",
    "import re\n",
    "import networkx as nx\n",
    "from tqdm import tqdm"
   ]
  },
  {
   "cell_type": "code",
   "execution_count": null,
   "metadata": {},
   "outputs": [
    {
     "name": "stderr",
     "output_type": "stream",
     "text": [
      " 45%|████▍     | 810/1804 [16:05<23:03,  1.39s/it]"
     ]
    }
   ],
   "source": [
    "os.chdir(\"/shared/1/projects/cross-lingual-exchange/data/named_entities/UK_DE\")\n",
    "\n",
    "en_entities = {}\n",
    "de_entities = {}\n",
    "\n",
    "for file in tqdm(glob.glob('*.json')):\n",
    "    with open(file, 'r') as f:\n",
    "        try:\n",
    "            data = ujson.load(f)\n",
    "\n",
    "            if os.path.splitext(file)[0][-2:] == 'en':\n",
    "                for entity, count in data.items():\n",
    "                    entity = re.sub(r'@#[^ ]+', ' ', entity).strip()\n",
    "                    entity = entity.encode('ascii', 'ignore').decode('ascii')\n",
    "                    if len(entity) >= 5 and entity[0:2] != 'RT' and entity[0] != '@' and entity != '😂😂😂' and entity != '😂 #' and entity != '😂😂😂😂' and entity != '👏👏👏':\n",
    "                        if entity in en_entities:\n",
    "                            en_entities[entity] += 1\n",
    "                        else:\n",
    "                            en_entities[entity] = 1\n",
    "\n",
    "            if os.path.splitext(file)[0][-2:] == 'de':\n",
    "                for entity, count in data.items():\n",
    "                    entity = re.sub(r'@[^ ]+', ' ', entity).strip()\n",
    "                    if len(entity) >= 5 and entity[0:2] != 'RT' and entity[0] != '@':\n",
    "                        if entity in de_entities:\n",
    "                            de_entities[entity] += 1\n",
    "                        else:\n",
    "                            de_entities[entity] = 1  \n",
    "        except:\n",
    "            pass\n",
    "\n",
    "\n",
    "factor_en = 1.0/sum(en_entities.values())\n",
    "factor_de = 1.0/sum(de_entities.values())\n",
    "\n",
    "en_entities_freq = {}\n",
    "de_entities_freq = {}\n",
    "\n",
    "for k in en_entities:\n",
    "  en_entities_freq[k] = en_entities[k]*factor_en\n",
    "\n",
    "for k in de_entities:\n",
    "    de_entities_freq[k] = de_entities[k]*factor_de\n"
   ]
  },
  {
   "cell_type": "code",
   "execution_count": null,
   "metadata": {},
   "outputs": [],
   "source": [
    "en_set = set(en_entities)\n",
    "de_set = set(de_entities)"
   ]
  },
  {
   "cell_type": "code",
   "execution_count": null,
   "metadata": {},
   "outputs": [],
   "source": [
    "sorted_en = sorted(en_entities.items(), key=operator.itemgetter(1), reverse=True)\n",
    "print(sorted_en[0:100])"
   ]
  },
  {
   "cell_type": "code",
   "execution_count": null,
   "metadata": {},
   "outputs": [],
   "source": [
    "sorted_de = sorted(de_entities.items(), key=operator.itemgetter(1), reverse=True)\n",
    "print(sorted_de[0:100])"
   ]
  },
  {
   "cell_type": "code",
   "execution_count": null,
   "metadata": {},
   "outputs": [],
   "source": [
    "intersection = de_set.intersection(en_set)\n",
    "intersection_dict = {}\n",
    "\n",
    "for key in intersection:\n",
    "    intersection_dict[key] = en_entities[key] + de_entities[key]\n",
    "\n",
    "sorted_intersection = sorted(intersection_dict.items(), key=operator.itemgetter(1), reverse=True)\n",
    "print(sorted_intersection[0:200])"
   ]
  },
  {
   "cell_type": "code",
   "execution_count": 9,
   "metadata": {},
   "outputs": [
    {
     "name": "stdout",
     "output_type": "stream",
     "text": [
      "['Danke', '&lt;3', 'Hahaha', 'https://t', 'Brexit', 'Follow', 'Hahahahaha', 'Trump', 'Hahahaha', 'Check', 'Liverpool', 'England', 'Great', 'Cheers', 'Wales', 'Retweet', 'Labour', 'Chelsea', 'Twitter', 'London', 'Jesus', 'Scotland', 'https://t.c', 'Hahahahahaha', 'Leeds', 'Facebook', 'Hahahah', 'Messi', 'YouTube', 'Sorry', 'Merci', 'https:/', 'Tickets', 'Arsenal', 'NowPlaying', 'Netflix', 'Watch', 'James', 'Bravo', 'Hallo', 'Manchester', 'Berlin', 'Amazon', 'Barcelona', 'Video', 'Photo', 'Europe', 'Trumps', 'Salah', 'Spurs', 'Spotify', 'Germany', 'David', 'France', 'JIMIN', 'Glasgow', 'Google', 'Instagram', 'Paris', 'Bonjour', 'Loooool', 'Hahahahahahaha', 'Ronaldo', 'Looool', 'Super', 'ICYMI', 'China', 'Gracias', 'Birmingham', 'McDonalds', 'United', 'Japan', 'SoundCloud', 'Cardiff', 'Today', 'Chris', 'Frankfurt', 'Hamburg', 'Manchester United', 'Yessss', 'Christmas', 'Apple', 'Italy', 'Genius', 'StopBrexit', 'Diolch', 'America', 'Rangers', 'Man City', 'Nazis', 'Amsterdam', 'Michael', 'Venezuela', 'RETWEET', 'Israel', 'LOOOL', 'FOLLOW', 'Harry', 'Idiot', '&gt;&gt', 'LOOOOOL', 'Dortmund', 'Tweet', 'Friday', 'Pakistan', 'Hazard', 'iPhone', 'Bayern', 'NewProfilePic', 'Bristol', 'Problem', 'Europa', 'Islam', 'Madrid', 'Champions League', 'Real Madrid', 'LOOOOOOOL', 'Donald Trump', 'LOOOOOOL', 'Premier League', 'March', 'Boris', 'NintendoSwitch', 'Daniel', 'Hmmmm', 'India', 'LOOOOL', 'New York', 'Cristiano Ronaldo', 'Macron', 'German', 'Android', 'Neymar', 'Juventus', 'Portugal', 'Klopp', 'Stuttgart', 'PeoplesVote', 'Obama', 'Games', 'Videos', 'WhatsApp', 'Leicester', 'Brighton', 'Canada', 'Peter', 'Alexa', 'Fulham', 'Mexico', 'Update', 'Absolute', 'VIDEO', 'Russia', 'Leipzig', 'Friends', 'Union', 'Britain', 'Hitler', 'Celtic', 'Jesus Christ', 'Awwww', 'Everton', 'Nigeria', 'George', 'Tokyo', 'HAHAHA', 'Merkel', 'Mourinho', 'Quran', 'Hahahahah', 'Thomas', 'Winner', 'Brilliant', 'Spain', 'Deutschland', 'Manchester City', 'Greece', 'Microsoft', 'HAHAHAHA', 'Beautiful', 'Remain', 'Bundesliga', 'Erdogan', 'Social Media', 'Sheffield', 'Christ', 'Sunday', 'Elite', 'Nottingham', 'English', 'Fortnite', 'Derby', 'Tottenham', 'Queen', 'De Gea', 'Donald', 'Theresa May', 'Colombia', 'Yorkshire', 'HAHAHAHAHA', 'Ibiza', 'Dubai', 'Indonesia', 'NCT127', 'Batman', 'Wikipedia', 'Sarah', 'Putin', 'Morning', 'Disney', 'Australia', 'Insta', 'FreebieFriday', 'LOOOOOOOOOL', 'FridayFeeling', 'Istanbul', 'Youtube', 'Yesss', 'LOOOOOOOOL', 'iTunes', 'Afghanistan', 'Laura', 'Ukraine', 'Mercedes', 'January', 'Milan', 'Thailand', 'Barca', 'Angela', 'Allah', 'ITjobs', 'David Bowie', 'Wigan', 'West Ham', 'Welsh', 'Hahah', 'Lewis', 'Kindle', 'Southampton', 'Norway', 'Bring', 'Victoria', 'Legendary', 'Netherlands', 'Burnley', 'LMAOOO', 'Wolves', 'Jones', 'Nintendo', 'Argentina', 'Dresden', 'Aberdeen', 'Windows', 'Ridiculous', 'Bella', 'URGENT', 'Aguero', 'Ferrari', 'Drake', 'LOOOOOOOOOOL', 'FakeNews', 'Marvel', 'Malta', 'Brazil', 'Firmino', 'October', 'Porsche', 'Miami', 'Newcastle', 'Monaco', 'Chile', 'Insane', 'Cymru', 'Lukaku', 'BBC News', 'Alhamdulillah', 'Martin', 'Scott', 'Simon', 'Huawei', 'Angela Merkel', 'Rihanna', 'Fantastic', 'Oscar', 'Travel', 'Congratulations', 'Bremen', 'Valencia', 'Sunderland', 'Oxford', 'Edinburgh', 'Saudi Arabia', 'Loool', 'Party', 'Spanish', 'LOOOOOOOOOOOL', 'Bingo', 'Photos', 'Christian', 'Switzerland', 'Zidane', 'Dublin', 'Essex', 'Day 2', 'Hawaii', 'Jungkook', 'Frank', 'Alisson', 'MeToo', 'Russian', 'Star Wars', 'Bitcoin', 'Salvini', 'Florida', 'Media', 'Fucking', 'Van Dijk', 'Hannover', 'Holland', 'Vietnam', 'Maria', 'Day 1', 'Vegan', 'Bolton', 'Norwich', 'Johnson', 'Jordan', 'Nigel', 'Game of Thrones', 'Las Vegas', 'Delete', 'Whatsapp', 'Steam', 'Henry', 'Malaysia', 'Africa', 'Nature', 'Allison', 'Hollywood', 'Aston Villa', 'Budapest', 'ScotRef', 'Palestine', 'Napoli', 'Total', 'Blockchain', 'Hahahahahahahaha', 'Turkey', 'Sweden', 'Washington', 'Stockholm', 'Looooool', 'Holocaust', 'Ariana Grande', 'Chicago', 'Syria', 'Harry Kane', 'Lionel Messi', 'Twitch', 'Photography', 'Los Angeles', 'Pokemon', 'Yoongi', 'Official Video', 'Hong Kong', 'Yessssss', 'Korea', 'Tesla', 'Brutal', 'PlayStation', 'Nicki Minaj', 'Italia', 'Business', 'Ralph', 'Switch', 'Harry Potter', 'Robin', 'Suarez', 'Gerne', 'Porto', 'Hamilton', 'Brand', 'Lmaoo', 'Brussels', 'LoveIsland', 'Zelda', 'Digital', 'Mario', 'Patrick', 'Ghana', 'Titanic', 'Austria', 'PLEASE', 'La Liga', 'Sanchez', 'Kanye', 'San Francisco', 'Auschwitz', 'Music Video', 'Merry Christmas', 'Cornwall', 'Proud', 'Gerrard', 'Linux', 'Alice', 'Oasis', 'Kante', 'Afternoon', 'Aquarius', 'Family', 'Lancashire', 'Silva', 'Kevin', 'Denmark', 'Karma', 'Sterling', 'SaveShadowhunters', 'Mallorca', 'Samsung', 'Sri Lanka', 'PayPal', 'Hallelujah', 'Michael Jackson', 'Trans', 'Cumbria', 'Pls RT', 'Spring', 'Julia', 'Ramos', 'Jerusalem', 'Georgia', 'Splatoon2', 'Ramsey', 'Megan', 'Robertson', 'Gucci', 'SUPER', 'BREAKING', 'TEAMSTALLION', 'Sevilla', 'eBook', 'Sophie', 'LMAOOOOO', 'Rashford', 'Hamas', 'TheresaMay', 'Island', 'Volkswagen', 'Stream', 'Rosie', 'Ultimate', 'McDonald', 'Challenge', 'Pakistani', 'LOOOOOOOOOOOOL', 'JUNGKOOK', 'Breaking', 'Julian', 'Bangkok', 'Texas', 'Williams', 'Podcast', 'Boston', 'Savage', 'Soros', 'Toronto', 'Belfast', 'Cyprus', 'SEVENTEEN', 'Finland', 'Ameen', 'Guardiola', 'WINNER', 'Arthur', 'Assad', 'Vegas', 'Snapchat', 'Diana', 'Repost', 'Throwback', 'Print', 'Singapore', 'Europa League', 'Xbox One', 'Lacazette', 'Ariana', 'Halle', 'Japanese', 'Shanghai', 'Horrific', 'Wanker', 'Costa', 'Marseille', 'JESUS', 'YESSSS', 'Superman', 'Eden Hazard', 'Allez', 'Atlanta', 'Ed Sheeran', 'Sarri', 'Belgium', 'Yesterday', 'Mo Salah', 'Nintendo Switch', 'Madonna', 'California', 'Detroit', 'Joshua', 'PlayStation 4', 'Ahahaha', 'Taylor', 'Moscow', 'Common', 'Metro', 'Serie A', 'Philippines', 'Bonus', 'SeanceRadio', 'Saturn', 'Brandenburg', 'Mental', 'Fabulous', 'Lmaooo', 'Michelle', 'Chinese', 'Truth', 'Andrea', 'MondayMotivation', 'BrexitShambles', 'Munich', 'Ronaldinho', 'Italian', 'Ryanair', 'Peace', 'Gomez', 'Saudi', 'Meghan', 'Star Trek', 'Cambridge', 'Iceland', 'Spoiler', 'LGBTQ', 'Venus', 'Lady Gaga', 'Aubameyang', 'Vienna', 'Inter', 'ToriesOut', 'Cardi B', 'Albert Einstein', 'Brasil', 'Deutsche', 'Barbara', 'TeamZay', 'Nutella', 'Bangladesh', 'Joker', 'Phoenix', 'Tottenham Hotspur', 'Congrats', 'Henderson', 'Poland', 'Disco', 'Bundestag', 'Xhaka', 'Skype', 'Pedro', 'Marie', 'Sebastian', 'Feeling', 'Kinda', 'Galatasaray', 'Mbappe', 'Iwobi', 'QAnon', 'Comment', 'Prague', 'Alexander', 'LMAOOOO', 'Honda', 'Seoul', 'Champagne', 'Aberystwyth', 'Toyota', 'Romania', 'Fake News', 'Keita', 'Vodafone', 'Rotterdam', 'Excel', 'Eriksen', 'Mohamed Salah', 'James Bond', 'Anglesey', 'Gemini', 'Ecuador', 'Cristiano', 'Pepsi', 'Herrera', 'Kinder', 'Retro', 'Weather', 'WordPress', 'JC4PM', 'Paradise', 'SocialistSunday', 'Discord', 'Dallas', 'Milner', 'Sudan', 'JAPAN', 'Euros', 'YouTuber', 'RESCUE', 'Keane', 'Bolsonaro', 'SocialMedia', 'Arizona', 'Ankara', 'Myanmar', 'Hermes', 'Vinyl', 'Hmmmmm', 'Photoshop', 'Taiwan', 'iPhones', 'Aliens', 'Somalia', 'Santorini', 'Cologne', 'NewYork', 'Alaska', 'History', 'Hotel', 'Stalin', 'Coutinho', 'AC Milan', 'Llongyfarchiadau', 'Mainz', 'EastEnders', 'Elon Musk', 'De Bruyne', 'Person', 'Bangor', 'R.I.P', 'Marco', 'Loooooooool', 'Lucas', 'Galaxy', 'Franco', 'Selena', 'Airbus', 'Breaking News', 'Windows 10', 'Happy', 'HAHAHAH', 'Lmaooooo', 'Orange', 'Tel Aviv', 'Ahaha', 'Dennis', 'Bruno', 'Kraft', 'Mustafi', 'Giroud', 'Stark', 'John Lennon', 'Chicken', 'Zlatan', 'Ahahahaha', 'George Soros', 'Fraud', 'Mozart', 'Nokia', 'New York Times', 'Helsinki', 'MacBook', 'XboxShare', 'Loooooooooool', 'Countdown', 'Felix', 'PremierLeague', 'Diesel', 'Red Bull', 'Shaqiri', 'Torreira', 'XboxOne', 'UPDATE', 'Orban', 'Judas', 'Stigma', 'Conte', 'Persona', 'BLACKPINK', 'Kosovo', 'Sugar', 'Nasty', 'Zombie', 'BigData', 'Taliban', 'JustSaying', 'Karachi', 'Sergio Ramos', 'ManCity', 'LOOOOOOOOOOOOOOOL', 'Gabriel', 'Teaser', 'Carlos', 'Panama', 'Maradona', 'Banana', 'Lazio', 'Webinar', 'Emmanuel Macron', 'Borussia Dortmund', 'Karius', 'Sushi', 'Jorginho', 'WinItWednesday', 'Osaka', 'Paul Pogba', 'Eritrea', 'ThursdayThoughts', 'Supernatural', 'Missing', 'Nahhhh', 'Naruto', 'Avatar', 'David Silva', 'Metallica', 'Beyond', 'FreePalestine', 'Antifa', 'Sabrina', 'Bordeaux', 'Online', 'FFXIV', 'Kyoto', 'Demi Lovato', 'Selena Gomez', 'ATSocialMedia', 'Virgil van Dijk', 'Costa Rica', 'Uruguay', '1DDrive', 'Guatemala', 'Deutsche Bank', 'r4today', 'Special', 'StopBrexitSaveBritain', 'Google Maps', 'Destiny2', 'Lloris', 'Noooo', 'Office', 'LatinVocab', 'Solange', 'Propaganda', 'AdoptDontShop', 'PARIS', 'BackTo60', 'DoctorWho', 'Buenos Aires', 'Modric', 'Ederson', 'Idiots', 'Mohammed', 'Sancho', 'Sofia', 'Stoke', 'Hahahha', 'DakotaJohnson', 'Iniesta', 'Hindi', 'Wolfsburg', 'Mmmmmm', \"Let's\", 'Yassss', 'Strasbourg', 'LOONA', 'Books', 'Agenda', 'Jealous', 'Bauhaus', 'Basel', 'HappyBirthday', 'Augsburg', 'FOSTER', 'CriticalRole', 'Radiohead', 'Lamborghini', 'Banger', 'MyTwitterAnniversary', 'Dakota', 'LMAOOOOOO', 'Sheffieldissuper', 'YESSSSSS', 'Sissoko', 'FCBayern', 'Extra', 'GameofThrones', 'Lille', 'Firefox', 'Noooooo', 'Nicaragua', 'Bergkamp', 'Lustig', 'Nirvana', 'Welcome', 'SDLive', 'Czech Republic', 'Bavaria', 'Yoooo', 'Anyone', 'HalaMadrid', 'Hannibal', 'Benfica', 'Kabul', 'Alhamdulilah', 'Bologna', 'Baller', 'Adidas', 'Follower', 'PENTAGON', 'Adolf Hitler', 'Senegal', 'Sokratis', 'Hahahahahah', 'Utrecht', 'PHOTO', 'Nostalgia', 'TikTok', 'KLAXON', 'Borussia', 'Pasta', 'Bayer', 'Lmaoooooo', 'GameOfThrones', 'Radio Edit', 'Champions', 'Jonas', 'Mmmmm', 'Salzburg', 'Chrome', 'Venom', 'Sergio', 'HipHop', 'ChampionsLeague', 'Normal', 'Tattoos', 'Fresh', 'Plaid Cymru', 'Karl Marx', 'Monsanto', 'Racism', 'Crystal', 'ThrowbackThursday', 'Diego', 'Fernandinho', 'Siemens', 'GiletsJaunes', 'Happy Birthday', 'Leverkusen', 'Hoffenheim', 'Klaus', 'Kappa', 'BTS #', 'Sunset', 'Timeline', 'Ubisoft', 'JHOPE', 'SmallCharities', 'BTSARMY', 'Ninja', 'LaLiga', 'Bizarre', 'Courtois', 'Rita Ora', 'FirstDates', 'Vettel', 'Jorja Smith', 'Bilbao', 'Prince', 'Wijnaldum', 'Prima', 'BreakingNews', 'Ramadan', 'Griezmann', 'Horrendous', 'Bolivia', 'Hella', 'LOOOOOOOOOOOOOOOOL', 'MotoGP', 'Lewandowski', 'MashaAllah', '#OnThisDay', 'Favourite', 'Maduro', 'Bargain', 'GoodMorning', 'Virgil Van Dijk', 'Werner', 'HarryPotter', 'Awwwww', 'TittyTuesday', 'Heidelberg', 'Buffon', 'Lifestyle', 'Beauty', 'HAPPY', 'Tweets', 'TuesdayThoughts', 'WednesdayWisdom', 'Influencer', 'Milano', 'Heidi', 'Bergen', 'THREAD', 'Dennis Bergkamp', 'RedVelvet', 'Caturday', 'ATEEZ', 'Allahu Akbar', 'Weimar', 'Michel', 'Tempo', 'Thread', 'Pardon', 'Hello', 'Markus', 'Vodka', 'Morata', 'Greta', 'CHANYEOL', 'Manuel', 'Keynote', 'FC Barcelona', 'Hahahahha', 'Daimler', 'Mahatma Gandhi', 'Dybala', 'NOOOOO', 'PES2019', 'Signal', 'NAMJOON', 'Style', 'BamBam', 'OH MY', \"C'mon\", 'FirstWorldProblems', 'Koran', 'Mashallah', 'Screenshot', 'INSTAGRAM', 'Bora Bora', 'LOOOOOOOOOOOOOOOOOL', 'Feyenoord', 'JOHNNY', 'Hehehe', 'Meetup', 'Ultras', 'DetroitBecomeHuman', 'Maldini', 'Verdi', 'OneVoice', 'Bambi', 'Pikachu', 'Boateng', 'Studio 66', 'LMAOOOOOOOO', 'Irony', 'Angola', 'Stein', 'AssWednesday', 'Catalunya', 'Apologies', 'Nooooo', 'Sales', 'Barley', 'PokemonGO', 'Panel', 'Rio de Janeiro', 'Regal', 'Torino', 'Yugyeom', 'Teams', 'TAEYONG', 'MayMustGo', 'Welch', 'Femdom', 'Stress', 'Tinder', 'Stasi', 'BERLIN', 'RealMadrid', 'Palmer', 'Hertha', 'David Icke', 'Rammstein', 'SexySaturday', 'JamieDornan', 'WorldCup', 'FollowFriday', 'Simple', 'SubhanAllah', 'Omgggg', 'Python', 'Vybz Kartel', 'ExtinctionRebellion', 'Nobody', 'WinStudio', 'Bohemian Rhapsody', 'Alonso', 'Finger', 'PLEDGE', 'RB Leipzig', 'StrictlyBidness', 'Revolution', 'Mahrez', 'LMAOOOOOOO', 'Lufthansa', 'Milli', 'Marcel', 'Blogger', 'Genesis', 'Ooooo', 'quoteoftheday', 'Songs', 'Greta Thunberg', 'Stray', 'Xiaomi', 'Avengers', 'TWICE', 'ComingSoon', 'FOUND', 'Couch', 'R.I.P.', 'Random', 'MentalHealthMatters', 'SundayMorning', 'YOONGI', 'SEOUL', 'OFFICIAL', 'Satan', 'Ticket', 'Schmidt', 'Sascha', 'TuesdayMotivation', 'Thiago', 'Andreas', 'Fenerbahce', 'BrexitBetrayal', 'DespiteBrexit', 'Crush', 'Loooooooooooooool', 'Sensational', 'SaturdayMotivation', 'Groningen', 'More Shots', 'Dreamy', 'SaturdayMorning', 'Hummels', 'Proper', 'backto60', 'LMAOOOOOOOOO', 'Unacceptable', 'BANGER', 'ThongThursday', 'FriskyFriday']\n"
     ]
    }
   ],
   "source": [
    "entity_list = [entity[0] for entity in sorted_intersection \n",
    "               if en_entities[entity[0]] >= 200 and de_entities[entity[0]] >= 200]\n",
    "print(entity_list)"
   ]
  },
  {
   "cell_type": "code",
   "execution_count": 12,
   "metadata": {},
   "outputs": [],
   "source": [
    "with open('top_entities.txt', 'w+') as f:\n",
    "    for entity in entity_list:\n",
    "        f.write(entity + '\\n')"
   ]
  },
  {
   "cell_type": "code",
   "execution_count": null,
   "metadata": {},
   "outputs": [],
   "source": []
  }
 ],
 "metadata": {
  "kernelspec": {
   "display_name": "Python 3",
   "language": "python",
   "name": "python3"
  },
  "language_info": {
   "codemirror_mode": {
    "name": "ipython",
    "version": 3
   },
   "file_extension": ".py",
   "mimetype": "text/x-python",
   "name": "python",
   "nbconvert_exporter": "python",
   "pygments_lexer": "ipython3",
   "version": "3.6.8"
  }
 },
 "nbformat": 4,
 "nbformat_minor": 2
}
