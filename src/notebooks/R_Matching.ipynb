{
 "cells": [
  {
   "cell_type": "code",
   "execution_count": 35,
   "metadata": {},
   "outputs": [],
   "source": [
    "library(MatchIt)\n",
    "library(ggplot2)\n",
    "library(dplyr)"
   ]
  },
  {
   "cell_type": "code",
   "execution_count": 36,
   "metadata": {},
   "outputs": [],
   "source": [
    "require(data.table)"
   ]
  },
  {
   "cell_type": "code",
   "execution_count": 37,
   "metadata": {},
   "outputs": [],
   "source": [
    "data<-as.data.frame(fread(\"/shared/0/projects/cross-lingual-exchange/data/dataframes/matching_test.tsv\", sep='\\t'))"
   ]
  },
  {
   "cell_type": "code",
   "execution_count": null,
   "metadata": {},
   "outputs": [
    {
     "name": "stderr",
     "output_type": "stream",
     "text": [
      "Installing package into ‘/home/sayghosh/R/x86_64-conda_cos6-linux-gnu-library/3.6’\n",
      "(as ‘lib’ is unspecified)\n"
     ]
    }
   ],
   "source": [
    "install.packages('bit64')"
   ]
  },
  {
   "cell_type": "code",
   "execution_count": null,
   "metadata": {},
   "outputs": [],
   "source": [
    "colnames(data)"
   ]
  },
  {
   "cell_type": "code",
   "execution_count": 21,
   "metadata": {},
   "outputs": [
    {
     "name": "stderr",
     "output_type": "stream",
     "text": [
      "Warning message:\n",
      "“glm.fit: fitted probabilities numerically 0 or 1 occurred”"
     ]
    }
   ],
   "source": [
    "m_ps <- glm(friends_with_bridge ~ num_tweets + degree + followers + following + hashtag_count + url_count,\n",
    "            family = binomial(), data = data)"
   ]
  },
  {
   "cell_type": "code",
   "execution_count": 23,
   "metadata": {},
   "outputs": [
    {
     "data": {
      "text/plain": [
       "\n",
       "Call:\n",
       "glm(formula = friends_with_bridge ~ num_tweets + degree + followers + \n",
       "    following + hashtag_count + url_count, family = binomial(), \n",
       "    data = data)\n",
       "\n",
       "Deviance Residuals: \n",
       "    Min       1Q   Median       3Q      Max  \n",
       "-6.3675  -0.8121  -0.6645   0.9512   2.5452  \n",
       "\n",
       "Coefficients:\n",
       "                Estimate Std. Error  z value Pr(>|z|)    \n",
       "(Intercept)   -1.542e+00  6.473e-03 -238.261  < 2e-16 ***\n",
       "num_tweets     3.598e-03  1.219e-04   29.523  < 2e-16 ***\n",
       "degree         5.379e-02  2.113e-04  254.598  < 2e-16 ***\n",
       "followers      9.447e-05  6.087e-06   15.520  < 2e-16 ***\n",
       "following      5.536e-05  7.570e-06    7.313 2.61e-13 ***\n",
       "hashtag_count -1.071e-03  1.734e-04   -6.173 6.72e-10 ***\n",
       "url_count     -2.759e-03  1.919e-04  -14.378  < 2e-16 ***\n",
       "---\n",
       "Signif. codes:  0 ‘***’ 0.001 ‘**’ 0.01 ‘*’ 0.05 ‘.’ 0.1 ‘ ’ 1\n",
       "\n",
       "(Dispersion parameter for binomial family taken to be 1)\n",
       "\n",
       "    Null deviance: 612748  on 443106  degrees of freedom\n",
       "Residual deviance: 476059  on 443100  degrees of freedom\n",
       "AIC: 476073\n",
       "\n",
       "Number of Fisher Scoring iterations: 6\n"
      ]
     },
     "metadata": {},
     "output_type": "display_data"
    }
   ],
   "source": [
    "summary(m_ps)"
   ]
  },
  {
   "cell_type": "code",
   "execution_count": 24,
   "metadata": {},
   "outputs": [],
   "source": [
    "prs_df <- data.frame(pr_score = predict(m_ps, type = \"response\"),\n",
    "                     friends_with_bridge = m_ps$model$friends_with_bridge)"
   ]
  },
  {
   "cell_type": "code",
   "execution_count": 30,
   "metadata": {},
   "outputs": [],
   "source": [
    "new_frame <- data.frame(data, pr_score = predict(m_ps, type = \"response\"))"
   ]
  },
  {
   "cell_type": "code",
   "execution_count": 31,
   "metadata": {},
   "outputs": [
    {
     "name": "stdout",
     "output_type": "stream",
     "text": [
      "function () \n",
      "{\n",
      "    for (fun in getHook(\"before.plot.new\")) {\n",
      "        if (is.character(fun)) \n",
      "            fun <- get(fun)\n",
      "        try(fun())\n",
      "    }\n",
      "    .External2(C_plot_new)\n",
      "    grDevices:::recordPalette()\n",
      "    for (fun in getHook(\"plot.new\")) {\n",
      "        if (is.character(fun)) \n",
      "            fun <- get(fun)\n",
      "        try(fun())\n",
      "    }\n",
      "    invisible()\n",
      "}\n",
      "<bytecode: 0x5585dfba7fa0>\n",
      "<environment: namespace:graphics>\n"
     ]
    }
   ],
   "source": [
    "head(new_frame)"
   ]
  },
  {
   "cell_type": "code",
   "execution_count": 25,
   "metadata": {},
   "outputs": [
    {
     "data": {
      "text/html": [
       "<table>\n",
       "<thead><tr><th scope=col>pr_score</th><th scope=col>friends_with_bridge</th></tr></thead>\n",
       "<tbody>\n",
       "\t<tr><td>0.7954549</td><td>1        </td></tr>\n",
       "\t<tr><td>0.3225518</td><td>1        </td></tr>\n",
       "\t<tr><td>0.5568285</td><td>0        </td></tr>\n",
       "\t<tr><td>0.2737616</td><td>0        </td></tr>\n",
       "\t<tr><td>0.2904300</td><td>1        </td></tr>\n",
       "\t<tr><td>0.5617730</td><td>1        </td></tr>\n",
       "</tbody>\n",
       "</table>\n"
      ],
      "text/latex": [
       "\\begin{tabular}{r|ll}\n",
       " pr\\_score & friends\\_with\\_bridge\\\\\n",
       "\\hline\n",
       "\t 0.7954549 & 1        \\\\\n",
       "\t 0.3225518 & 1        \\\\\n",
       "\t 0.5568285 & 0        \\\\\n",
       "\t 0.2737616 & 0        \\\\\n",
       "\t 0.2904300 & 1        \\\\\n",
       "\t 0.5617730 & 1        \\\\\n",
       "\\end{tabular}\n"
      ],
      "text/markdown": [
       "\n",
       "| pr_score | friends_with_bridge |\n",
       "|---|---|\n",
       "| 0.7954549 | 1         |\n",
       "| 0.3225518 | 1         |\n",
       "| 0.5568285 | 0         |\n",
       "| 0.2737616 | 0         |\n",
       "| 0.2904300 | 1         |\n",
       "| 0.5617730 | 1         |\n",
       "\n"
      ],
      "text/plain": [
       "  pr_score  friends_with_bridge\n",
       "1 0.7954549 1                  \n",
       "2 0.3225518 1                  \n",
       "3 0.5568285 0                  \n",
       "4 0.2737616 0                  \n",
       "5 0.2904300 1                  \n",
       "6 0.5617730 1                  "
      ]
     },
     "metadata": {},
     "output_type": "display_data"
    }
   ],
   "source": [
    "head(prs_df)"
   ]
  },
  {
   "cell_type": "code",
   "execution_count": 26,
   "metadata": {},
   "outputs": [
    {
     "name": "stderr",
     "output_type": "stream",
     "text": [
      "`stat_bin()` using `bins = 30`. Pick better value with `binwidth`.\n"
     ]
    },
    {
     "data": {
      "image/png": "[encoded data removed]",
      "text/plain": [
       "plot without title"
      ]
     },
     "metadata": {},
     "output_type": "display_data"
    }
   ],
   "source": [
    "labs <- paste(\"Friends with bridge?:\", c(\"Friend\", \"Not friend\"))\n",
    "prs_df %>%\n",
    "  mutate(friends_with_bridge = ifelse(friends_with_bridge == 1, labs[1], labs[2])) %>%\n",
    "  ggplot(aes(x = pr_score)) +\n",
    "  geom_histogram(color = \"white\") +\n",
    "  facet_wrap(~friends_with_bridge) +\n",
    "  xlab(\"Probability of being friends with a bridge\") +\n",
    "  theme_bw()"
   ]
  },
  {
   "cell_type": "code",
   "execution_count": 29,
   "metadata": {},
   "outputs": [
    {
     "name": "stderr",
     "output_type": "stream",
     "text": [
      "Warning message:\n",
      "“glm.fit: fitted probabilities numerically 0 or 1 occurred”"
     ]
    }
   ],
   "source": [
    "mod_match <- matchit(friends_with_bridge ~ num_tweets + degree + followers + following + hashtag_count + url_count,\n",
    "                     method = \"nearest\", data = data) "
   ]
  },
  {
   "cell_type": "code",
   "execution_count": null,
   "metadata": {},
   "outputs": [],
   "source": [
    "dta_m <- match.data(mod_match)\n",
    "dim(dta_m)"
   ]
  },
  {
   "cell_type": "code",
   "execution_count": null,
   "metadata": {},
   "outputs": [],
   "source": [
    "head(dta_m)"
   ]
  },
  {
   "cell_type": "code",
   "execution_count": null,
   "metadata": {},
   "outputs": [],
   "source": [
    "write.table(dta_m, file = \"/shared/0/projects/cross-lingual-exchange/data/dataframes/matched_df.tsv\", sep='\\t', col.names = NA)"
   ]
  },
  {
   "cell_type": "code",
   "execution_count": null,
   "metadata": {},
   "outputs": [],
   "source": [
    "mod_match.out <- mod_match$match.matrix "
   ]
  },
  {
   "cell_type": "code",
   "execution_count": null,
   "metadata": {},
   "outputs": [],
   "source": [
    "mod_match.out"
   ]
  },
  {
   "cell_type": "code",
   "execution_count": null,
   "metadata": {},
   "outputs": [],
   "source": [
    "write.table(mod_match.out, file = \"/shared/0/projects/cross-lingual-exchange/data/dataframes/matched_pairs.tsv\", sep='\\t', col.names = NA)"
   ]
  },
  {
   "cell_type": "code",
   "execution_count": null,
   "metadata": {},
   "outputs": [],
   "source": [
    "summary(mod_match)"
   ]
  },
  {
   "cell_type": "code",
   "execution_count": null,
   "metadata": {},
   "outputs": [],
   "source": []
  }
 ],
 "metadata": {
  "kernelspec": {
   "display_name": "R",
   "language": "R",
   "name": "ir"
  },
  "language_info": {
   "codemirror_mode": "r",
   "file_extension": ".r",
   "mimetype": "text/x-r-source",
   "name": "R",
   "pygments_lexer": "r",
   "version": "3.6.1"
  }
 },
 "nbformat": 4,
 "nbformat_minor": 2
}
