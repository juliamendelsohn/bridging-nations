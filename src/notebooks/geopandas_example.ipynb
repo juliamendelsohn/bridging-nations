{
 "cells": [
  {
   "cell_type": "code",
   "execution_count": 20,
   "metadata": {},
   "outputs": [],
   "source": [
    "import pandas as pd\n",
    "import gzip\n",
    "from collections import *\n",
    "from networkx.algorithms import swap\n",
    "import networkx as nx\n",
    "from networkx.algorithms import community\n",
    "import geopandas\n",
    "from shapely.geometry import Point\n",
    "from geopandas.tools import sjoin"
   ]
  },
  {
   "cell_type": "code",
   "execution_count": 12,
   "metadata": {},
   "outputs": [
    {
     "name": "stdout",
     "output_type": "stream",
     "text": [
      "Saw 10000000 locations; 2277844 in US\n",
      "Saw 20000000 locations; 4547861 in US\n",
      "Saw 30000000 locations; 6692686 in US\n",
      "Saw 40000000 locations; 8635052 in US\n",
      "Saw 50000000 locations; 10589652 in US\n",
      "Saw 60000000 locations; 12561177 in US\n",
      "Saw 70000000 locations; 14506475 in US\n",
      "Saw 80000000 locations; 16400642 in US\n",
      "Saw 90000000 locations; 18414424 in US\n",
      "Saw 100000000 locations; 20795317 in US\n",
      "Saw 110000000 locations; 23603180 in US\n"
     ]
    }
   ],
   "source": [
    "uid_to_loc = {}\n",
    "\n",
    "# Only get US folks\n",
    "with open('/shared/0/projects/location-inference/data/user-to-location.inferred.with-names.tsv') as f:\n",
    "    for line_no, line in enumerate(f, 1):\n",
    "        cols = line.split('\\t')\n",
    "        country = cols[5]\n",
    "        \n",
    "        if line_no % 10000000 == 0:\n",
    "            print('Saw %d locations; %d in US' % (line_no, len(uid_to_loc)))\n",
    "        \n",
    "        if country != 'US':\n",
    "            continue\n",
    "        uid = int(cols[0])\n",
    "        loc = tuple(cols[1:6])\n",
    "        uid_to_loc[uid] = loc"
   ]
  },
  {
   "cell_type": "code",
   "execution_count": null,
   "metadata": {},
   "outputs": [
    {
     "name": "stdout",
     "output_type": "stream",
     "text": [
      "Saw 10000000 edges; 1647868 between 1569260 users in US\n",
      "Saw 20000000 edges; 3291418 between 2760048 users in US\n",
      "Saw 30000000 edges; 4949515 between 3746987 users in US\n",
      "Saw 40000000 edges; 6600789 between 4590032 users in US\n",
      "Saw 50000000 edges; 8241438 between 5331878 users in US\n",
      "Saw 60000000 edges; 9896997 between 6003730 users in US\n",
      "Saw 70000000 edges; 11559807 between 6614145 users in US\n",
      "Saw 80000000 edges; 13210719 between 7173757 users in US\n",
      "Saw 90000000 edges; 14868118 between 7695452 users in US\n",
      "Saw 100000000 edges; 16527745 between 8182358 users in US\n"
     ]
    }
   ],
   "source": [
    "mention_network = defaultdict(list)\n",
    "g = nx.Graph()\n",
    "size = 0\n",
    "with gzip.open('/shared/0/projects/location-inference/data/mention-network.tsv.gz', 'rt') as f:\n",
    "    for line_no, line in enumerate(f, 1):\n",
    "        cols = line[:-1].split('\\t')\n",
    "        uid1 = int(cols[0])\n",
    "        \n",
    "        if line_no % 10000000 == 0:\n",
    "            print(\"Saw %d edges; %d between %d users in US\" % (line_no, size, len(mention_network)))\n",
    "        \n",
    "        if uid1 not in uid_to_loc:\n",
    "            continue\n",
    "        uid2 = int(cols[1])\n",
    "        if uid2 not in uid_to_loc:\n",
    "            continue     \n",
    "            \n",
    "        weight = int(cols[2])\n",
    "        mention_network[uid1].append(uid2)\n",
    "        mention_network[uid2].append(uid1)\n",
    "        g.add_edge(uid1, uid2, weight=weight)\n",
    "        g.add_edge(uid2, uid1, weight=weight)\n",
    "        size += 1"
   ]
  },
  {
   "cell_type": "code",
   "execution_count": 8,
   "metadata": {},
   "outputs": [
    {
     "name": "stdout",
     "output_type": "stream",
     "text": [
      "22464131\n"
     ]
    }
   ],
   "source": [
    "print(len(g))"
   ]
  },
  {
   "cell_type": "code",
   "execution_count": 9,
   "metadata": {},
   "outputs": [
    {
     "data": {
      "text/html": [
       "<div>\n",
       "<style scoped>\n",
       "    .dataframe tbody tr th:only-of-type {\n",
       "        vertical-align: middle;\n",
       "    }\n",
       "\n",
       "    .dataframe tbody tr th {\n",
       "        vertical-align: top;\n",
       "    }\n",
       "\n",
       "    .dataframe thead th {\n",
       "        text-align: right;\n",
       "    }\n",
       "</style>\n",
       "<table border=\"1\" class=\"dataframe\">\n",
       "  <thead>\n",
       "    <tr style=\"text-align: right;\">\n",
       "      <th></th>\n",
       "      <th>CSAFP</th>\n",
       "      <th>CBSAFP</th>\n",
       "      <th>GEOID</th>\n",
       "      <th>NAME</th>\n",
       "      <th>NAMELSAD</th>\n",
       "      <th>LSAD</th>\n",
       "      <th>MEMI</th>\n",
       "      <th>MTFCC</th>\n",
       "      <th>ALAND</th>\n",
       "      <th>AWATER</th>\n",
       "      <th>INTPTLAT</th>\n",
       "      <th>INTPTLON</th>\n",
       "      <th>geometry</th>\n",
       "    </tr>\n",
       "  </thead>\n",
       "  <tbody>\n",
       "    <tr>\n",
       "      <th>0</th>\n",
       "      <td>462</td>\n",
       "      <td>40340</td>\n",
       "      <td>40340</td>\n",
       "      <td>Rochester, MN</td>\n",
       "      <td>Rochester, MN Metro Area</td>\n",
       "      <td>M1</td>\n",
       "      <td>1</td>\n",
       "      <td>G3110</td>\n",
       "      <td>6415412346</td>\n",
       "      <td>75315930</td>\n",
       "      <td>+43.9499166</td>\n",
       "      <td>-092.3356986</td>\n",
       "      <td>POLYGON ((-92.67871699999999 44.195516, -92.67...</td>\n",
       "    </tr>\n",
       "    <tr>\n",
       "      <th>1</th>\n",
       "      <td>450</td>\n",
       "      <td>39580</td>\n",
       "      <td>39580</td>\n",
       "      <td>Raleigh, NC</td>\n",
       "      <td>Raleigh, NC Metro Area</td>\n",
       "      <td>M1</td>\n",
       "      <td>1</td>\n",
       "      <td>G3110</td>\n",
       "      <td>5485063049</td>\n",
       "      <td>76967367</td>\n",
       "      <td>+35.7567464</td>\n",
       "      <td>-078.4604412</td>\n",
       "      <td>POLYGON ((-78.546414 36.021826, -78.5464059999...</td>\n",
       "    </tr>\n",
       "  </tbody>\n",
       "</table>\n",
       "</div>"
      ],
      "text/plain": [
       "  CSAFP CBSAFP  GEOID           NAME                  NAMELSAD LSAD MEMI  \\\n",
       "0   462  40340  40340  Rochester, MN  Rochester, MN Metro Area   M1    1   \n",
       "1   450  39580  39580    Raleigh, NC    Raleigh, NC Metro Area   M1    1   \n",
       "\n",
       "   MTFCC       ALAND    AWATER     INTPTLAT      INTPTLON  \\\n",
       "0  G3110  6415412346  75315930  +43.9499166  -092.3356986   \n",
       "1  G3110  5485063049  76967367  +35.7567464  -078.4604412   \n",
       "\n",
       "                                            geometry  \n",
       "0  POLYGON ((-92.67871699999999 44.195516, -92.67...  \n",
       "1  POLYGON ((-78.546414 36.021826, -78.5464059999...  "
      ]
     },
     "execution_count": 9,
     "metadata": {},
     "output_type": "execute_result"
    }
   ],
   "source": [
    "msa_gdf = gpd.GeoDataFrame.from_file(\"../data/tl_2017_us_cbsa.shp\")\n",
    "# The first element\n",
    "msa_gdf.head(2)"
   ]
  },
  {
   "cell_type": "code",
   "execution_count": 19,
   "metadata": {},
   "outputs": [],
   "source": [
    "user_df = defaultdict(list)\n",
    "for uid, loc in uid_to_loc.items():\n",
    "    user_df['user'].append(uid)\n",
    "    try:\n",
    "        user_df['Latitude'].append(float(loc[0]))\n",
    "        user_df['Longitude'].append(float(loc[1]))\n",
    "    except ValueError as e:\n",
    "        print(loc)\n",
    "user_df = pd.DataFrame(user_df)\n",
    "user_df['Coordinates'] = list(zip(user_df.Longitude, user_df.Latitude))\n",
    "user_df['Coordinates'] = user_df['Coordinates'].apply(Point)\n",
    "user_gdf = gpd.GeoDataFrame(user_df, geometry='Coordinates')"
   ]
  },
  {
   "cell_type": "code",
   "execution_count": null,
   "metadata": {},
   "outputs": [
    {
     "name": "stderr",
     "output_type": "stream",
     "text": [
      "/home/jurgens/anaconda3/envs/geopandas/lib/python3.7/site-packages/geopandas/tools/sjoin.py:44: UserWarning: CRS of frames being joined does not match!\n",
      "  warn('CRS of frames being joined does not match!')\n"
     ]
    }
   ],
   "source": [
    "uids_with_msa_code = sjoin(user_gdf, msa_gdf[['NAMELSAD', 'GEOID', 'geometry']], how=\"inner\", op='intersects')\n",
    "uids_with_msa_code.head()"
   ]
  },
  {
   "cell_type": "code",
   "execution_count": 24,
   "metadata": {},
   "outputs": [
    {
     "name": "stdout",
     "output_type": "stream",
     "text": [
      "24216546\n",
      "23373998\n"
     ]
    }
   ],
   "source": [
    "print(len(user_df))\n",
    "print(len(uids_with_msa_code))"
   ]
  },
  {
   "cell_type": "code",
   "execution_count": 25,
   "metadata": {},
   "outputs": [
    {
     "data": {
      "text/html": [
       "<div>\n",
       "<style scoped>\n",
       "    .dataframe tbody tr th:only-of-type {\n",
       "        vertical-align: middle;\n",
       "    }\n",
       "\n",
       "    .dataframe tbody tr th {\n",
       "        vertical-align: top;\n",
       "    }\n",
       "\n",
       "    .dataframe thead th {\n",
       "        text-align: right;\n",
       "    }\n",
       "</style>\n",
       "<table border=\"1\" class=\"dataframe\">\n",
       "  <thead>\n",
       "    <tr style=\"text-align: right;\">\n",
       "      <th></th>\n",
       "      <th>user</th>\n",
       "      <th>Latitude</th>\n",
       "      <th>Longitude</th>\n",
       "      <th>Coordinates</th>\n",
       "      <th>index_right</th>\n",
       "      <th>NAMELSAD</th>\n",
       "      <th>GEOID</th>\n",
       "    </tr>\n",
       "  </thead>\n",
       "  <tbody>\n",
       "    <tr>\n",
       "      <th>0</th>\n",
       "      <td>421439774</td>\n",
       "      <td>35.220029</td>\n",
       "      <td>-97.491507</td>\n",
       "      <td>POINT (-97.49150663 35.22002857)</td>\n",
       "      <td>272</td>\n",
       "      <td>Oklahoma City, OK Metro Area</td>\n",
       "      <td>36420</td>\n",
       "    </tr>\n",
       "    <tr>\n",
       "      <th>11</th>\n",
       "      <td>421439708</td>\n",
       "      <td>35.340693</td>\n",
       "      <td>-97.473145</td>\n",
       "      <td>POINT (-97.47314453 35.34069293)</td>\n",
       "      <td>272</td>\n",
       "      <td>Oklahoma City, OK Metro Area</td>\n",
       "      <td>36420</td>\n",
       "    </tr>\n",
       "    <tr>\n",
       "      <th>150</th>\n",
       "      <td>421437993</td>\n",
       "      <td>35.630342</td>\n",
       "      <td>-97.350439</td>\n",
       "      <td>POINT (-97.35043858 35.63034219)</td>\n",
       "      <td>272</td>\n",
       "      <td>Oklahoma City, OK Metro Area</td>\n",
       "      <td>36420</td>\n",
       "    </tr>\n",
       "    <tr>\n",
       "      <th>219</th>\n",
       "      <td>2802</td>\n",
       "      <td>35.221020</td>\n",
       "      <td>-97.439638</td>\n",
       "      <td>POINT (-97.43963812 35.22102033)</td>\n",
       "      <td>272</td>\n",
       "      <td>Oklahoma City, OK Metro Area</td>\n",
       "      <td>36420</td>\n",
       "    </tr>\n",
       "    <tr>\n",
       "      <th>490</th>\n",
       "      <td>842872824</td>\n",
       "      <td>35.599118</td>\n",
       "      <td>-98.120128</td>\n",
       "      <td>POINT (-98.12012799999999 35.599118)</td>\n",
       "      <td>272</td>\n",
       "      <td>Oklahoma City, OK Metro Area</td>\n",
       "      <td>36420</td>\n",
       "    </tr>\n",
       "  </tbody>\n",
       "</table>\n",
       "</div>"
      ],
      "text/plain": [
       "          user   Latitude  Longitude                           Coordinates  \\\n",
       "0    421439774  35.220029 -97.491507      POINT (-97.49150663 35.22002857)   \n",
       "11   421439708  35.340693 -97.473145      POINT (-97.47314453 35.34069293)   \n",
       "150  421437993  35.630342 -97.350439      POINT (-97.35043858 35.63034219)   \n",
       "219       2802  35.221020 -97.439638      POINT (-97.43963812 35.22102033)   \n",
       "490  842872824  35.599118 -98.120128  POINT (-98.12012799999999 35.599118)   \n",
       "\n",
       "     index_right                      NAMELSAD  GEOID  \n",
       "0            272  Oklahoma City, OK Metro Area  36420  \n",
       "11           272  Oklahoma City, OK Metro Area  36420  \n",
       "150          272  Oklahoma City, OK Metro Area  36420  \n",
       "219          272  Oklahoma City, OK Metro Area  36420  \n",
       "490          272  Oklahoma City, OK Metro Area  36420  "
      ]
     },
     "execution_count": 25,
     "metadata": {},
     "output_type": "execute_result"
    }
   ],
   "source": [
    "uids_with_msa_code.head()"
   ]
  },
  {
   "cell_type": "code",
   "execution_count": 26,
   "metadata": {},
   "outputs": [],
   "source": [
    "uids_with_msa_code.to_csv('../data/us-users-with-msa.tsv', sep='\\t')"
   ]
  },
  {
   "cell_type": "code",
   "execution_count": 34,
   "metadata": {},
   "outputs": [
    {
     "name": "stdout",
     "output_type": "stream",
     "text": [
      "Loaded 1000000 users\n",
      "Loaded 2000000 users\n",
      "Loaded 3000000 users\n",
      "Loaded 4000000 users\n",
      "Loaded 5000000 users\n",
      "Loaded 6000000 users\n",
      "Loaded 7000000 users\n",
      "Loaded 8000000 users\n",
      "Loaded 9000000 users\n",
      "Loaded 10000000 users\n",
      "Loaded 11000000 users\n",
      "Loaded 12000000 users\n",
      "Loaded 13000000 users\n",
      "Loaded 14000000 users\n",
      "Loaded 15000000 users\n",
      "Loaded 16000000 users\n",
      "Loaded 17000000 users\n",
      "Loaded 18000000 users\n",
      "Loaded 19000000 users\n",
      "Loaded 20000000 users\n",
      "Loaded 21000000 users\n",
      "Loaded 22000000 users\n",
      "Loaded 23000000 users\n"
     ]
    }
   ],
   "source": [
    "user_to_msa = {}\n",
    "#for i, row in uids_with_msa_code.iterrows():\n",
    "#    user_to_msa[row['user']] = row['NAMELSAD']\n",
    "for i, row in enumerate(uids_with_msa_code.itertuples(), 1):\n",
    "    user_to_msa[row[1]] = row[6]\n",
    "    if i % 1000000 == 0:\n",
    "        print('Loaded %d users' % len(user_to_msa))"
   ]
  },
  {
   "cell_type": "code",
   "execution_count": 35,
   "metadata": {},
   "outputs": [
    {
     "name": "stdout",
     "output_type": "stream",
     "text": [
      "23373998\n"
     ]
    }
   ],
   "source": [
    "print(len(user_to_msa))"
   ]
  },
  {
   "cell_type": "code",
   "execution_count": 36,
   "metadata": {},
   "outputs": [],
   "source": [
    "def get_msa(uid):\n",
    "    if uid in user_to_msa:\n",
    "        return user_to_msa[uid]\n",
    "    else:\n",
    "        return 'None'\n",
    "user_df['MSA'] = user_df['user'].apply(get_msa)"
   ]
  },
  {
   "cell_type": "code",
   "execution_count": 37,
   "metadata": {},
   "outputs": [
    {
     "data": {
      "text/html": [
       "<div>\n",
       "<style scoped>\n",
       "    .dataframe tbody tr th:only-of-type {\n",
       "        vertical-align: middle;\n",
       "    }\n",
       "\n",
       "    .dataframe tbody tr th {\n",
       "        vertical-align: top;\n",
       "    }\n",
       "\n",
       "    .dataframe thead th {\n",
       "        text-align: right;\n",
       "    }\n",
       "</style>\n",
       "<table border=\"1\" class=\"dataframe\">\n",
       "  <thead>\n",
       "    <tr style=\"text-align: right;\">\n",
       "      <th></th>\n",
       "      <th>user</th>\n",
       "      <th>Latitude</th>\n",
       "      <th>Longitude</th>\n",
       "      <th>Coordinates</th>\n",
       "      <th>MSA</th>\n",
       "    </tr>\n",
       "  </thead>\n",
       "  <tbody>\n",
       "    <tr>\n",
       "      <th>0</th>\n",
       "      <td>421439774</td>\n",
       "      <td>35.220029</td>\n",
       "      <td>-97.491507</td>\n",
       "      <td>POINT (-97.49150663 35.22002857)</td>\n",
       "      <td>Oklahoma City, OK Metro Area</td>\n",
       "    </tr>\n",
       "    <tr>\n",
       "      <th>1</th>\n",
       "      <td>421439767</td>\n",
       "      <td>42.483664</td>\n",
       "      <td>-83.024755</td>\n",
       "      <td>POINT (-83.02475475999999 42.48366445)</td>\n",
       "      <td>Detroit-Warren-Dearborn, MI Metro Area</td>\n",
       "    </tr>\n",
       "    <tr>\n",
       "      <th>2</th>\n",
       "      <td>421439782</td>\n",
       "      <td>42.099333</td>\n",
       "      <td>-72.557598</td>\n",
       "      <td>POINT (-72.55759844000001 42.09933324)</td>\n",
       "      <td>Springfield, MA Metro Area</td>\n",
       "    </tr>\n",
       "    <tr>\n",
       "      <th>3</th>\n",
       "      <td>17</td>\n",
       "      <td>37.750265</td>\n",
       "      <td>-122.202902</td>\n",
       "      <td>POINT (-122.20290184 37.75026469)</td>\n",
       "      <td>San Francisco-Oakland-Hayward, CA Metro Area</td>\n",
       "    </tr>\n",
       "    <tr>\n",
       "      <th>4</th>\n",
       "      <td>21</td>\n",
       "      <td>37.735392</td>\n",
       "      <td>-122.506313</td>\n",
       "      <td>POINT (-122.50631332 37.73539224)</td>\n",
       "      <td>San Francisco-Oakland-Hayward, CA Metro Area</td>\n",
       "    </tr>\n",
       "  </tbody>\n",
       "</table>\n",
       "</div>"
      ],
      "text/plain": [
       "        user   Latitude   Longitude                             Coordinates  \\\n",
       "0  421439774  35.220029  -97.491507        POINT (-97.49150663 35.22002857)   \n",
       "1  421439767  42.483664  -83.024755  POINT (-83.02475475999999 42.48366445)   \n",
       "2  421439782  42.099333  -72.557598  POINT (-72.55759844000001 42.09933324)   \n",
       "3         17  37.750265 -122.202902       POINT (-122.20290184 37.75026469)   \n",
       "4         21  37.735392 -122.506313       POINT (-122.50631332 37.73539224)   \n",
       "\n",
       "                                            MSA  \n",
       "0                  Oklahoma City, OK Metro Area  \n",
       "1        Detroit-Warren-Dearborn, MI Metro Area  \n",
       "2                    Springfield, MA Metro Area  \n",
       "3  San Francisco-Oakland-Hayward, CA Metro Area  \n",
       "4  San Francisco-Oakland-Hayward, CA Metro Area  "
      ]
     },
     "execution_count": 37,
     "metadata": {},
     "output_type": "execute_result"
    }
   ],
   "source": [
    "user_df.head()"
   ]
  },
  {
   "cell_type": "code",
   "execution_count": null,
   "metadata": {},
   "outputs": [
    {
     "name": "stdout",
     "output_type": "stream",
     "text": [
      "loaded 500000 lines\n",
      "loaded 1000000 lines\n",
      "loaded 1500000 lines\n",
      "loaded 2000000 lines\n",
      "loaded 2500000 lines\n",
      "loaded 3000000 lines\n",
      "loaded 3500000 lines\n",
      "loaded 4000000 lines\n",
      "loaded 4500000 lines\n",
      "loaded 5000000 lines\n",
      "loaded 5500000 lines\n",
      "loaded 6000000 lines\n",
      "loaded 6500000 lines\n",
      "loaded 7000000 lines\n",
      "loaded 7500000 lines\n"
     ]
    }
   ],
   "source": [
    "uid_to_block = {}\n",
    "with gzip.open('/shared/0/projects/ses/agg_user_data.gz', 'rt') as f:\n",
    "    for line_no, line in enumerate(f, 1):\n",
    "        cols = line.split('\\t')\n",
    "        uid = int(cols[0])\n",
    "        block = cols[1]\n",
    "        uid_to_block[uid] = block\n",
    "        if line_no % 500000 == 0:\n",
    "            print('loaded %d lines' % line_no)\n",
    "print(len(uid_to_block))"
   ]
  },
  {
   "cell_type": "code",
   "execution_count": 40,
   "metadata": {},
   "outputs": [],
   "source": [
    "def get_block(uid):\n",
    "    if uid in uid_to_block:\n",
    "        return uid_to_block[uid]\n",
    "    else:\n",
    "        return float('nan')\n",
    "user_df['Block_ID'] = user_df['user'].apply(get_block)"
   ]
  },
  {
   "cell_type": "code",
   "execution_count": 48,
   "metadata": {},
   "outputs": [
    {
     "name": "stdout",
     "output_type": "stream",
     "text": [
      "15548003\n",
      "24216546\n"
     ]
    }
   ],
   "source": [
    "print(len(uid_to_block))\n",
    "print(len(user_df))"
   ]
  },
  {
   "cell_type": "code",
   "execution_count": null,
   "metadata": {},
   "outputs": [],
   "source": []
  },
  {
   "cell_type": "code",
   "execution_count": 41,
   "metadata": {},
   "outputs": [
    {
     "data": {
      "text/html": [
       "<div>\n",
       "<style scoped>\n",
       "    .dataframe tbody tr th:only-of-type {\n",
       "        vertical-align: middle;\n",
       "    }\n",
       "\n",
       "    .dataframe tbody tr th {\n",
       "        vertical-align: top;\n",
       "    }\n",
       "\n",
       "    .dataframe thead th {\n",
       "        text-align: right;\n",
       "    }\n",
       "</style>\n",
       "<table border=\"1\" class=\"dataframe\">\n",
       "  <thead>\n",
       "    <tr style=\"text-align: right;\">\n",
       "      <th></th>\n",
       "      <th>user</th>\n",
       "      <th>Latitude</th>\n",
       "      <th>Longitude</th>\n",
       "      <th>Coordinates</th>\n",
       "      <th>MSA</th>\n",
       "      <th>Block_ID</th>\n",
       "    </tr>\n",
       "  </thead>\n",
       "  <tbody>\n",
       "    <tr>\n",
       "      <th>0</th>\n",
       "      <td>421439774</td>\n",
       "      <td>35.220029</td>\n",
       "      <td>-97.491507</td>\n",
       "      <td>POINT (-97.49150663 35.22002857)</td>\n",
       "      <td>Oklahoma City, OK Metro Area</td>\n",
       "      <td>15000US400272015073</td>\n",
       "    </tr>\n",
       "    <tr>\n",
       "      <th>1</th>\n",
       "      <td>421439767</td>\n",
       "      <td>42.483664</td>\n",
       "      <td>-83.024755</td>\n",
       "      <td>POINT (-83.02475475999999 42.48366445)</td>\n",
       "      <td>Detroit-Warren-Dearborn, MI Metro Area</td>\n",
       "      <td>15000US260992680002</td>\n",
       "    </tr>\n",
       "    <tr>\n",
       "      <th>2</th>\n",
       "      <td>421439782</td>\n",
       "      <td>42.099333</td>\n",
       "      <td>-72.557598</td>\n",
       "      <td>POINT (-72.55759844000001 42.09933324)</td>\n",
       "      <td>Springfield, MA Metro Area</td>\n",
       "      <td>NaN</td>\n",
       "    </tr>\n",
       "    <tr>\n",
       "      <th>3</th>\n",
       "      <td>17</td>\n",
       "      <td>37.750265</td>\n",
       "      <td>-122.202902</td>\n",
       "      <td>POINT (-122.20290184 37.75026469)</td>\n",
       "      <td>San Francisco-Oakland-Hayward, CA Metro Area</td>\n",
       "      <td>NaN</td>\n",
       "    </tr>\n",
       "    <tr>\n",
       "      <th>4</th>\n",
       "      <td>21</td>\n",
       "      <td>37.735392</td>\n",
       "      <td>-122.506313</td>\n",
       "      <td>POINT (-122.50631332 37.73539224)</td>\n",
       "      <td>San Francisco-Oakland-Hayward, CA Metro Area</td>\n",
       "      <td>NaN</td>\n",
       "    </tr>\n",
       "  </tbody>\n",
       "</table>\n",
       "</div>"
      ],
      "text/plain": [
       "        user   Latitude   Longitude                             Coordinates  \\\n",
       "0  421439774  35.220029  -97.491507        POINT (-97.49150663 35.22002857)   \n",
       "1  421439767  42.483664  -83.024755  POINT (-83.02475475999999 42.48366445)   \n",
       "2  421439782  42.099333  -72.557598  POINT (-72.55759844000001 42.09933324)   \n",
       "3         17  37.750265 -122.202902       POINT (-122.20290184 37.75026469)   \n",
       "4         21  37.735392 -122.506313       POINT (-122.50631332 37.73539224)   \n",
       "\n",
       "                                            MSA             Block_ID  \n",
       "0                  Oklahoma City, OK Metro Area  15000US400272015073  \n",
       "1        Detroit-Warren-Dearborn, MI Metro Area  15000US260992680002  \n",
       "2                    Springfield, MA Metro Area                  NaN  \n",
       "3  San Francisco-Oakland-Hayward, CA Metro Area                  NaN  \n",
       "4  San Francisco-Oakland-Hayward, CA Metro Area                  NaN  "
      ]
     },
     "execution_count": 41,
     "metadata": {},
     "output_type": "execute_result"
    }
   ],
   "source": [
    "user_df.head()"
   ]
  },
  {
   "cell_type": "code",
   "execution_count": 49,
   "metadata": {},
   "outputs": [],
   "source": [
    "user_df[['user', 'MSA', 'Block_ID']].dropna()\\\n",
    "   .to_csv('/shared/1/projects/ses/data/user/user-census-loc.tsv', sep='\\t', index=False)"
   ]
  }
 ],
 "metadata": {
  "kernelspec": {
   "display_name": "Python 3",
   "language": "python",
   "name": "python3"
  },
  "language_info": {
   "codemirror_mode": {
    "name": "ipython",
    "version": 3
   },
   "file_extension": ".py",
   "mimetype": "text/x-python",
   "name": "python",
   "nbconvert_exporter": "python",
   "pygments_lexer": "ipython3",
   "version": "3.7.2"
  }
 },
 "nbformat": 4,
 "nbformat_minor": 2
}
