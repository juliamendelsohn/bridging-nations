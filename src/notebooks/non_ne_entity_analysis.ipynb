{
 "cells": [
  {
   "cell_type": "code",
   "execution_count": 2,
   "metadata": {},
   "outputs": [],
   "source": [
    "import ujson \n",
    "import operator\n",
    "import os\n",
    "from collections import *\n",
    "import glob\n",
    "import pandas as pd\n",
    "import re\n",
    "import networkx as nx\n",
    "from tqdm import tqdm"
   ]
  },
  {
   "cell_type": "code",
   "execution_count": null,
   "metadata": {},
   "outputs": [
    {
     "name": "stderr",
     "output_type": "stream",
     "text": [
      "  0%|          | 1/888 [00:01<27:02,  1.83s/it]"
     ]
    },
    {
     "name": "stdout",
     "output_type": "stream",
     "text": [
      "bug\n"
     ]
    },
    {
     "name": "stderr",
     "output_type": "stream",
     "text": [
      "\r",
      "  0%|          | 2/888 [00:02<20:03,  1.36s/it]"
     ]
    },
    {
     "name": "stdout",
     "output_type": "stream",
     "text": [
      "bug\n"
     ]
    },
    {
     "name": "stderr",
     "output_type": "stream",
     "text": [
      "\r",
      "  0%|          | 3/888 [00:03<18:27,  1.25s/it]"
     ]
    },
    {
     "name": "stdout",
     "output_type": "stream",
     "text": [
      "bug\n"
     ]
    },
    {
     "name": "stderr",
     "output_type": "stream",
     "text": [
      "\r",
      "  0%|          | 4/888 [00:03<15:45,  1.07s/it]"
     ]
    },
    {
     "name": "stdout",
     "output_type": "stream",
     "text": [
      "bug\n"
     ]
    },
    {
     "name": "stderr",
     "output_type": "stream",
     "text": [
      "\r",
      "  1%|          | 5/888 [00:04<14:03,  1.05it/s]"
     ]
    },
    {
     "name": "stdout",
     "output_type": "stream",
     "text": [
      "bug\n"
     ]
    },
    {
     "name": "stderr",
     "output_type": "stream",
     "text": [
      "\r",
      "  1%|          | 6/888 [00:05<14:37,  1.01it/s]"
     ]
    },
    {
     "name": "stdout",
     "output_type": "stream",
     "text": [
      "bug\n"
     ]
    },
    {
     "name": "stderr",
     "output_type": "stream",
     "text": [
      "\r",
      "  1%|          | 7/888 [00:06<13:03,  1.12it/s]"
     ]
    },
    {
     "name": "stdout",
     "output_type": "stream",
     "text": [
      "bug\n"
     ]
    },
    {
     "name": "stderr",
     "output_type": "stream",
     "text": [
      "\r",
      "  1%|          | 8/888 [00:06<12:01,  1.22it/s]"
     ]
    },
    {
     "name": "stdout",
     "output_type": "stream",
     "text": [
      "bug\n"
     ]
    },
    {
     "name": "stderr",
     "output_type": "stream",
     "text": [
      "\r",
      "  1%|          | 9/888 [00:07<11:27,  1.28it/s]"
     ]
    },
    {
     "name": "stdout",
     "output_type": "stream",
     "text": [
      "bug\n"
     ]
    },
    {
     "name": "stderr",
     "output_type": "stream",
     "text": [
      "\r",
      "  1%|          | 10/888 [00:08<12:48,  1.14it/s]"
     ]
    },
    {
     "name": "stdout",
     "output_type": "stream",
     "text": [
      "bug\n"
     ]
    },
    {
     "name": "stderr",
     "output_type": "stream",
     "text": [
      "\r",
      "  1%|          | 11/888 [00:09<11:45,  1.24it/s]"
     ]
    },
    {
     "name": "stdout",
     "output_type": "stream",
     "text": [
      "bug\n"
     ]
    },
    {
     "name": "stderr",
     "output_type": "stream",
     "text": [
      "\r",
      "  1%|▏         | 12/888 [00:09<11:17,  1.29it/s]"
     ]
    },
    {
     "name": "stdout",
     "output_type": "stream",
     "text": [
      "bug\n"
     ]
    },
    {
     "name": "stderr",
     "output_type": "stream",
     "text": [
      "\r",
      "  1%|▏         | 13/888 [00:10<11:00,  1.32it/s]"
     ]
    },
    {
     "name": "stdout",
     "output_type": "stream",
     "text": [
      "bug\n"
     ]
    },
    {
     "name": "stderr",
     "output_type": "stream",
     "text": [
      "\r",
      "  2%|▏         | 14/888 [00:11<10:45,  1.35it/s]"
     ]
    },
    {
     "name": "stdout",
     "output_type": "stream",
     "text": [
      "bug\n"
     ]
    },
    {
     "name": "stderr",
     "output_type": "stream",
     "text": [
      "\r",
      "  2%|▏         | 15/888 [00:12<10:39,  1.37it/s]"
     ]
    },
    {
     "name": "stdout",
     "output_type": "stream",
     "text": [
      "bug\n"
     ]
    },
    {
     "name": "stderr",
     "output_type": "stream",
     "text": [
      "\r",
      "  2%|▏         | 16/888 [00:13<11:44,  1.24it/s]"
     ]
    },
    {
     "name": "stdout",
     "output_type": "stream",
     "text": [
      "bug\n"
     ]
    },
    {
     "name": "stderr",
     "output_type": "stream",
     "text": [
      "\r",
      "  2%|▏         | 17/888 [00:13<10:21,  1.40it/s]"
     ]
    },
    {
     "name": "stdout",
     "output_type": "stream",
     "text": [
      "bug\n"
     ]
    },
    {
     "name": "stderr",
     "output_type": "stream",
     "text": [
      "\r",
      "  2%|▏         | 18/888 [00:14<10:10,  1.42it/s]"
     ]
    },
    {
     "name": "stdout",
     "output_type": "stream",
     "text": [
      "bug\n"
     ]
    },
    {
     "name": "stderr",
     "output_type": "stream",
     "text": [
      "  2%|▏         | 20/888 [00:15<09:13,  1.57it/s]"
     ]
    },
    {
     "name": "stdout",
     "output_type": "stream",
     "text": [
      "bug\n"
     ]
    },
    {
     "name": "stderr",
     "output_type": "stream",
     "text": [
      "\r",
      "  2%|▏         | 21/888 [00:16<11:12,  1.29it/s]"
     ]
    },
    {
     "name": "stdout",
     "output_type": "stream",
     "text": [
      "bug\n"
     ]
    },
    {
     "name": "stderr",
     "output_type": "stream",
     "text": [
      "\r",
      "  2%|▏         | 22/888 [00:17<11:16,  1.28it/s]"
     ]
    },
    {
     "name": "stdout",
     "output_type": "stream",
     "text": [
      "bug\n"
     ]
    },
    {
     "name": "stderr",
     "output_type": "stream",
     "text": [
      "\r",
      "  3%|▎         | 23/888 [00:17<10:42,  1.35it/s]"
     ]
    },
    {
     "name": "stdout",
     "output_type": "stream",
     "text": [
      "bug\n"
     ]
    },
    {
     "name": "stderr",
     "output_type": "stream",
     "text": [
      "\r",
      "  3%|▎         | 24/888 [00:18<10:44,  1.34it/s]"
     ]
    },
    {
     "name": "stdout",
     "output_type": "stream",
     "text": [
      "bug\n"
     ]
    },
    {
     "name": "stderr",
     "output_type": "stream",
     "text": [
      "\r",
      "  3%|▎         | 25/888 [00:19<10:24,  1.38it/s]"
     ]
    },
    {
     "name": "stdout",
     "output_type": "stream",
     "text": [
      "bug\n"
     ]
    },
    {
     "name": "stderr",
     "output_type": "stream",
     "text": [
      "\r",
      "  3%|▎         | 26/888 [00:20<11:54,  1.21it/s]"
     ]
    },
    {
     "name": "stdout",
     "output_type": "stream",
     "text": [
      "bug\n"
     ]
    },
    {
     "name": "stderr",
     "output_type": "stream",
     "text": [
      "\r",
      "  3%|▎         | 27/888 [00:21<11:16,  1.27it/s]"
     ]
    },
    {
     "name": "stdout",
     "output_type": "stream",
     "text": [
      "bug\n"
     ]
    },
    {
     "name": "stderr",
     "output_type": "stream",
     "text": [
      "\r",
      "  3%|▎         | 28/888 [00:21<10:47,  1.33it/s]"
     ]
    },
    {
     "name": "stdout",
     "output_type": "stream",
     "text": [
      "bug\n"
     ]
    },
    {
     "name": "stderr",
     "output_type": "stream",
     "text": [
      "\r",
      "  3%|▎         | 29/888 [00:22<10:09,  1.41it/s]"
     ]
    },
    {
     "name": "stdout",
     "output_type": "stream",
     "text": [
      "bug\n"
     ]
    },
    {
     "name": "stderr",
     "output_type": "stream",
     "text": [
      "\r",
      "  3%|▎         | 30/888 [00:22<09:46,  1.46it/s]"
     ]
    }
   ],
   "source": [
    "os.chdir(\"/shared/0/projects/cross-lingual-exchange/data/relevant_tweets/DE/\")\n",
    "\n",
    "de_urls = {}\n",
    "\n",
    "for file in tqdm(glob.glob('*.json')):\n",
    "    with open(file, 'r') as f:\n",
    "        try:\n",
    "            data = ujson.load(f)\n",
    "            for user, user_tweets in data.items():\n",
    "                for tweet in user_tweets:\n",
    "                    for url in tweet[\"entities\"][\"urls\"]:\n",
    "                        if url['unwound']['url'] not in de_urls:\n",
    "                            de_urls[url['unwound']['url']] = [tweet]\n",
    "                        else:\n",
    "                            de_urls[url['unwound']['url']].append(tweet)\n"
   ]
  },
  {
   "cell_type": "code",
   "execution_count": null,
   "metadata": {},
   "outputs": [],
   "source": [
    "os.chdir(\"/shared/0/projects/cross-lingual-exchange/data/relevant_tweets/PL\")\n",
    "\n",
    "pl_urls = {}\n",
    "\n",
    "for file in tqdm(glob.glob('*.json')):\n",
    "    with open(file, 'r') as f:\n",
    "        try:\n",
    "            data = ujson.load(f)\n",
    "            for user, user_tweets in data.items():\n",
    "                for tweet in user_tweets:\n",
    "                    for url in tweet[\"entities\"][\"urls\"]:\n",
    "                        if url['unwound']['url'] not in pl_urls:\n",
    "                            pl_urls[url['unwound']['url']] = [tweet]\n",
    "                        else:\n",
    "                            pl_urls[url['unwound']['url']].append(tweet)\n",
    "            \n",
    "        except:\n",
    "            pass\n",
    "\n"
   ]
  },
  {
   "cell_type": "code",
   "execution_count": 7,
   "metadata": {},
   "outputs": [],
   "source": [
    "de_urls_set = set(de_urls)\n",
    "pl_urls_set = set(pl_urls)"
   ]
  },
  {
   "cell_type": "code",
   "execution_count": 12,
   "metadata": {},
   "outputs": [
    {
     "name": "stderr",
     "output_type": "stream",
     "text": [
      "IOPub data rate exceeded.\n",
      "The notebook server will temporarily stop sending output\n",
      "to the client in order to avoid crashing it.\n",
      "To change this limit, set the config variable\n",
      "`--NotebookApp.iopub_data_rate_limit`.\n",
      "\n",
      "Current values:\n",
      "NotebookApp.iopub_data_rate_limit=1000000.0 (bytes/sec)\n",
      "NotebookApp.rate_limit_window=3.0 (secs)\n",
      "\n"
     ]
    }
   ],
   "source": [
    "print(de_urls)"
   ]
  },
  {
   "cell_type": "code",
   "execution_count": 9,
   "metadata": {},
   "outputs": [],
   "source": [
    "intersection = de_urls_set.intersection(pl_urls_set)"
   ]
  },
  {
   "cell_type": "code",
   "execution_count": 20,
   "metadata": {},
   "outputs": [],
   "source": [
    "de_dict = {url: len(de_urls[url]) for url in de_urls}\n",
    "sorted_de_dict = sorted(de_dict.items(), key=lambda item: item[1], reverse=True)"
   ]
  },
  {
   "cell_type": "code",
   "execution_count": 22,
   "metadata": {},
   "outputs": [
    {
     "name": "stdout",
     "output_type": "stream",
     "text": [
      "[('https://www.ffd365.de/', 22714), ('https://du3a.org/', 83), ('https://www.logical3.eu/', 7), ('https://www.youtube.com/watch?v=e46hnPFKkwc&feature=youtu.be&a', 4), ('http://www.hunde-stories.de/hunderassen/mops.html', 4), ('http://www.hunde-stories.de/gesundheit/ballen-pflege.html', 3), ('https://www.twitch.tv/brain', 3), ('http://www.hunde-stories.de/krankheiten-parasiten/krankheiten.html', 2), ('http://www.hunde-stories.de/hund-und-mensch/hundehaare.html', 2), ('http://alathkar.org', 2), ('https://www.twitch.tv/brain/', 2), ('http://www.hunde-stories.de/gesundheit/hund-baden.html', 2), ('http://www.hunde-stories.de/geschichten/domestikation-hund-bonn-oberkassel.html', 2), ('http://www.hunde-stories.de/', 2), ('http://www.hunde-stories.de/sport-mit-hund/joggen-mit-hund.html', 2), ('http://www.hunde-stories.de/erziehung/rangordnung-rudel.html', 2), ('http://www.hunde-stories.de/geschichten/alle-voegel-fliegen-hoch.html', 2), ('http://www.hunde-stories.de/geschichten/toby-schleiereule.html', 2), ('https://www.n-tv.de/', 2), ('http://www.hunde-stories.de/verhaltensweisen/wille-durchsetzen.html', 2), ('http://www.hunde-stories.de/vergiftungen/vergiftung-schokolade.html', 2), ('https://www.eldiario.es/politica/Podemos-solucion-absoluto-Oficina-Asilo_0_839916577.html', 1), ('https://paper.li/touricana/1316873550?edition_id=2f97dad0-2443-11e8-9f8a-002590a5ba2d', 1), ('https://www.instagram.com/p/BgJyj0gjZbS/', 1), ('https://www.youtube.com/watch?v=HY-qjIZC2p0&feature=youtu.be&a', 1), ('https://kopp-report.de/donnerstag-06-09-2018-12-10-uhr/', 1), ('https://twitter.com/PrisonPlanet/status/1087478203441168384', 1), ('https://www.youtube.com/watch?v=wpzDeKR8LK0&feature=youtu.be&a', 1), ('https://twitter.com/Der_Postillon/status/1009820912009572353', 1), ('https://kopp-report.de/breitscheidplatz-vs-solingen-das-system-merkel-und-die-falschen-toten/', 1), ('https://medium.com/malt-community/comment-repenser-lorganisation-du-travail-%C3%A0-l-%C3%A2ge-des-freelances-1e2b8bfe15f6?source=rss-35f5caaa41c9------2', 1), ('https://www.handelsblatt.com/politik/international/evp-spitzenkandidat-weber-will-eu-beitrittsgespraeche-mit-tuerkei-beenden-und-loest-in-bruessel-kopfschuetteln-aus/23811630.html', 1), ('https://kopp-report.de/freitag-22-06-2018-09-20-uhr/', 1), ('https://www.swarmapp.com/c/dakZ9A2X0ug', 1), ('https://www.zeit.de/wirtschaft/2019-01/ruestung-waffenexporte-kriegswaffen-saudi-arabien-tuerkei-anstieg', 1), ('https://lagebesprech.podspot.de/post/lagebesprech-vom-09012019-zum-thema-wahrheit-und-journalismus?utm_source=dlvr.it&utm_medium=twitter', 1), ('https://paper.li/touricana/1316873550?edition_id=118c2800-17dd-11e9-aee0-002590a5ba2d', 1), ('https://kopp-report.de/frau-dr-merkel-gehoert-vom-platz-gestellt/', 1), ('http://www.hunde-stories.de/hund-und-mensch/baby-und-hund.html', 1), ('https://www.sabah.com.tr/', 1), ('https://www.youtube.com/watch?v=5bhDomUnYOo&feature=youtu.be&a', 1), ('https://kopp-report.de/dienstag-14-08-2018-13-20-uhr/', 1), ('https://www.buecherhallen.de/wilhelmsburg-blog-artikel/buecherhalle-wilhelmsburg-in-neuem-glanz.html', 1), ('https://www.suedkurier.de/region/kreis-konstanz/singen/Polizei-in-Singen-ermittelt-nach-Streit-mit-Messer;art372458,9990222', 1), ('https://ze.tt/diese-groessenvergleiche-ziehen-dir-die-schuhe-aus/', 1), ('https://www.youtube.com/watch?v=sxTnjiwQXZY&feature=youtu.be&a', 1), ('https://www.youtube.com/watch?v=F-LRrOnnzr8&feature=youtu.be&a', 1), ('https://www.youtube.com/watch?v=XQNMsxS4VLM&feature=youtu.be', 1), ('https://kopp-report.de/samstag-11-08-2018-08-50-uhr/', 1), ('https://kopp-report.de/samstag-08-09-2018-12-20-uhr/', 1)]\n"
     ]
    }
   ],
   "source": [
    "print([(url[0], url[1]) for url in sorted_de_dict[:50]])"
   ]
  },
  {
   "cell_type": "code",
   "execution_count": null,
   "metadata": {},
   "outputs": [],
   "source": [
    "url_tweets = {}\n",
    "for url in sorted_intersect_dict[:200]:\n",
    "    with open('/shared/0/projects/cross-lingual-exchange/data/urls/DE_PL/' + url[0] + '_de.txt', 'w+') as f:\n",
    "        for tweet in de_urls[url[0]]:\n",
    "            f.write(ujson.dumps(tweet))\n",
    "            f.write('\\n')\n",
    "    with open('/shared/0/projects/cross-lingual-exchange/data/urls/EN_PL/' + url[0] + '_pl.txt', 'w+') as f:\n",
    "        for tweet in pl_urls[url[0]]:\n",
    "            f.write(ujson.dumps(tweet))\n",
    "            f.write('\\n')"
   ]
  },
  {
   "cell_type": "code",
   "execution_count": null,
   "metadata": {},
   "outputs": [],
   "source": []
  }
 ],
 "metadata": {
  "kernelspec": {
   "display_name": "Python 3",
   "language": "python",
   "name": "python3"
  },
  "language_info": {
   "codemirror_mode": {
    "name": "ipython",
    "version": 3
   },
   "file_extension": ".py",
   "mimetype": "text/x-python",
   "name": "python",
   "nbconvert_exporter": "python",
   "pygments_lexer": "ipython3",
   "version": "3.7.4"
  }
 },
 "nbformat": 4,
 "nbformat_minor": 2
}
