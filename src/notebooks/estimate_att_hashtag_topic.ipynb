{
 "cells": [
  {
   "cell_type": "code",
   "execution_count": 20,
   "id": "63f37cbc",
   "metadata": {},
   "outputs": [
    {
     "name": "stderr",
     "output_type": "stream",
     "text": [
      "Loading required package: Matrix\n",
      "\n",
      "Warning message:\n",
      "“package ‘lmerTest’ was built under R version 3.6.3”\n",
      "\n",
      "Attaching package: ‘lmerTest’\n",
      "\n",
      "\n",
      "The following object is masked from ‘package:lme4’:\n",
      "\n",
      "    lmer\n",
      "\n",
      "\n",
      "The following object is masked from ‘package:stats’:\n",
      "\n",
      "    step\n",
      "\n",
      "\n",
      "Warning message:\n",
      "“package ‘stargazer’ was built under R version 3.6.3”\n",
      "\n",
      "Please cite as: \n",
      "\n",
      "\n",
      " Hlavac, Marek (2018). stargazer: Well-Formatted Regression and Summary Statistics Tables.\n",
      "\n",
      " R package version 5.2.2. https://CRAN.R-project.org/package=stargazer \n",
      "\n",
      "\n",
      "Warning message:\n",
      "“package ‘lmtest’ was built under R version 3.6.3”\n",
      "Loading required package: zoo\n",
      "\n",
      "\n",
      "Attaching package: ‘zoo’\n",
      "\n",
      "\n",
      "The following objects are masked from ‘package:base’:\n",
      "\n",
      "    as.Date, as.Date.numeric\n",
      "\n",
      "\n",
      "Warning message:\n",
      "“package ‘sandwich’ was built under R version 3.6.3”\n"
     ]
    }
   ],
   "source": [
    "library(lme4)\n",
    "library(lmerTest)\n",
    "library(stargazer)\n",
    "library(MatchIt)\n",
    "library(\"lmtest\") #coeftest\n",
    "library(\"sandwich\") #vcovCL"
   ]
  },
  {
   "cell_type": "code",
   "execution_count": 21,
   "id": "f21c6e8a",
   "metadata": {},
   "outputs": [],
   "source": [
    "entertainment_topics <- c(1,10,19,24,44)\n",
    "promotion_topics <- c(3,16,31)\n",
    "politics_topics <- c(11,23,30,41,46,47)\n",
    "sports_topics <- c(48)\n",
    "topics_of_interest <- c(1,10,19,24,44,3,16,31,11,23,30,41,46,47,48)"
   ]
  },
  {
   "cell_type": "code",
   "execution_count": 22,
   "id": "a77d7501",
   "metadata": {},
   "outputs": [],
   "source": [
    "topic_list <- list(entertainment=entertainment_topics,\n",
    "                   promotion=promotion_topics,\n",
    "                   politics=politics_topics,\n",
    "                   sports=sports_topics)"
   ]
  },
  {
   "cell_type": "code",
   "execution_count": 25,
   "id": "b30e0bc1",
   "metadata": {},
   "outputs": [],
   "source": [
    "country.pair.dirs <- list.dirs(path=\"/shared/2/projects/cross-lingual-exchange/data/multilingual_friend_effect_dataframes_top100\")\n",
    "country.pair.dirs <- country.pair.dirs[2:length(country.pair.dirs)]\n",
    "all.data.frames <- vector(mode=\"list\",length=2*length(country.pair.dirs))"
   ]
  },
  {
   "cell_type": "code",
   "execution_count": null,
   "id": "b64aaa78",
   "metadata": {},
   "outputs": [],
   "source": [
    "for (topic_id in 1:1){\n",
    "    broad_topic_name <- names(topic_list)[[topic_id]]\n",
    "    narrow_topics <- topic_list[[topic_id]]\n",
    "    out.file <- paste(\"/shared/2/projects/cross-lingual-exchange/results/\",\n",
    "                      broad_topic_name,\n",
    "                      \"_att_temporal_hashtag_top100_with_rt.tsv\",sep='')\n",
    "    x <- data.frame('Country Pair','Country','Estimate', 'Std. Error', 'P-value', 'Robust Std. Error', 'Robust P-value')\n",
    "    write.table(x, file = out.file, sep = \"\\t\", append = TRUE, quote = FALSE, col.names = FALSE, row.names = FALSE)\n",
    "    for(i in 4:4)){\n",
    "        country.pair.dir <- country.pair.dirs[[i]]\n",
    "        country.pair <- unlist(strsplit(basename(country.pair.dir),'_'))\n",
    "        for(j in 1:1){\n",
    "            country <- country.pair[[j]]\n",
    "            filename <- paste(country.pair.dir,\"/\",country.pair[[j]],\".gz\",sep='')\n",
    "            df <- read.table(gzfile(filename),header=TRUE,sep='\\t')\n",
    "            ix <- as.integer(2*i + 1 - j)\n",
    "            df <- df[df$monolingual_majority == 1,]\n",
    "            df$id_str <- NULL\n",
    "            df$country <- NULL\n",
    "            df <- df[!rowSums(df < 0), ]\n",
    "            df$log_degree <- log(df$num_neighbors + 1)\n",
    "            df$log_friends <- log(df$friends_count + 1)\n",
    "            df$log_followers <- log(df$followers_count + 1)\n",
    "            df$log_statuses <- log(df$statuses_count + 1)\n",
    "            df$log_tweets <- log(df$decahose_tweet_count + 1)\n",
    "            df$log_favourites <- log(df$favourites_count + 1)\n",
    "            df$scaled_betw <- 1000000 * df$betw\n",
    "            df$log_betw <- log(df$scaled_betw + 1)\n",
    "            df$log_rate <- log(df$post_rate + 1)\n",
    "            df$log_age <- log(df$account_age + 1) # make that linear\n",
    "            df$outcome <- 0\n",
    "            for(narrow_topic in narrow_topics){\n",
    "              df$outcome <- df$outcome + \n",
    "                df[[paste(\"has_temporal_hashtags_top100_other_language_topic_\",narrow_topic,sep='')]]\n",
    "            }\n",
    "            cat(head(df$outcome,'\\n'))\n",
    "            if(topic_id == 1){\n",
    "                all.data.frames[[ix]] <- df\n",
    "            }\n",
    "\n",
    "            if (sum(df$has_bilingual_neighbor) >= 100 && sum(df$outcome)>=100){\n",
    "                m <- matchit(has_bilingual_neighbor ~ log_degree\n",
    "                           + verified + log_friends + log_followers + log_statuses + log_favourites\n",
    "                           + log_age + log_rate + log_tweets,\n",
    "                           data=df,method='subclass',subclass=25,\n",
    "                           estimand='ATT')\n",
    "                m.data <- match.data(m)\n",
    "                fit <- glm(outcome ~ has_bilingual_neighbor + log_degree\n",
    "                           + verified + log_friends + log_followers + log_statuses + log_favourites\n",
    "                           + log_age + log_rate + log_tweets\n",
    "                           ,data=m.data,weights=weights,\n",
    "                         family=quasibinomial(link=\"logit\"),\n",
    "                          )\n",
    "                rr <- as.numeric(exp(coef(fit)[2]))\n",
    "                se <- as.numeric(summary(fit)$coefficients[, 2][2])\n",
    "                p <- as.numeric(summary(fit)$coefficients[,4][2])\n",
    "                res.robust <- coeftest(fit,vcov. = vcovHC)\n",
    "                se.robust <- res.robust[2,2]\n",
    "                p.robust <- res.robust[2,4]\n",
    "                x <- c(paste(country.pair[1],country.pair[2],sep='_'),country,rr,se,p,se.robust,p.robust)\n",
    "                cat(x,'\\n')\n",
    "                x <- as.matrix(t(x))\n",
    "                write.table(x, file = out.file, sep = \"\\t\", append = TRUE, quote = FALSE,col.names = FALSE, row.names = FALSE)\n",
    "            }\n",
    "        }\n",
    "    }     \n",
    "}"
   ]
  },
  {
   "cell_type": "code",
   "execution_count": 28,
   "id": "03e2f326",
   "metadata": {},
   "outputs": [
    {
     "ename": "ERROR",
     "evalue": "Error in eval(expr, envir, enclos): object 'm.data' not found\n",
     "output_type": "error",
     "traceback": [
      "Error in eval(expr, envir, enclos): object 'm.data' not found\nTraceback:\n"
     ]
    }
   ],
   "source": [
    "m.data"
   ]
  },
  {
   "cell_type": "code",
   "execution_count": 144,
   "id": "bddc0b14",
   "metadata": {},
   "outputs": [],
   "source": [
    "df <- do.call(\"rbind\", all.data.frames)"
   ]
  },
  {
   "cell_type": "code",
   "execution_count": null,
   "id": "066ba5a6",
   "metadata": {},
   "outputs": [],
   "source": [
    "out.file <- \"/shared/2/projects/cross-lingual-exchange/results/overall_att_temporal_hashtag_top100_with_rt_by_topic.tsv\"\n",
    "x <- data.frame('Topic','Estimate', 'Std. Error', 'P-value', 'Robust Std. Error', 'Robust P-value')\n",
    "write.table(x, file = out.file, sep = \"\\t\", append = TRUE, quote = FALSE, col.names = FALSE, row.names = FALSE)\n",
    "    "
   ]
  },
  {
   "cell_type": "code",
   "execution_count": 145,
   "id": "15b94e38",
   "metadata": {},
   "outputs": [
    {
     "name": "stdout",
     "output_type": "stream",
     "text": [
      "all all 15.56989328832 0.00300388217021281 0 0.0037875372125615 0 \n"
     ]
    }
   ],
   "source": [
    "for (topic_of_interest in topics_of_interest){\n",
    "    df$outcome <- df[[paste(\"has_temporal_hashtags_top100_other_language_topic_\",topic_of_interest,sep='')]]\n",
    "    m <- matchit(has_bilingual_neighbor ~ log_degree\n",
    "               + verified + log_friends + log_followers + log_statuses + log_favourites\n",
    "               + log_age + log_rate + log_tweets,\n",
    "               data=df,method='subclass',subclass=25,\n",
    "               estimand='ATT')\n",
    "    m.data <- match.data(m)\n",
    "    fit <- glm(outcome ~ has_bilingual_neighbor + log_degree\n",
    "               + verified + log_friends + log_followers + log_statuses + log_favourites\n",
    "               + log_age + log_rate + log_tweets\n",
    "               ,data=m.data,weights=weights,\n",
    "             family=quasibinomial(link=\"logit\"),\n",
    "              )\n",
    "    rr <- as.numeric(exp(coef(fit)[2]))\n",
    "    se <- as.numeric(summary(fit)$coefficients[, 2][2])\n",
    "    p <- as.numeric(summary(fit)$coefficients[,4][2])\n",
    "    res.robust <- coeftest(fit,vcov. = vcovHC)\n",
    "    se.robust <- res.robust[2,2]\n",
    "    p.robust <- res.robust[2,4]\n",
    "    x <- c(topic_of_interest,rr,se,p,se.robust,p.robust)\n",
    "    cat(x,'\\n')\n",
    "    x <- as.matrix(t(x))\n",
    "    write.table(x, file = out.file, sep = \"\\t\", append = TRUE, quote = FALSE,col.names = FALSE, row.names = FALSE)"
   ]
  },
  {
   "cell_type": "code",
   "execution_count": null,
   "id": "aa941a3b",
   "metadata": {},
   "outputs": [],
   "source": []
  }
 ],
 "metadata": {
  "kernelspec": {
   "display_name": "R",
   "language": "R",
   "name": "ir"
  },
  "language_info": {
   "codemirror_mode": "r",
   "file_extension": ".r",
   "mimetype": "text/x-r-source",
   "name": "R",
   "pygments_lexer": "r",
   "version": "3.6.1"
  }
 },
 "nbformat": 4,
 "nbformat_minor": 5
}
