{
 "cells": [
  {
   "cell_type": "code",
   "execution_count": 2,
   "metadata": {},
   "outputs": [],
   "source": [
    "import gzip\n",
    "from collections import *\n",
    "import os\n",
    "import csv\n",
    "import json\n",
    "import pandas as pd\n",
    "import glob\n",
    "import seaborn as sns\n",
    "from matplotlib import pyplot as plt\n",
    "from collections import Counter,defaultdict\n"
   ]
  },
  {
   "cell_type": "code",
   "execution_count": 3,
   "metadata": {},
   "outputs": [],
   "source": [
    "european_user_file = '/shared/2/projects/cross-lingual-exchange/data/european_users.json'\n",
    "with open(european_user_file,'r') as f:\n",
    "    user_dict = json.load(f)"
   ]
  },
  {
   "cell_type": "code",
   "execution_count": 5,
   "metadata": {},
   "outputs": [],
   "source": [
    "network_files = glob.glob(\"/shared/2/projects/cross-lingual-exchange/data/network_subsets/*\")"
   ]
  },
  {
   "cell_type": "code",
   "execution_count": 9,
   "metadata": {},
   "outputs": [
    {
     "data": {
      "text/plain": [
       "('/shared/2/projects/cross-lingual-exchange/data/network_subsets/AZ_PL',\n",
       " '.tsv')"
      ]
     },
     "execution_count": 9,
     "metadata": {},
     "output_type": "execute_result"
    }
   ],
   "source": [
    "os.path.splitext(network_files[0])"
   ]
  },
  {
   "cell_type": "code",
   "execution_count": 10,
   "metadata": {},
   "outputs": [
    {
     "data": {
      "text/plain": [
       "'AZ_PL'"
      ]
     },
     "execution_count": 10,
     "metadata": {},
     "output_type": "execute_result"
    }
   ],
   "source": [
    " os.path.splitext(os.path.basename(network_files[0]))[0]"
   ]
  },
  {
   "cell_type": "code",
   "execution_count": 48,
   "metadata": {},
   "outputs": [],
   "source": [
    "all_entries = []\n",
    "for filename in network_files:\n",
    "    with open(filename,'r') as f:\n",
    "        new_entry = {}\n",
    "        country_pair =  os.path.splitext(os.path.basename(filename))[0]\n",
    "        country1 = country_pair.split('_')[0]\n",
    "        country2 = country_pair.split('_')[1]\n",
    "        nodes = set()\n",
    "        edges = 0\n",
    "        cross_edges = 0\n",
    "        country_nodes = Counter()\n",
    "        for i,row in enumerate(f):\n",
    "            (uid1,uid2) = row.split()\n",
    "            c1 = user_dict[uid1][1]\n",
    "            c2 = user_dict[uid2][1]\n",
    "            edges += 1\n",
    "            if c1 != c2:\n",
    "                cross_edges += 1   \n",
    "            if uid1 not in nodes:\n",
    "                nodes.add(uid1)\n",
    "                country_nodes[c1] += 1\n",
    "            if uid2 not in nodes:\n",
    "                nodes.add(uid2)\n",
    "                country_nodes[c2] += 1\n",
    "        new_entry['country_pair'] = country_pair\n",
    "        new_entry['edges'] = edges\n",
    "        new_entry['cross_edges'] = cross_edges\n",
    "        new_entry['fraction_cross'] = float(cross_edges)/edges\n",
    "        new_entry['nodes_country1'] = country_nodes[country1]\n",
    "        new_entry['nodes_country2'] = country_nodes[country2]\n",
    "        all_entries.append(new_entry)   \n",
    "df = pd.DataFrame(all_entries)\n",
    "df.to_csv('/shared/2/projects/cross-lingual-exchange/data/network_subset_sizes.tsv',sep='\\t')"
   ]
  },
  {
   "cell_type": "code",
   "execution_count": 68,
   "metadata": {},
   "outputs": [],
   "source": [
    "df.sort_values('fraction_cross',ascending=False)[:10]\n",
    "#HR = croatia\n",
    "#BA = bosnia & herzegovina\n",
    "#RS = serbia\n",
    "# RU = russia\n",
    "# IE = Ireland\n",
    "# UA = Ukraine\n",
    "# BY = belarus\n",
    "# ME = montenegro\n",
    "country_pairs = df.sort_values('fraction_cross',ascending=False)[:10]['country_pair']\n",
    "country_codes = {}\n",
    "country_codes['BA'] = 'Bosnia'\n",
    "country_codes['HR'] = 'Croatia'\n",
    "country_codes['RS'] = 'Serbia'\n",
    "country_codes['RU'] = 'Russia'\n",
    "country_codes['IE'] = 'Ireland'\n",
    "country_codes['AT'] = 'Austria'\n",
    "country_codes['BE'] = 'Belgium'\n",
    "country_codes['DE'] = 'Germany'\n",
    "country_codes['GB'] = 'United Kingdom'\n",
    "country_codes['UA'] = 'Ukraine'\n",
    "country_codes['CH'] = 'Switzerland'\n",
    "country_codes['BY'] = 'Belarus'\n",
    "country_codes['ME'] = 'Montenegro'\n",
    "country_names = [(country_codes[x.split('_')[0]],country_codes[x.split('_')[1]]) for x in country_pairs]\n"
   ]
  },
  {
   "cell_type": "code",
   "execution_count": 73,
   "metadata": {},
   "outputs": [
    {
     "data": {
      "text/html": [
       "<div>\n",
       "<style scoped>\n",
       "    .dataframe tbody tr th:only-of-type {\n",
       "        vertical-align: middle;\n",
       "    }\n",
       "\n",
       "    .dataframe tbody tr th {\n",
       "        vertical-align: top;\n",
       "    }\n",
       "\n",
       "    .dataframe thead th {\n",
       "        text-align: right;\n",
       "    }\n",
       "</style>\n",
       "<table border=\"1\" class=\"dataframe\">\n",
       "  <thead>\n",
       "    <tr style=\"text-align: right;\">\n",
       "      <th></th>\n",
       "      <th>countries</th>\n",
       "      <th>country_pair</th>\n",
       "      <th>edges</th>\n",
       "      <th>cross_edges</th>\n",
       "      <th>fraction_cross</th>\n",
       "      <th>nodes_country1</th>\n",
       "      <th>nodes_country2</th>\n",
       "    </tr>\n",
       "  </thead>\n",
       "  <tbody>\n",
       "    <tr>\n",
       "      <th>0</th>\n",
       "      <td>(Bosnia, Serbia)</td>\n",
       "      <td>BA_RS</td>\n",
       "      <td>716150</td>\n",
       "      <td>28446</td>\n",
       "      <td>0.039721</td>\n",
       "      <td>4505</td>\n",
       "      <td>90093</td>\n",
       "    </tr>\n",
       "    <tr>\n",
       "      <th>1</th>\n",
       "      <td>(Russia, Ukraine)</td>\n",
       "      <td>RU_UA</td>\n",
       "      <td>7377301</td>\n",
       "      <td>205571</td>\n",
       "      <td>0.027865</td>\n",
       "      <td>1385716</td>\n",
       "      <td>148203</td>\n",
       "    </tr>\n",
       "    <tr>\n",
       "      <th>2</th>\n",
       "      <td>(Austria, Germany)</td>\n",
       "      <td>AT_DE</td>\n",
       "      <td>3782834</td>\n",
       "      <td>99447</td>\n",
       "      <td>0.026289</td>\n",
       "      <td>39934</td>\n",
       "      <td>578704</td>\n",
       "    </tr>\n",
       "    <tr>\n",
       "      <th>3</th>\n",
       "      <td>(Austria, Switzerland)</td>\n",
       "      <td>AT_CH</td>\n",
       "      <td>420353</td>\n",
       "      <td>10980</td>\n",
       "      <td>0.026121</td>\n",
       "      <td>36830</td>\n",
       "      <td>72956</td>\n",
       "    </tr>\n",
       "    <tr>\n",
       "      <th>4</th>\n",
       "      <td>(Belgium, Germany)</td>\n",
       "      <td>BE_DE</td>\n",
       "      <td>4439397</td>\n",
       "      <td>109253</td>\n",
       "      <td>0.024610</td>\n",
       "      <td>198036</td>\n",
       "      <td>581113</td>\n",
       "    </tr>\n",
       "    <tr>\n",
       "      <th>5</th>\n",
       "      <td>(United Kingdom, Ireland)</td>\n",
       "      <td>GB_IE</td>\n",
       "      <td>51945711</td>\n",
       "      <td>1250390</td>\n",
       "      <td>0.024071</td>\n",
       "      <td>8263547</td>\n",
       "      <td>439408</td>\n",
       "    </tr>\n",
       "    <tr>\n",
       "      <th>6</th>\n",
       "      <td>(Montenegro, Serbia)</td>\n",
       "      <td>ME_RS</td>\n",
       "      <td>735828</td>\n",
       "      <td>17540</td>\n",
       "      <td>0.023837</td>\n",
       "      <td>7149</td>\n",
       "      <td>89887</td>\n",
       "    </tr>\n",
       "    <tr>\n",
       "      <th>7</th>\n",
       "      <td>(Belarus, Russia)</td>\n",
       "      <td>BY_RU</td>\n",
       "      <td>7191855</td>\n",
       "      <td>169648</td>\n",
       "      <td>0.023589</td>\n",
       "      <td>104428</td>\n",
       "      <td>1386197</td>\n",
       "    </tr>\n",
       "    <tr>\n",
       "      <th>8</th>\n",
       "      <td>(Croatia, Serbia)</td>\n",
       "      <td>HR_RS</td>\n",
       "      <td>761226</td>\n",
       "      <td>15559</td>\n",
       "      <td>0.020439</td>\n",
       "      <td>9570</td>\n",
       "      <td>89832</td>\n",
       "    </tr>\n",
       "    <tr>\n",
       "      <th>9</th>\n",
       "      <td>(Bosnia, Montenegro)</td>\n",
       "      <td>BA_ME</td>\n",
       "      <td>45459</td>\n",
       "      <td>861</td>\n",
       "      <td>0.018940</td>\n",
       "      <td>3539</td>\n",
       "      <td>6983</td>\n",
       "    </tr>\n",
       "  </tbody>\n",
       "</table>\n",
       "</div>"
      ],
      "text/plain": [
       "                   countries country_pair     edges  cross_edges  \\\n",
       "0           (Bosnia, Serbia)        BA_RS    716150        28446   \n",
       "1          (Russia, Ukraine)        RU_UA   7377301       205571   \n",
       "2         (Austria, Germany)        AT_DE   3782834        99447   \n",
       "3     (Austria, Switzerland)        AT_CH    420353        10980   \n",
       "4         (Belgium, Germany)        BE_DE   4439397       109253   \n",
       "5  (United Kingdom, Ireland)        GB_IE  51945711      1250390   \n",
       "6       (Montenegro, Serbia)        ME_RS    735828        17540   \n",
       "7          (Belarus, Russia)        BY_RU   7191855       169648   \n",
       "8          (Croatia, Serbia)        HR_RS    761226        15559   \n",
       "9       (Bosnia, Montenegro)        BA_ME     45459          861   \n",
       "\n",
       "   fraction_cross  nodes_country1  nodes_country2  \n",
       "0        0.039721            4505           90093  \n",
       "1        0.027865         1385716          148203  \n",
       "2        0.026289           39934          578704  \n",
       "3        0.026121           36830           72956  \n",
       "4        0.024610          198036          581113  \n",
       "5        0.024071         8263547          439408  \n",
       "6        0.023837            7149           89887  \n",
       "7        0.023589          104428         1386197  \n",
       "8        0.020439            9570           89832  \n",
       "9        0.018940            3539            6983  "
      ]
     },
     "execution_count": 73,
     "metadata": {},
     "output_type": "execute_result"
    }
   ],
   "source": [
    "df_top = df.sort_values('fraction_cross',ascending=False)[:10]\n",
    "df_top['countries'] = country_names \n",
    "df_top.set_index('countries').reset_index()"
   ]
  },
  {
   "cell_type": "code",
   "execution_count": 76,
   "metadata": {},
   "outputs": [
    {
     "data": {
      "text/html": [
       "<div>\n",
       "<style scoped>\n",
       "    .dataframe tbody tr th:only-of-type {\n",
       "        vertical-align: middle;\n",
       "    }\n",
       "\n",
       "    .dataframe tbody tr th {\n",
       "        vertical-align: top;\n",
       "    }\n",
       "\n",
       "    .dataframe thead th {\n",
       "        text-align: right;\n",
       "    }\n",
       "</style>\n",
       "<table border=\"1\" class=\"dataframe\">\n",
       "  <thead>\n",
       "    <tr style=\"text-align: right;\">\n",
       "      <th></th>\n",
       "      <th>country_pair</th>\n",
       "      <th>edges</th>\n",
       "      <th>cross_edges</th>\n",
       "      <th>fraction_cross</th>\n",
       "      <th>nodes_country1</th>\n",
       "      <th>nodes_country2</th>\n",
       "    </tr>\n",
       "  </thead>\n",
       "  <tbody>\n",
       "    <tr>\n",
       "      <th>817</th>\n",
       "      <td>DE_PL</td>\n",
       "      <td>5999865</td>\n",
       "      <td>74854</td>\n",
       "      <td>0.012476</td>\n",
       "      <td>579279</td>\n",
       "      <td>231576</td>\n",
       "    </tr>\n",
       "    <tr>\n",
       "      <th>899</th>\n",
       "      <td>DE_TR</td>\n",
       "      <td>18992135</td>\n",
       "      <td>118806</td>\n",
       "      <td>0.006256</td>\n",
       "      <td>580682</td>\n",
       "      <td>3797532</td>\n",
       "    </tr>\n",
       "    <tr>\n",
       "      <th>1143</th>\n",
       "      <td>ES_PT</td>\n",
       "      <td>32512830</td>\n",
       "      <td>117510</td>\n",
       "      <td>0.003614</td>\n",
       "      <td>4894117</td>\n",
       "      <td>470471</td>\n",
       "    </tr>\n",
       "  </tbody>\n",
       "</table>\n",
       "</div>"
      ],
      "text/plain": [
       "     country_pair     edges  cross_edges  fraction_cross  nodes_country1  \\\n",
       "817         DE_PL   5999865        74854        0.012476          579279   \n",
       "899         DE_TR  18992135       118806        0.006256          580682   \n",
       "1143        ES_PT  32512830       117510        0.003614         4894117   \n",
       "\n",
       "      nodes_country2  \n",
       "817           231576  \n",
       "899          3797532  \n",
       "1143          470471  "
      ]
     },
     "execution_count": 76,
     "metadata": {},
     "output_type": "execute_result"
    }
   ],
   "source": [
    "df = df.drop(columns=['countries'])\n",
    "df[df['country_pair'].isin(['DE_PL','DE_TR','ES_PT'])]"
   ]
  },
  {
   "cell_type": "code",
   "execution_count": 80,
   "metadata": {},
   "outputs": [
    {
     "data": {
      "text/plain": [
       "<AxesSubplot:xlabel='nodes', ylabel='edges'>"
      ]
     },
     "execution_count": 80,
     "metadata": {},
     "output_type": "execute_result"
    },
    {
     "data": {
      "image/png": "[encoded data removed]",
      "text/plain": [
       "<Figure size 432x288 with 1 Axes>"
      ]
     },
     "metadata": {
      "needs_background": "light"
     },
     "output_type": "display_data"
    }
   ],
   "source": [
    "df['nodes'] = df['nodes_country1'] + df['nodes_country2']\n",
    "sns.scatterplot(x='nodes',y='edges',data=df)"
   ]
  },
  {
   "cell_type": "code",
   "execution_count": 90,
   "metadata": {},
   "outputs": [
    {
     "data": {
      "text/html": [
       "<div>\n",
       "<style scoped>\n",
       "    .dataframe tbody tr th:only-of-type {\n",
       "        vertical-align: middle;\n",
       "    }\n",
       "\n",
       "    .dataframe tbody tr th {\n",
       "        vertical-align: top;\n",
       "    }\n",
       "\n",
       "    .dataframe thead th {\n",
       "        text-align: right;\n",
       "    }\n",
       "</style>\n",
       "<table border=\"1\" class=\"dataframe\">\n",
       "  <thead>\n",
       "    <tr style=\"text-align: right;\">\n",
       "      <th></th>\n",
       "      <th>country_pair</th>\n",
       "      <th>edges</th>\n",
       "      <th>cross_edges</th>\n",
       "      <th>fraction_cross</th>\n",
       "      <th>nodes_country1</th>\n",
       "      <th>nodes_country2</th>\n",
       "      <th>nodes</th>\n",
       "    </tr>\n",
       "  </thead>\n",
       "  <tbody>\n",
       "    <tr>\n",
       "      <th>1025</th>\n",
       "      <td>LI_SM</td>\n",
       "      <td>891</td>\n",
       "      <td>0</td>\n",
       "      <td>0.0</td>\n",
       "      <td>190</td>\n",
       "      <td>248</td>\n",
       "      <td>438</td>\n",
       "    </tr>\n",
       "    <tr>\n",
       "      <th>257</th>\n",
       "      <td>AL_LI</td>\n",
       "      <td>925</td>\n",
       "      <td>0</td>\n",
       "      <td>0.0</td>\n",
       "      <td>295</td>\n",
       "      <td>190</td>\n",
       "      <td>485</td>\n",
       "    </tr>\n",
       "    <tr>\n",
       "      <th>465</th>\n",
       "      <td>AL_SM</td>\n",
       "      <td>462</td>\n",
       "      <td>0</td>\n",
       "      <td>0.0</td>\n",
       "      <td>295</td>\n",
       "      <td>248</td>\n",
       "      <td>543</td>\n",
       "    </tr>\n",
       "    <tr>\n",
       "      <th>613</th>\n",
       "      <td>AD_LI</td>\n",
       "      <td>1925</td>\n",
       "      <td>0</td>\n",
       "      <td>0.0</td>\n",
       "      <td>638</td>\n",
       "      <td>190</td>\n",
       "      <td>828</td>\n",
       "    </tr>\n",
       "    <tr>\n",
       "      <th>306</th>\n",
       "      <td>AD_SM</td>\n",
       "      <td>1462</td>\n",
       "      <td>0</td>\n",
       "      <td>0.0</td>\n",
       "      <td>638</td>\n",
       "      <td>248</td>\n",
       "      <td>886</td>\n",
       "    </tr>\n",
       "  </tbody>\n",
       "</table>\n",
       "</div>"
      ],
      "text/plain": [
       "     country_pair  edges  cross_edges  fraction_cross  nodes_country1  \\\n",
       "1025        LI_SM    891            0             0.0             190   \n",
       "257         AL_LI    925            0             0.0             295   \n",
       "465         AL_SM    462            0             0.0             295   \n",
       "613         AD_LI   1925            0             0.0             638   \n",
       "306         AD_SM   1462            0             0.0             638   \n",
       "\n",
       "      nodes_country2  nodes  \n",
       "1025             248    438  \n",
       "257              190    485  \n",
       "465              248    543  \n",
       "613              190    828  \n",
       "306              248    886  "
      ]
     },
     "execution_count": 90,
     "metadata": {},
     "output_type": "execute_result"
    }
   ],
   "source": [
    "df.sort_values('nodes')[:5]"
   ]
  },
  {
   "cell_type": "code",
   "execution_count": 91,
   "metadata": {},
   "outputs": [
    {
     "data": {
      "text/html": [
       "<div>\n",
       "<style scoped>\n",
       "    .dataframe tbody tr th:only-of-type {\n",
       "        vertical-align: middle;\n",
       "    }\n",
       "\n",
       "    .dataframe tbody tr th {\n",
       "        vertical-align: top;\n",
       "    }\n",
       "\n",
       "    .dataframe thead th {\n",
       "        text-align: right;\n",
       "    }\n",
       "</style>\n",
       "<table border=\"1\" class=\"dataframe\">\n",
       "  <thead>\n",
       "    <tr style=\"text-align: right;\">\n",
       "      <th></th>\n",
       "      <th>country_pair</th>\n",
       "      <th>edges</th>\n",
       "      <th>cross_edges</th>\n",
       "      <th>fraction_cross</th>\n",
       "      <th>nodes_country1</th>\n",
       "      <th>nodes_country2</th>\n",
       "      <th>nodes</th>\n",
       "    </tr>\n",
       "  </thead>\n",
       "  <tbody>\n",
       "    <tr>\n",
       "      <th>605</th>\n",
       "      <td>ES_GB</td>\n",
       "      <td>78562214</td>\n",
       "      <td>439750</td>\n",
       "      <td>0.005597</td>\n",
       "      <td>4902928</td>\n",
       "      <td>8249884</td>\n",
       "      <td>13152812</td>\n",
       "    </tr>\n",
       "    <tr>\n",
       "      <th>789</th>\n",
       "      <td>GB_TR</td>\n",
       "      <td>64308419</td>\n",
       "      <td>124079</td>\n",
       "      <td>0.001929</td>\n",
       "      <td>8245586</td>\n",
       "      <td>3802733</td>\n",
       "      <td>12048319</td>\n",
       "    </tr>\n",
       "    <tr>\n",
       "      <th>421</th>\n",
       "      <td>FR_GB</td>\n",
       "      <td>72423238</td>\n",
       "      <td>526224</td>\n",
       "      <td>0.007266</td>\n",
       "      <td>3171149</td>\n",
       "      <td>8256416</td>\n",
       "      <td>11427565</td>\n",
       "    </tr>\n",
       "    <tr>\n",
       "      <th>431</th>\n",
       "      <td>GB_NL</td>\n",
       "      <td>59114678</td>\n",
       "      <td>886881</td>\n",
       "      <td>0.015003</td>\n",
       "      <td>8271765</td>\n",
       "      <td>1495114</td>\n",
       "      <td>9766879</td>\n",
       "    </tr>\n",
       "    <tr>\n",
       "      <th>559</th>\n",
       "      <td>GB_RU</td>\n",
       "      <td>55591433</td>\n",
       "      <td>56885</td>\n",
       "      <td>0.001023</td>\n",
       "      <td>8244732</td>\n",
       "      <td>1384565</td>\n",
       "      <td>9629297</td>\n",
       "    </tr>\n",
       "  </tbody>\n",
       "</table>\n",
       "</div>"
      ],
      "text/plain": [
       "    country_pair     edges  cross_edges  fraction_cross  nodes_country1  \\\n",
       "605        ES_GB  78562214       439750        0.005597         4902928   \n",
       "789        GB_TR  64308419       124079        0.001929         8245586   \n",
       "421        FR_GB  72423238       526224        0.007266         3171149   \n",
       "431        GB_NL  59114678       886881        0.015003         8271765   \n",
       "559        GB_RU  55591433        56885        0.001023         8244732   \n",
       "\n",
       "     nodes_country2     nodes  \n",
       "605         8249884  13152812  \n",
       "789         3802733  12048319  \n",
       "421         8256416  11427565  \n",
       "431         1495114   9766879  \n",
       "559         1384565   9629297  "
      ]
     },
     "execution_count": 91,
     "metadata": {},
     "output_type": "execute_result"
    }
   ],
   "source": [
    "df.sort_values('nodes',ascending=False)[:5]"
   ]
  },
  {
   "cell_type": "code",
   "execution_count": 108,
   "metadata": {},
   "outputs": [
    {
     "data": {
      "text/plain": [
       "<AxesSubplot:xlabel='fraction_cross', ylabel='Density'>"
      ]
     },
     "execution_count": 108,
     "metadata": {},
     "output_type": "execute_result"
    },
    {
     "data": {
      "image/png": "[encoded data removed]",
      "text/plain": [
       "<Figure size 432x288 with 1 Axes>"
      ]
     },
     "metadata": {
      "needs_background": "light"
     },
     "output_type": "display_data"
    }
   ],
   "source": [
    "sns.kdeplot(x='fraction_cross',data=df)"
   ]
  },
  {
   "cell_type": "code",
   "execution_count": 1,
   "metadata": {},
   "outputs": [
    {
     "data": {
      "text/plain": [
       "2"
      ]
     },
     "execution_count": 1,
     "metadata": {},
     "output_type": "execute_result"
    }
   ],
   "source": [
    "1+1"
   ]
  },
  {
   "cell_type": "code",
   "execution_count": 4,
   "metadata": {},
   "outputs": [],
   "source": [
    "import glob"
   ]
  },
  {
   "cell_type": "code",
   "execution_count": 5,
   "metadata": {},
   "outputs": [],
   "source": [
    "network_calc_files = glob.glob('/shared/2/projects/cross-lingual-exchange/data/network_calculations/*')"
   ]
  },
  {
   "cell_type": "code",
   "execution_count": 25,
   "metadata": {},
   "outputs": [],
   "source": [
    "all_data = []\n",
    "for filename in network_calc_files:\n",
    "    df = pd.read_csv(filename,sep='\\t')\n",
    "    data = {}\n",
    "    data['country_pair'] = os.path.basename(filename).strip('.tsv')\n",
    "    data['degree'] = df['degree'].mean()\n",
    "    data['betw'] = df['betw'].mean()\n",
    "    data['pagerank'] = df['pagerank'].mean()\n",
    "    data['zero_betw'] = len(df[df['betw']==0]) / len(df)\n",
    "    all_data.append(data)"
   ]
  },
  {
   "cell_type": "code",
   "execution_count": 55,
   "metadata": {},
   "outputs": [],
   "source": [
    "df = pd.DataFrame(all_data)"
   ]
  },
  {
   "cell_type": "code",
   "execution_count": 27,
   "metadata": {},
   "outputs": [
    {
     "data": {
      "text/html": [
       "<div>\n",
       "<style scoped>\n",
       "    .dataframe tbody tr th:only-of-type {\n",
       "        vertical-align: middle;\n",
       "    }\n",
       "\n",
       "    .dataframe tbody tr th {\n",
       "        vertical-align: top;\n",
       "    }\n",
       "\n",
       "    .dataframe thead th {\n",
       "        text-align: right;\n",
       "    }\n",
       "</style>\n",
       "<table border=\"1\" class=\"dataframe\">\n",
       "  <thead>\n",
       "    <tr style=\"text-align: right;\">\n",
       "      <th></th>\n",
       "      <th>country_pair</th>\n",
       "      <th>degree</th>\n",
       "      <th>betw</th>\n",
       "      <th>pagerank</th>\n",
       "      <th>zero_betw</th>\n",
       "    </tr>\n",
       "  </thead>\n",
       "  <tbody>\n",
       "    <tr>\n",
       "      <th>0</th>\n",
       "      <td>AZ_PL</td>\n",
       "      <td>20.236302</td>\n",
       "      <td>0.000016</td>\n",
       "      <td>4.048894e-06</td>\n",
       "      <td>0.355529</td>\n",
       "    </tr>\n",
       "    <tr>\n",
       "      <th>1</th>\n",
       "      <td>GR_NL</td>\n",
       "      <td>12.957645</td>\n",
       "      <td>0.000003</td>\n",
       "      <td>6.434265e-07</td>\n",
       "      <td>0.322964</td>\n",
       "    </tr>\n",
       "    <tr>\n",
       "      <th>2</th>\n",
       "      <td>IE_SK</td>\n",
       "      <td>9.283450</td>\n",
       "      <td>0.000011</td>\n",
       "      <td>2.492106e-06</td>\n",
       "      <td>0.372655</td>\n",
       "    </tr>\n",
       "    <tr>\n",
       "      <th>3</th>\n",
       "      <td>FI_MC</td>\n",
       "      <td>12.735948</td>\n",
       "      <td>0.000050</td>\n",
       "      <td>1.442752e-05</td>\n",
       "      <td>0.430286</td>\n",
       "    </tr>\n",
       "    <tr>\n",
       "      <th>4</th>\n",
       "      <td>DK_TR</td>\n",
       "      <td>8.109203</td>\n",
       "      <td>0.000001</td>\n",
       "      <td>2.604464e-07</td>\n",
       "      <td>0.356709</td>\n",
       "    </tr>\n",
       "    <tr>\n",
       "      <th>...</th>\n",
       "      <td>...</td>\n",
       "      <td>...</td>\n",
       "      <td>...</td>\n",
       "      <td>...</td>\n",
       "      <td>...</td>\n",
       "    </tr>\n",
       "    <tr>\n",
       "      <th>1171</th>\n",
       "      <td>BG_GR</td>\n",
       "      <td>14.096180</td>\n",
       "      <td>0.000034</td>\n",
       "      <td>9.818264e-06</td>\n",
       "      <td>0.458935</td>\n",
       "    </tr>\n",
       "    <tr>\n",
       "      <th>1172</th>\n",
       "      <td>AM_IE</td>\n",
       "      <td>9.294372</td>\n",
       "      <td>0.000011</td>\n",
       "      <td>2.488268e-06</td>\n",
       "      <td>0.372548</td>\n",
       "    </tr>\n",
       "    <tr>\n",
       "      <th>1173</th>\n",
       "      <td>FR_RO</td>\n",
       "      <td>14.604446</td>\n",
       "      <td>0.000001</td>\n",
       "      <td>3.162105e-07</td>\n",
       "      <td>0.321474</td>\n",
       "    </tr>\n",
       "    <tr>\n",
       "      <th>1174</th>\n",
       "      <td>ME_SM</td>\n",
       "      <td>10.483916</td>\n",
       "      <td>0.000384</td>\n",
       "      <td>1.386578e-04</td>\n",
       "      <td>0.392679</td>\n",
       "    </tr>\n",
       "    <tr>\n",
       "      <th>1175</th>\n",
       "      <td>BE_TR</td>\n",
       "      <td>8.112220</td>\n",
       "      <td>0.000001</td>\n",
       "      <td>2.507367e-07</td>\n",
       "      <td>0.359473</td>\n",
       "    </tr>\n",
       "  </tbody>\n",
       "</table>\n",
       "<p>1176 rows × 5 columns</p>\n",
       "</div>"
      ],
      "text/plain": [
       "     country_pair     degree      betw      pagerank  zero_betw\n",
       "0           AZ_PL  20.236302  0.000016  4.048894e-06   0.355529\n",
       "1           GR_NL  12.957645  0.000003  6.434265e-07   0.322964\n",
       "2           IE_SK   9.283450  0.000011  2.492106e-06   0.372655\n",
       "3           FI_MC  12.735948  0.000050  1.442752e-05   0.430286\n",
       "4           DK_TR   8.109203  0.000001  2.604464e-07   0.356709\n",
       "...           ...        ...       ...           ...        ...\n",
       "1171        BG_GR  14.096180  0.000034  9.818264e-06   0.458935\n",
       "1172        AM_IE   9.294372  0.000011  2.488268e-06   0.372548\n",
       "1173        FR_RO  14.604446  0.000001  3.162105e-07   0.321474\n",
       "1174        ME_SM  10.483916  0.000384  1.386578e-04   0.392679\n",
       "1175        BE_TR   8.112220  0.000001  2.507367e-07   0.359473\n",
       "\n",
       "[1176 rows x 5 columns]"
      ]
     },
     "execution_count": 27,
     "metadata": {},
     "output_type": "execute_result"
    }
   ],
   "source": [
    "df"
   ]
  },
  {
   "cell_type": "code",
   "execution_count": 28,
   "metadata": {},
   "outputs": [
    {
     "data": {
      "text/html": [
       "<div>\n",
       "<style scoped>\n",
       "    .dataframe tbody tr th:only-of-type {\n",
       "        vertical-align: middle;\n",
       "    }\n",
       "\n",
       "    .dataframe tbody tr th {\n",
       "        vertical-align: top;\n",
       "    }\n",
       "\n",
       "    .dataframe thead th {\n",
       "        text-align: right;\n",
       "    }\n",
       "</style>\n",
       "<table border=\"1\" class=\"dataframe\">\n",
       "  <thead>\n",
       "    <tr style=\"text-align: right;\">\n",
       "      <th></th>\n",
       "      <th>country_pair</th>\n",
       "      <th>degree</th>\n",
       "      <th>betw</th>\n",
       "      <th>pagerank</th>\n",
       "      <th>zero_betw</th>\n",
       "    </tr>\n",
       "  </thead>\n",
       "  <tbody>\n",
       "    <tr>\n",
       "      <th>605</th>\n",
       "      <td>ES_GB</td>\n",
       "      <td>11.946071</td>\n",
       "      <td>3.929071e-07</td>\n",
       "      <td>7.602937e-08</td>\n",
       "      <td>0.309348</td>\n",
       "    </tr>\n",
       "    <tr>\n",
       "      <th>421</th>\n",
       "      <td>FR_GB</td>\n",
       "      <td>12.675183</td>\n",
       "      <td>4.276209e-07</td>\n",
       "      <td>8.750771e-08</td>\n",
       "      <td>0.321545</td>\n",
       "    </tr>\n",
       "    <tr>\n",
       "      <th>789</th>\n",
       "      <td>GB_TR</td>\n",
       "      <td>10.675086</td>\n",
       "      <td>4.413265e-07</td>\n",
       "      <td>8.299913e-08</td>\n",
       "      <td>0.333152</td>\n",
       "    </tr>\n",
       "    <tr>\n",
       "      <th>431</th>\n",
       "      <td>GB_NL</td>\n",
       "      <td>12.105132</td>\n",
       "      <td>4.835261e-07</td>\n",
       "      <td>1.023869e-07</td>\n",
       "      <td>0.321469</td>\n",
       "    </tr>\n",
       "    <tr>\n",
       "      <th>228</th>\n",
       "      <td>GB_IT</td>\n",
       "      <td>11.904960</td>\n",
       "      <td>5.084086e-07</td>\n",
       "      <td>1.088455e-07</td>\n",
       "      <td>0.332546</td>\n",
       "    </tr>\n",
       "    <tr>\n",
       "      <th>...</th>\n",
       "      <td>...</td>\n",
       "      <td>...</td>\n",
       "      <td>...</td>\n",
       "      <td>...</td>\n",
       "      <td>...</td>\n",
       "    </tr>\n",
       "    <tr>\n",
       "      <th>645</th>\n",
       "      <td>AM_BA</td>\n",
       "      <td>5.198881</td>\n",
       "      <td>1.192839e-03</td>\n",
       "      <td>1.749169e-04</td>\n",
       "      <td>0.559559</td>\n",
       "    </tr>\n",
       "    <tr>\n",
       "      <th>477</th>\n",
       "      <td>AM_LI</td>\n",
       "      <td>6.995912</td>\n",
       "      <td>1.266958e-03</td>\n",
       "      <td>4.088307e-04</td>\n",
       "      <td>0.539248</td>\n",
       "    </tr>\n",
       "    <tr>\n",
       "      <th>815</th>\n",
       "      <td>AL_MD</td>\n",
       "      <td>4.020505</td>\n",
       "      <td>1.923145e-03</td>\n",
       "      <td>7.886435e-04</td>\n",
       "      <td>0.608044</td>\n",
       "    </tr>\n",
       "    <tr>\n",
       "      <th>959</th>\n",
       "      <td>MD_SM</td>\n",
       "      <td>4.119574</td>\n",
       "      <td>2.159714e-03</td>\n",
       "      <td>8.190008e-04</td>\n",
       "      <td>0.579853</td>\n",
       "    </tr>\n",
       "    <tr>\n",
       "      <th>1003</th>\n",
       "      <td>LI_MD</td>\n",
       "      <td>5.121238</td>\n",
       "      <td>2.505070e-03</td>\n",
       "      <td>8.598452e-04</td>\n",
       "      <td>0.521066</td>\n",
       "    </tr>\n",
       "  </tbody>\n",
       "</table>\n",
       "<p>1176 rows × 5 columns</p>\n",
       "</div>"
      ],
      "text/plain": [
       "     country_pair     degree          betw      pagerank  zero_betw\n",
       "605         ES_GB  11.946071  3.929071e-07  7.602937e-08   0.309348\n",
       "421         FR_GB  12.675183  4.276209e-07  8.750771e-08   0.321545\n",
       "789         GB_TR  10.675086  4.413265e-07  8.299913e-08   0.333152\n",
       "431         GB_NL  12.105132  4.835261e-07  1.023869e-07   0.321469\n",
       "228         GB_IT  11.904960  5.084086e-07  1.088455e-07   0.332546\n",
       "...           ...        ...           ...           ...        ...\n",
       "645         AM_BA   5.198881  1.192839e-03  1.749169e-04   0.559559\n",
       "477         AM_LI   6.995912  1.266958e-03  4.088307e-04   0.539248\n",
       "815         AL_MD   4.020505  1.923145e-03  7.886435e-04   0.608044\n",
       "959         MD_SM   4.119574  2.159714e-03  8.190008e-04   0.579853\n",
       "1003        LI_MD   5.121238  2.505070e-03  8.598452e-04   0.521066\n",
       "\n",
       "[1176 rows x 5 columns]"
      ]
     },
     "execution_count": 28,
     "metadata": {},
     "output_type": "execute_result"
    }
   ],
   "source": [
    "df.sort_values('betw')"
   ]
  },
  {
   "cell_type": "code",
   "execution_count": 29,
   "metadata": {},
   "outputs": [
    {
     "data": {
      "text/html": [
       "<div>\n",
       "<style scoped>\n",
       "    .dataframe tbody tr th:only-of-type {\n",
       "        vertical-align: middle;\n",
       "    }\n",
       "\n",
       "    .dataframe tbody tr th {\n",
       "        vertical-align: top;\n",
       "    }\n",
       "\n",
       "    .dataframe thead th {\n",
       "        text-align: right;\n",
       "    }\n",
       "</style>\n",
       "<table border=\"1\" class=\"dataframe\">\n",
       "  <thead>\n",
       "    <tr style=\"text-align: right;\">\n",
       "      <th></th>\n",
       "      <th>country_pair</th>\n",
       "      <th>degree</th>\n",
       "      <th>betw</th>\n",
       "      <th>pagerank</th>\n",
       "      <th>zero_betw</th>\n",
       "    </tr>\n",
       "  </thead>\n",
       "  <tbody>\n",
       "    <tr>\n",
       "      <th>1003</th>\n",
       "      <td>LI_MD</td>\n",
       "      <td>5.121238</td>\n",
       "      <td>2.505070e-03</td>\n",
       "      <td>8.598452e-04</td>\n",
       "      <td>0.521066</td>\n",
       "    </tr>\n",
       "    <tr>\n",
       "      <th>959</th>\n",
       "      <td>MD_SM</td>\n",
       "      <td>4.119574</td>\n",
       "      <td>2.159714e-03</td>\n",
       "      <td>8.190008e-04</td>\n",
       "      <td>0.579853</td>\n",
       "    </tr>\n",
       "    <tr>\n",
       "      <th>815</th>\n",
       "      <td>AL_MD</td>\n",
       "      <td>4.020505</td>\n",
       "      <td>1.923145e-03</td>\n",
       "      <td>7.886435e-04</td>\n",
       "      <td>0.608044</td>\n",
       "    </tr>\n",
       "    <tr>\n",
       "      <th>477</th>\n",
       "      <td>AM_LI</td>\n",
       "      <td>6.995912</td>\n",
       "      <td>1.266958e-03</td>\n",
       "      <td>4.088307e-04</td>\n",
       "      <td>0.539248</td>\n",
       "    </tr>\n",
       "    <tr>\n",
       "      <th>645</th>\n",
       "      <td>AM_BA</td>\n",
       "      <td>5.198881</td>\n",
       "      <td>1.192839e-03</td>\n",
       "      <td>1.749169e-04</td>\n",
       "      <td>0.559559</td>\n",
       "    </tr>\n",
       "    <tr>\n",
       "      <th>...</th>\n",
       "      <td>...</td>\n",
       "      <td>...</td>\n",
       "      <td>...</td>\n",
       "      <td>...</td>\n",
       "      <td>...</td>\n",
       "    </tr>\n",
       "    <tr>\n",
       "      <th>228</th>\n",
       "      <td>GB_IT</td>\n",
       "      <td>11.904960</td>\n",
       "      <td>5.084086e-07</td>\n",
       "      <td>1.088455e-07</td>\n",
       "      <td>0.332546</td>\n",
       "    </tr>\n",
       "    <tr>\n",
       "      <th>431</th>\n",
       "      <td>GB_NL</td>\n",
       "      <td>12.105132</td>\n",
       "      <td>4.835261e-07</td>\n",
       "      <td>1.023869e-07</td>\n",
       "      <td>0.321469</td>\n",
       "    </tr>\n",
       "    <tr>\n",
       "      <th>789</th>\n",
       "      <td>GB_TR</td>\n",
       "      <td>10.675086</td>\n",
       "      <td>4.413265e-07</td>\n",
       "      <td>8.299913e-08</td>\n",
       "      <td>0.333152</td>\n",
       "    </tr>\n",
       "    <tr>\n",
       "      <th>421</th>\n",
       "      <td>FR_GB</td>\n",
       "      <td>12.675183</td>\n",
       "      <td>4.276209e-07</td>\n",
       "      <td>8.750771e-08</td>\n",
       "      <td>0.321545</td>\n",
       "    </tr>\n",
       "    <tr>\n",
       "      <th>605</th>\n",
       "      <td>ES_GB</td>\n",
       "      <td>11.946071</td>\n",
       "      <td>3.929071e-07</td>\n",
       "      <td>7.602937e-08</td>\n",
       "      <td>0.309348</td>\n",
       "    </tr>\n",
       "  </tbody>\n",
       "</table>\n",
       "<p>1176 rows × 5 columns</p>\n",
       "</div>"
      ],
      "text/plain": [
       "     country_pair     degree          betw      pagerank  zero_betw\n",
       "1003        LI_MD   5.121238  2.505070e-03  8.598452e-04   0.521066\n",
       "959         MD_SM   4.119574  2.159714e-03  8.190008e-04   0.579853\n",
       "815         AL_MD   4.020505  1.923145e-03  7.886435e-04   0.608044\n",
       "477         AM_LI   6.995912  1.266958e-03  4.088307e-04   0.539248\n",
       "645         AM_BA   5.198881  1.192839e-03  1.749169e-04   0.559559\n",
       "...           ...        ...           ...           ...        ...\n",
       "228         GB_IT  11.904960  5.084086e-07  1.088455e-07   0.332546\n",
       "431         GB_NL  12.105132  4.835261e-07  1.023869e-07   0.321469\n",
       "789         GB_TR  10.675086  4.413265e-07  8.299913e-08   0.333152\n",
       "421         FR_GB  12.675183  4.276209e-07  8.750771e-08   0.321545\n",
       "605         ES_GB  11.946071  3.929071e-07  7.602937e-08   0.309348\n",
       "\n",
       "[1176 rows x 5 columns]"
      ]
     },
     "execution_count": 29,
     "metadata": {},
     "output_type": "execute_result"
    }
   ],
   "source": [
    "df.sort_values('betw',ascending=False)"
   ]
  },
  {
   "cell_type": "code",
   "execution_count": 30,
   "metadata": {},
   "outputs": [
    {
     "data": {
      "text/html": [
       "<div>\n",
       "<style scoped>\n",
       "    .dataframe tbody tr th:only-of-type {\n",
       "        vertical-align: middle;\n",
       "    }\n",
       "\n",
       "    .dataframe tbody tr th {\n",
       "        vertical-align: top;\n",
       "    }\n",
       "\n",
       "    .dataframe thead th {\n",
       "        text-align: right;\n",
       "    }\n",
       "</style>\n",
       "<table border=\"1\" class=\"dataframe\">\n",
       "  <thead>\n",
       "    <tr style=\"text-align: right;\">\n",
       "      <th></th>\n",
       "      <th>country_pair</th>\n",
       "      <th>degree</th>\n",
       "      <th>betw</th>\n",
       "      <th>pagerank</th>\n",
       "      <th>zero_betw</th>\n",
       "    </tr>\n",
       "  </thead>\n",
       "  <tbody>\n",
       "    <tr>\n",
       "      <th>300</th>\n",
       "      <td>LI_PT</td>\n",
       "      <td>13.506870</td>\n",
       "      <td>0.000009</td>\n",
       "      <td>0.000002</td>\n",
       "      <td>0.271045</td>\n",
       "    </tr>\n",
       "    <tr>\n",
       "      <th>595</th>\n",
       "      <td>PT_SM</td>\n",
       "      <td>13.503360</td>\n",
       "      <td>0.000009</td>\n",
       "      <td>0.000002</td>\n",
       "      <td>0.271342</td>\n",
       "    </tr>\n",
       "    <tr>\n",
       "      <th>447</th>\n",
       "      <td>AL_PT</td>\n",
       "      <td>13.500087</td>\n",
       "      <td>0.000009</td>\n",
       "      <td>0.000002</td>\n",
       "      <td>0.271600</td>\n",
       "    </tr>\n",
       "    <tr>\n",
       "      <th>479</th>\n",
       "      <td>AD_PT</td>\n",
       "      <td>13.496289</td>\n",
       "      <td>0.000009</td>\n",
       "      <td>0.000002</td>\n",
       "      <td>0.271618</td>\n",
       "    </tr>\n",
       "    <tr>\n",
       "      <th>1161</th>\n",
       "      <td>MD_PT</td>\n",
       "      <td>13.491128</td>\n",
       "      <td>0.000009</td>\n",
       "      <td>0.000002</td>\n",
       "      <td>0.271799</td>\n",
       "    </tr>\n",
       "    <tr>\n",
       "      <th>...</th>\n",
       "      <td>...</td>\n",
       "      <td>...</td>\n",
       "      <td>...</td>\n",
       "      <td>...</td>\n",
       "      <td>...</td>\n",
       "    </tr>\n",
       "    <tr>\n",
       "      <th>82</th>\n",
       "      <td>LU_SM</td>\n",
       "      <td>2.842528</td>\n",
       "      <td>0.000397</td>\n",
       "      <td>0.000334</td>\n",
       "      <td>0.681377</td>\n",
       "    </tr>\n",
       "    <tr>\n",
       "      <th>625</th>\n",
       "      <td>MT_SM</td>\n",
       "      <td>2.455966</td>\n",
       "      <td>0.000347</td>\n",
       "      <td>0.000710</td>\n",
       "      <td>0.683949</td>\n",
       "    </tr>\n",
       "    <tr>\n",
       "      <th>892</th>\n",
       "      <td>AL_LU</td>\n",
       "      <td>2.821205</td>\n",
       "      <td>0.000378</td>\n",
       "      <td>0.000329</td>\n",
       "      <td>0.691472</td>\n",
       "    </tr>\n",
       "    <tr>\n",
       "      <th>849</th>\n",
       "      <td>AL_MT</td>\n",
       "      <td>2.421414</td>\n",
       "      <td>0.000309</td>\n",
       "      <td>0.000686</td>\n",
       "      <td>0.705559</td>\n",
       "    </tr>\n",
       "    <tr>\n",
       "      <th>465</th>\n",
       "      <td>AL_SM</td>\n",
       "      <td>1.701657</td>\n",
       "      <td>0.000112</td>\n",
       "      <td>0.001842</td>\n",
       "      <td>0.753223</td>\n",
       "    </tr>\n",
       "  </tbody>\n",
       "</table>\n",
       "<p>1176 rows × 5 columns</p>\n",
       "</div>"
      ],
      "text/plain": [
       "     country_pair     degree      betw  pagerank  zero_betw\n",
       "300         LI_PT  13.506870  0.000009  0.000002   0.271045\n",
       "595         PT_SM  13.503360  0.000009  0.000002   0.271342\n",
       "447         AL_PT  13.500087  0.000009  0.000002   0.271600\n",
       "479         AD_PT  13.496289  0.000009  0.000002   0.271618\n",
       "1161        MD_PT  13.491128  0.000009  0.000002   0.271799\n",
       "...           ...        ...       ...       ...        ...\n",
       "82          LU_SM   2.842528  0.000397  0.000334   0.681377\n",
       "625         MT_SM   2.455966  0.000347  0.000710   0.683949\n",
       "892         AL_LU   2.821205  0.000378  0.000329   0.691472\n",
       "849         AL_MT   2.421414  0.000309  0.000686   0.705559\n",
       "465         AL_SM   1.701657  0.000112  0.001842   0.753223\n",
       "\n",
       "[1176 rows x 5 columns]"
      ]
     },
     "execution_count": 30,
     "metadata": {},
     "output_type": "execute_result"
    }
   ],
   "source": [
    "df.sort_values('zero_betw')"
   ]
  },
  {
   "cell_type": "code",
   "execution_count": 31,
   "metadata": {},
   "outputs": [
    {
     "data": {
      "text/html": [
       "<div>\n",
       "<style scoped>\n",
       "    .dataframe tbody tr th:only-of-type {\n",
       "        vertical-align: middle;\n",
       "    }\n",
       "\n",
       "    .dataframe tbody tr th {\n",
       "        vertical-align: top;\n",
       "    }\n",
       "\n",
       "    .dataframe thead th {\n",
       "        text-align: right;\n",
       "    }\n",
       "</style>\n",
       "<table border=\"1\" class=\"dataframe\">\n",
       "  <thead>\n",
       "    <tr style=\"text-align: right;\">\n",
       "      <th></th>\n",
       "      <th>country_pair</th>\n",
       "      <th>degree</th>\n",
       "      <th>betw</th>\n",
       "      <th>pagerank</th>\n",
       "      <th>zero_betw</th>\n",
       "    </tr>\n",
       "  </thead>\n",
       "  <tbody>\n",
       "    <tr>\n",
       "      <th>465</th>\n",
       "      <td>AL_SM</td>\n",
       "      <td>1.701657</td>\n",
       "      <td>0.000112</td>\n",
       "      <td>0.001842</td>\n",
       "      <td>0.753223</td>\n",
       "    </tr>\n",
       "    <tr>\n",
       "      <th>849</th>\n",
       "      <td>AL_MT</td>\n",
       "      <td>2.421414</td>\n",
       "      <td>0.000309</td>\n",
       "      <td>0.000686</td>\n",
       "      <td>0.705559</td>\n",
       "    </tr>\n",
       "    <tr>\n",
       "      <th>892</th>\n",
       "      <td>AL_LU</td>\n",
       "      <td>2.821205</td>\n",
       "      <td>0.000378</td>\n",
       "      <td>0.000329</td>\n",
       "      <td>0.691472</td>\n",
       "    </tr>\n",
       "    <tr>\n",
       "      <th>625</th>\n",
       "      <td>MT_SM</td>\n",
       "      <td>2.455966</td>\n",
       "      <td>0.000347</td>\n",
       "      <td>0.000710</td>\n",
       "      <td>0.683949</td>\n",
       "    </tr>\n",
       "    <tr>\n",
       "      <th>82</th>\n",
       "      <td>LU_SM</td>\n",
       "      <td>2.842528</td>\n",
       "      <td>0.000397</td>\n",
       "      <td>0.000334</td>\n",
       "      <td>0.681377</td>\n",
       "    </tr>\n",
       "    <tr>\n",
       "      <th>...</th>\n",
       "      <td>...</td>\n",
       "      <td>...</td>\n",
       "      <td>...</td>\n",
       "      <td>...</td>\n",
       "      <td>...</td>\n",
       "    </tr>\n",
       "    <tr>\n",
       "      <th>1161</th>\n",
       "      <td>MD_PT</td>\n",
       "      <td>13.491128</td>\n",
       "      <td>0.000009</td>\n",
       "      <td>0.000002</td>\n",
       "      <td>0.271799</td>\n",
       "    </tr>\n",
       "    <tr>\n",
       "      <th>479</th>\n",
       "      <td>AD_PT</td>\n",
       "      <td>13.496289</td>\n",
       "      <td>0.000009</td>\n",
       "      <td>0.000002</td>\n",
       "      <td>0.271618</td>\n",
       "    </tr>\n",
       "    <tr>\n",
       "      <th>447</th>\n",
       "      <td>AL_PT</td>\n",
       "      <td>13.500087</td>\n",
       "      <td>0.000009</td>\n",
       "      <td>0.000002</td>\n",
       "      <td>0.271600</td>\n",
       "    </tr>\n",
       "    <tr>\n",
       "      <th>595</th>\n",
       "      <td>PT_SM</td>\n",
       "      <td>13.503360</td>\n",
       "      <td>0.000009</td>\n",
       "      <td>0.000002</td>\n",
       "      <td>0.271342</td>\n",
       "    </tr>\n",
       "    <tr>\n",
       "      <th>300</th>\n",
       "      <td>LI_PT</td>\n",
       "      <td>13.506870</td>\n",
       "      <td>0.000009</td>\n",
       "      <td>0.000002</td>\n",
       "      <td>0.271045</td>\n",
       "    </tr>\n",
       "  </tbody>\n",
       "</table>\n",
       "<p>1176 rows × 5 columns</p>\n",
       "</div>"
      ],
      "text/plain": [
       "     country_pair     degree      betw  pagerank  zero_betw\n",
       "465         AL_SM   1.701657  0.000112  0.001842   0.753223\n",
       "849         AL_MT   2.421414  0.000309  0.000686   0.705559\n",
       "892         AL_LU   2.821205  0.000378  0.000329   0.691472\n",
       "625         MT_SM   2.455966  0.000347  0.000710   0.683949\n",
       "82          LU_SM   2.842528  0.000397  0.000334   0.681377\n",
       "...           ...        ...       ...       ...        ...\n",
       "1161        MD_PT  13.491128  0.000009  0.000002   0.271799\n",
       "479         AD_PT  13.496289  0.000009  0.000002   0.271618\n",
       "447         AL_PT  13.500087  0.000009  0.000002   0.271600\n",
       "595         PT_SM  13.503360  0.000009  0.000002   0.271342\n",
       "300         LI_PT  13.506870  0.000009  0.000002   0.271045\n",
       "\n",
       "[1176 rows x 5 columns]"
      ]
     },
     "execution_count": 31,
     "metadata": {},
     "output_type": "execute_result"
    }
   ],
   "source": [
    "df.sort_values('zero_betw',ascending=False)"
   ]
  },
  {
   "cell_type": "code",
   "execution_count": 42,
   "metadata": {},
   "outputs": [
    {
     "data": {
      "text/plain": [
       "<AxesSubplot:xlabel='degree', ylabel='betw'>"
      ]
     },
     "execution_count": 42,
     "metadata": {},
     "output_type": "execute_result"
    },
    {
     "data": {
      "image/png": "[encoded data removed]",
      "text/plain": [
       "<Figure size 432x288 with 1 Axes>"
      ]
     },
     "metadata": {
      "needs_background": "light"
     },
     "output_type": "display_data"
    }
   ],
   "source": [
    "sns.regplot(x='degree',y='betw',data=df,line_kws={'color': 'r'},lowess=True)"
   ]
  },
  {
   "cell_type": "code",
   "execution_count": 56,
   "metadata": {},
   "outputs": [
    {
     "data": {
      "text/plain": [
       "<AxesSubplot:xlabel='pagerank', ylabel='betw'>"
      ]
     },
     "execution_count": 56,
     "metadata": {},
     "output_type": "execute_result"
    },
    {
     "data": {
      "image/png": "[encoded data removed]",
      "text/plain": [
       "<Figure size 432x288 with 1 Axes>"
      ]
     },
     "metadata": {
      "needs_background": "light"
     },
     "output_type": "display_data"
    }
   ],
   "source": [
    "sns.regplot(x='pagerank',y='betw',data=df,line_kws={'color': 'r'},lowess=True)"
   ]
  },
  {
   "cell_type": "code",
   "execution_count": 45,
   "metadata": {},
   "outputs": [],
   "source": [
    "df1 = df[df['country_pair'].isin(['DE_PL','DE_TR','ES_PT'])]"
   ]
  },
  {
   "cell_type": "code",
   "execution_count": 46,
   "metadata": {},
   "outputs": [
    {
     "data": {
      "text/plain": [
       "<AxesSubplot:xlabel='country_pair', ylabel='degree'>"
      ]
     },
     "execution_count": 46,
     "metadata": {},
     "output_type": "execute_result"
    },
    {
     "data": {
      "image/png": "[encoded data removed]",
      "text/plain": [
       "<Figure size 432x288 with 1 Axes>"
      ]
     },
     "metadata": {
      "needs_background": "light"
     },
     "output_type": "display_data"
    }
   ],
   "source": [
    "sns.barplot(x='country_pair',y='degree',data=df1)"
   ]
  },
  {
   "cell_type": "code",
   "execution_count": 47,
   "metadata": {},
   "outputs": [
    {
     "data": {
      "text/plain": [
       "<AxesSubplot:xlabel='country_pair', ylabel='pagerank'>"
      ]
     },
     "execution_count": 47,
     "metadata": {},
     "output_type": "execute_result"
    },
    {
     "data": {
      "image/png": "[encoded data removed]",
      "text/plain": [
       "<Figure size 432x288 with 1 Axes>"
      ]
     },
     "metadata": {
      "needs_background": "light"
     },
     "output_type": "display_data"
    }
   ],
   "source": [
    "sns.barplot(x='country_pair',y='pagerank',data=df1)"
   ]
  },
  {
   "cell_type": "code",
   "execution_count": 48,
   "metadata": {},
   "outputs": [
    {
     "data": {
      "text/plain": [
       "<AxesSubplot:xlabel='country_pair', ylabel='betw'>"
      ]
     },
     "execution_count": 48,
     "metadata": {},
     "output_type": "execute_result"
    },
    {
     "data": {
      "image/png": "[encoded data removed]",
      "text/plain": [
       "<Figure size 432x288 with 1 Axes>"
      ]
     },
     "metadata": {
      "needs_background": "light"
     },
     "output_type": "display_data"
    }
   ],
   "source": [
    "sns.barplot(x='country_pair',y='betw',data=df1)"
   ]
  },
  {
   "cell_type": "code",
   "execution_count": 49,
   "metadata": {},
   "outputs": [
    {
     "data": {
      "text/plain": [
       "<AxesSubplot:xlabel='country_pair', ylabel='zero_betw'>"
      ]
     },
     "execution_count": 49,
     "metadata": {},
     "output_type": "execute_result"
    },
    {
     "data": {
      "image/png": "[encoded data removed]",
      "text/plain": [
       "<Figure size 432x288 with 1 Axes>"
      ]
     },
     "metadata": {
      "needs_background": "light"
     },
     "output_type": "display_data"
    }
   ],
   "source": [
    "sns.barplot(x='country_pair',y='zero_betw',data=df1)"
   ]
  },
  {
   "cell_type": "code",
   "execution_count": 51,
   "metadata": {},
   "outputs": [],
   "source": [
    "df_combined = []\n",
    "for filename in ['DE_PL.tsv','DE_TR.tsv','ES_PT.tsv']:\n",
    "    filename2 = os.path.join('/shared/2/projects/cross-lingual-exchange/data/network_calculations/',filename)\n",
    "    df = pd.read_csv(filename2,sep='\\t')\n",
    "    df['country_pair'] = os.path.basename(filename).strip('.tsv')\n",
    "    df_combined.append(df)"
   ]
  },
  {
   "cell_type": "code",
   "execution_count": 52,
   "metadata": {},
   "outputs": [],
   "source": [
    "df_combined = pd.concat(df_combined)"
   ]
  },
  {
   "cell_type": "code",
   "execution_count": null,
   "metadata": {},
   "outputs": [],
   "source": []
  }
 ],
 "metadata": {
  "kernelspec": {
   "display_name": "Python 3",
   "language": "python",
   "name": "python3"
  },
  "language_info": {
   "codemirror_mode": {
    "name": "ipython",
    "version": 3
   },
   "file_extension": ".py",
   "mimetype": "text/x-python",
   "name": "python",
   "nbconvert_exporter": "python",
   "pygments_lexer": "ipython3",
   "version": "3.7.4"
  }
 },
 "nbformat": 4,
 "nbformat_minor": 2
}
