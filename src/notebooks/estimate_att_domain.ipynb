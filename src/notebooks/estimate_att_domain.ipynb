{
 "cells": [
  {
   "cell_type": "code",
   "execution_count": 2,
   "id": "63f37cbc",
   "metadata": {},
   "outputs": [
    {
     "name": "stderr",
     "output_type": "stream",
     "text": [
      "Loading required package: Matrix\n",
      "\n",
      "Warning message:\n",
      "“package ‘lmerTest’ was built under R version 3.6.3”\n",
      "\n",
      "Attaching package: ‘lmerTest’\n",
      "\n",
      "\n",
      "The following object is masked from ‘package:lme4’:\n",
      "\n",
      "    lmer\n",
      "\n",
      "\n",
      "The following object is masked from ‘package:stats’:\n",
      "\n",
      "    step\n",
      "\n",
      "\n",
      "Warning message:\n",
      "“package ‘stargazer’ was built under R version 3.6.3”\n",
      "\n",
      "Please cite as: \n",
      "\n",
      "\n",
      " Hlavac, Marek (2018). stargazer: Well-Formatted Regression and Summary Statistics Tables.\n",
      "\n",
      " R package version 5.2.2. https://CRAN.R-project.org/package=stargazer \n",
      "\n",
      "\n",
      "Warning message:\n",
      "“package ‘lmtest’ was built under R version 3.6.3”\n",
      "Loading required package: zoo\n",
      "\n",
      "\n",
      "Attaching package: ‘zoo’\n",
      "\n",
      "\n",
      "The following objects are masked from ‘package:base’:\n",
      "\n",
      "    as.Date, as.Date.numeric\n",
      "\n",
      "\n",
      "Warning message:\n",
      "“package ‘sandwich’ was built under R version 3.6.3”\n"
     ]
    }
   ],
   "source": [
    "library(lme4)\n",
    "library(lmerTest)\n",
    "library(stargazer)\n",
    "library(MatchIt)\n",
    "library(\"lmtest\") #coeftest\n",
    "library(\"sandwich\") #vcovCL"
   ]
  },
  {
   "cell_type": "code",
   "execution_count": 3,
   "id": "25870416",
   "metadata": {},
   "outputs": [],
   "source": [
    "outcome.var <- 'temporal_hashtags' #temporal_hashtags # domains\n",
    "country.pair.dirs <- list.dirs(path=\"/shared/2/projects/cross-lingual-exchange/data/multilingual_friend_effect_dataframes_top100\")\n",
    "country.pair.dirs <- country.pair.dirs[2:length(country.pair.dirs)]\n",
    "out.file <- paste(\"/shared/2/projects/cross-lingual-exchange/results/att_\",outcome.var,\"_top100_with_rt.tsv\",sep='')"
   ]
  },
  {
   "cell_type": "code",
   "execution_count": 148,
   "id": "dc774d66",
   "metadata": {},
   "outputs": [],
   "source": [
    "x <- data.frame('Country Pair','Country','Estimate', 'Std. Error', 'P-value', 'Robust Std. Error', 'Robust P-value')\n",
    "write.table(x, file = out.file, sep = \"\\t\", append = TRUE, quote = FALSE,\n",
    "            col.names = FALSE, row.names = FALSE)"
   ]
  },
  {
   "cell_type": "code",
   "execution_count": 149,
   "id": "d97cf1bf",
   "metadata": {},
   "outputs": [],
   "source": [
    "all.data.frames <- vector(mode=\"list\",length=2*length(country.pair.dirs))"
   ]
  },
  {
   "cell_type": "code",
   "execution_count": 11,
   "id": "f3dc524d",
   "metadata": {},
   "outputs": [
    {
     "ename": "ERROR",
     "evalue": "Error in eval(expr, envir, enclos): object 'all.data.frames' not found\n",
     "output_type": "error",
     "traceback": [
      "Error in eval(expr, envir, enclos): object 'all.data.frames' not found\nTraceback:\n"
     ]
    }
   ],
   "source": [
    "for(i in 1:length(country.pair.dirs)){\n",
    "#for(i in 4:5){\n",
    "    country.pair.dir <- country.pair.dirs[[i]]\n",
    "    country.pair <- unlist(strsplit(basename(country.pair.dir),'_'))\n",
    "    \n",
    "    for(j in 1:2){\n",
    "        country <- country.pair[[j]]\n",
    "        filename <- paste(country.pair.dir,\"/\",country.pair[[j]],\".gz\",sep='')\n",
    "        df <- read.table(gzfile(filename),header=TRUE,sep='\\t')\n",
    "        ix <- as.integer(2*i + 1 - j)\n",
    "        df <- df[df$monolingual_majority == 1,]\n",
    "        df$id_str <- NULL\n",
    "        df$country <- NULL\n",
    "        df <- df[!rowSums(df < 0), ]\n",
    "        # Treatment: has_bilingual_neighbor\n",
    "        # Outcomes: has_domain_other_language, has_hashtag_other_language, has_temporal_hashtag_other_language\n",
    "        # Controls: log_degree, log_friends, log_followers, log_statuses, log_tweets, log_favourites, log_age, log_rate\n",
    "        # More controls: verified, log_betw,\n",
    "        df$log_degree <- log(df$num_neighbors + 1)\n",
    "        df$log_friends <- log(df$friends_count + 1)\n",
    "        df$log_followers <- log(df$followers_count + 1)\n",
    "        df$log_statuses <- log(df$statuses_count + 1)\n",
    "        df$log_tweets <- log(df$decahose_tweet_count + 1)\n",
    "        df$log_favourites <- log(df$favourites_count + 1)\n",
    "        df$scaled_betw <- 1000000 * df$betw\n",
    "        df$log_betw <- log(df$scaled_betw + 1)\n",
    "        df$log_rate <- log(df$post_rate + 1)\n",
    "        df$log_age <- log(df$account_age + 1) # make that linear\n",
    "        df$outcome <- df[[paste(\"has_\",outcome.var,\"_top100_other_language\",sep='')]]\n",
    "        all.data.frames[[ix]] <- df\n",
    "\n",
    "        \n",
    "        if (sum(df$has_bilingual_neighbor) >= 100 && sum(df$outcome)>=100){\n",
    "            m <- matchit(has_bilingual_neighbor ~ log_degree\n",
    "                       + verified + log_friends + log_followers + log_statuses + log_favourites\n",
    "                       + log_age + log_rate + log_tweets,\n",
    "                       data=df,method='subclass',subclass=25,\n",
    "                       estimand='ATT')\n",
    "            m.data <- match.data(m)\n",
    "            fit <- glm(outcome ~ has_bilingual_neighbor + log_degree\n",
    "                       + verified + log_friends + log_followers + log_statuses + log_favourites\n",
    "                       + log_age + log_rate + log_tweets\n",
    "                       ,data=m.data,weights=weights,\n",
    "                     family=quasibinomial(link=\"logit\"),\n",
    "                      )\n",
    "            rr <- as.numeric(exp(coef(fit)[2]))\n",
    "            se <- as.numeric(summary(fit)$coefficients[, 2][2])\n",
    "            p <- as.numeric(summary(fit)$coefficients[,4][2])\n",
    "            res.robust <- coeftest(fit,vcov. = vcovHC)\n",
    "            se.robust <- res.robust[2,2]\n",
    "            p.robust <- res.robust[2,4]\n",
    "            x <- c(paste(country.pair[1],country.pair[2],sep='_'),country,rr,se,p,se.robust,p.robust)\n",
    "            cat(x,'\\n')\n",
    "            x <- as.matrix(t(x))\n",
    "            write.table(x, file = out.file, sep = \"\\t\", append = TRUE, quote = FALSE,col.names = FALSE, row.names = FALSE)\n",
    "        }\n",
    "    }\n",
    "}"
   ]
  },
  {
   "cell_type": "code",
   "execution_count": 144,
   "id": "bddc0b14",
   "metadata": {},
   "outputs": [],
   "source": [
    "df <- do.call(\"rbind\", all.data.frames)"
   ]
  },
  {
   "cell_type": "code",
   "execution_count": 145,
   "id": "15b94e38",
   "metadata": {},
   "outputs": [
    {
     "name": "stdout",
     "output_type": "stream",
     "text": [
      "all all 15.56989328832 0.00300388217021281 0 0.0037875372125615 0 \n"
     ]
    }
   ],
   "source": [
    "m <- matchit(has_bilingual_neighbor ~ log_degree\n",
    "           + verified + log_friends + log_followers + log_statuses + log_favourites\n",
    "           + log_age + log_rate + log_tweets,\n",
    "           data=df,method='subclass',subclass=25,\n",
    "           estimand='ATT')\n",
    "m.data <- match.data(m)\n",
    "fit <- glm(outcome ~ has_bilingual_neighbor + log_degree\n",
    "           + verified + log_friends + log_followers + log_statuses + log_favourites\n",
    "           + log_age + log_rate + log_tweets\n",
    "           ,data=m.data,weights=weights,\n",
    "         family=quasibinomial(link=\"logit\"),\n",
    "          )\n",
    "rr <- as.numeric(exp(coef(fit)[2]))\n",
    "se <- as.numeric(summary(fit)$coefficients[, 2][2])\n",
    "p <- as.numeric(summary(fit)$coefficients[,4][2])\n",
    "res.robust <- coeftest(fit,vcov. = vcovHC)\n",
    "se.robust <- res.robust[2,2]\n",
    "p.robust <- res.robust[2,4]\n",
    "x <- c('all','all',rr,se,p,se.robust,p.robust)\n",
    "cat(x,'\\n')\n",
    "x <- as.matrix(t(x))\n",
    "write.table(x, file = out.file, sep = \"\\t\", append = TRUE, quote = FALSE,col.names = FALSE, row.names = FALSE)"
   ]
  },
  {
   "cell_type": "code",
   "execution_count": null,
   "id": "56f466e2",
   "metadata": {},
   "outputs": [],
   "source": []
  }
 ],
 "metadata": {
  "kernelspec": {
   "display_name": "R",
   "language": "R",
   "name": "ir"
  },
  "language_info": {
   "codemirror_mode": "r",
   "file_extension": ".r",
   "mimetype": "text/x-r-source",
   "name": "R",
   "pygments_lexer": "r",
   "version": "3.6.1"
  }
 },
 "nbformat": 4,
 "nbformat_minor": 5
}
