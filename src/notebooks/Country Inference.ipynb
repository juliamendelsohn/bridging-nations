{
 "cells": [
  {
   "cell_type": "code",
   "execution_count": 10,
   "metadata": {},
   "outputs": [],
   "source": [
    "import pandas as pd\n",
    "import gzip\n",
    "from collections import *\n",
    "import geopandas\n",
    "from shapely.geometry import Point\n",
    "from geopandas.tools import sjoin"
   ]
  },
  {
   "cell_type": "code",
   "execution_count": null,
   "metadata": {},
   "outputs": [],
   "source": [
    "uid_to_loc = {}\n",
    "\n",
    "\n",
    "with gzip.open('/shared/1/projects/location-inference/data/locations.2012-2019.from-merged.all.4-iter.tsv_iter_3.tsv.gz') as f:\n",
    "    loc_data = pd.read_csv(f, sep='\\t', names = [\"user_id\", \"latitude\", \"longitude\", \"unnamed\"], index_col=False)"
   ]
  },
  {
   "cell_type": "code",
   "execution_count": null,
   "metadata": {},
   "outputs": [],
   "source": [
    "loc_data.head()"
   ]
  },
  {
   "cell_type": "code",
   "execution_count": null,
   "metadata": {},
   "outputs": [],
   "source": [
    "#this is switched with respect to the labels, should fix above\n",
    "\n",
    "gdf = geopandas.GeoDataFrame(\n",
    "    loc_data, geometry=geopandas.points_from_xy(loc_data.longitude, loc_data.latitude))\n",
    "print(gdf.head())"
   ]
  },
  {
   "cell_type": "code",
   "execution_count": null,
   "metadata": {},
   "outputs": [],
   "source": [
    "world = geopandas.read_file(geopandas.datasets.get_path('naturalearth_lowres'))\n",
    "print(world.head())"
   ]
  },
  {
   "cell_type": "code",
   "execution_count": null,
   "metadata": {},
   "outputs": [],
   "source": [
    "import rtree\n",
    "gdf.crs = {'init' :'epsg:4326'}\n",
    "world = world[[\"name\", \"geometry\"]]\n",
    "loc_data = geopandas.sjoin(gdf, world, how=\"left\", op=\"within\")\n",
    "print(loc_data)"
   ]
  },
  {
   "cell_type": "code",
   "execution_count": 1,
   "metadata": {},
   "outputs": [
    {
     "name": "stdout",
     "output_type": "stream",
     "text": [
      "[('India', 'IN'), ('Jamaica', 'JM'), ('Nigeria', 'NG'), ('Senegal', 'SN'), ('Singapore', 'SG'), ('Philippines', 'PH'), ('Bahamas', 'BS'), ('Mexico', 'MX'), ('Ghana', 'GH'), ('Sri Lanka', 'LK'), ('Pakistan', 'PK')]\n"
     ]
    }
   ],
   "source": [
    "relevant_countries = [('India', 'IN'), ('Jamaica', 'JM'), ('Nigeria', 'NG'),('Philippines', 'PH'), ('Bahamas', 'BS'), ('Mexico', 'MX'), ('Ghana', 'GH'), ('Sri Lanka', 'LK'), ('Pakistan', 'PK')]\n",
    "print(relevant_countries)"
   ]
  },
  {
   "cell_type": "code",
   "execution_count": 13,
   "metadata": {},
   "outputs": [],
   "source": [
    "for country in relevant_countries:\n",
    "    relevant_users = loc_data.loc[(loc_data.name==country[0])].copy()\n",
    "    relevant_users.rename(index=str, columns={\"name\": \"country\"}, inplace=True)\n",
    "    relevant_users.drop(columns=['latitude', 'longitude', 'geometry', 'index_right', 'unnamed'], inplace=True)\n",
    "    relevant_users.set_index('user_id')\n",
    "    relevant_users.to_csv(r'/home/sayghosh/hate-speech-examination/data/user_lists/' + country[1] + '.tsv', sep='\\t', encoding='utf-8')"
   ]
  },
  {
   "cell_type": "code",
   "execution_count": null,
   "metadata": {},
   "outputs": [],
   "source": []
  }
 ],
 "metadata": {
  "kernelspec": {
   "display_name": "Python 3",
   "language": "python",
   "name": "python3"
  },
  "language_info": {
   "codemirror_mode": {
    "name": "ipython",
    "version": 3
   },
   "file_extension": ".py",
   "mimetype": "text/x-python",
   "name": "python",
   "nbconvert_exporter": "python",
   "pygments_lexer": "ipython3",
   "version": "3.6.8"
  }
 },
 "nbformat": 4,
 "nbformat_minor": 2
}
