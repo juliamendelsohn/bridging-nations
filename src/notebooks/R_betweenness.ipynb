{
 "cells": [
  {
   "cell_type": "code",
   "execution_count": 5,
   "metadata": {},
   "outputs": [
    {
     "name": "stderr",
     "output_type": "stream",
     "text": [
      "Warning message:\n",
      "“package ‘lmerTest’ was built under R version 3.6.2”\n",
      "Attaching package: ‘lmerTest’\n",
      "\n",
      "The following object is masked from ‘package:lme4’:\n",
      "\n",
      "    lmer\n",
      "\n",
      "The following object is masked from ‘package:stats’:\n",
      "\n",
      "    step\n",
      "\n",
      "\n",
      "Please cite as: \n",
      "\n",
      " Hlavac, Marek (2018). stargazer: Well-Formatted Regression and Summary Statistics Tables.\n",
      " R package version 5.2.2. https://CRAN.R-project.org/package=stargazer \n",
      "\n"
     ]
    }
   ],
   "source": [
    "library(lme4)\n",
    "library(lmerTest)\n",
    "library(stargazer)"
   ]
  },
  {
   "cell_type": "code",
   "execution_count": 30,
   "metadata": {},
   "outputs": [],
   "source": [
    "#language_pairs = [('de','pl'),('de','tr'),('es','pt')]\n",
    "df.de.pl <- read.table('/shared/0/projects/cross-lingual-exchange/data/dataframes/de_pl.tsv')\n",
    "df.de.tr <- read.table('/shared/0/projects/cross-lingual-exchange/data/dataframes/de_tr.tsv')\n",
    "df.es.pt <- read.table('/shared/0/projects/cross-lingual-exchange/data/dataframes/es_pt.tsv')"
   ]
  },
  {
   "cell_type": "code",
   "execution_count": 31,
   "metadata": {},
   "outputs": [],
   "source": [
    "cols <- c('user_id','lang','bilinguality','country','betw','num_tweets','followers',\n",
    "    'following','hashtag_count','url_count','degree')\n",
    "colnames(df.de.pl) <- cols\n",
    "colnames(df.de.tr) <- cols\n",
    "colnames(df.es.pt) <- cols\n",
    "\n"
   ]
  },
  {
   "cell_type": "code",
   "execution_count": 32,
   "metadata": {},
   "outputs": [],
   "source": [
    "df.de.pl$is_bilingual <- ifelse(df.de.pl$lang == 'BI',1,0) \n",
    "df.de.pl$is_bilingual <- factor(df.de.pl$is_bilingual)\n",
    "\n",
    "df.de.tr$is_bilingual <- ifelse(df.de.tr$lang == 'BI',1,0) \n",
    "df.de.tr$is_bilingual <- factor(df.de.tr$is_bilingual)\n",
    "\n",
    "df.es.pt$is_bilingual <- ifelse(df.es.pt$lang == 'BI',1,0) \n",
    "df.es.pt$is_bilingual <- factor(df.es.pt$is_bilingual)\n"
   ]
  },
  {
   "cell_type": "code",
   "execution_count": 36,
   "metadata": {},
   "outputs": [],
   "source": [
    "#('user_id','lang','bilinguality','country','betw','num_tweets','followers',\n",
    " #   'following','hashtag_count','url_count','degree')\n",
    "lm.out.de.pl <- lm(betw ~ is_bilingual + country + followers + \n",
    "                   following + num_tweets + hashtag_count + url_count + degree,data=df.de.pl)\n",
    "lm.out.de.tr <- lm(betw ~ is_bilingual + country + followers + \n",
    "                   following + num_tweets + hashtag_count + url_count + degree,data=df.de.tr)\n",
    "lm.out.es.pt <- lm(betw ~ is_bilingual + country + followers + \n",
    "                   following + num_tweets + hashtag_count + url_count + degree,data=df.es.pt)"
   ]
  },
  {
   "cell_type": "code",
   "execution_count": 37,
   "metadata": {},
   "outputs": [
    {
     "data": {
      "text/plain": [
       "\n",
       "Call:\n",
       "lm(formula = betw ~ is_bilingual + country + followers + following + \n",
       "    num_tweets + hashtag_count + url_count + degree, data = df.de.pl)\n",
       "\n",
       "Residuals:\n",
       "       Min         1Q     Median         3Q        Max \n",
       "-0.0009362 -0.0000134  0.0000011  0.0000086  0.0283447 \n",
       "\n",
       "Coefficients:\n",
       "                Estimate Std. Error t value Pr(>|t|)    \n",
       "(Intercept)    4.564e-06  1.032e-06   4.420 9.86e-06 ***\n",
       "is_bilingual1  2.895e-05  2.644e-06  10.950  < 2e-16 ***\n",
       "countryPoland -1.548e-05  1.129e-06 -13.717  < 2e-16 ***\n",
       "followers      5.789e-10  8.615e-11   6.720 1.83e-11 ***\n",
       "following      3.581e-09  5.296e-10   6.762 1.37e-11 ***\n",
       "num_tweets    -2.609e-08  3.658e-09  -7.132 9.94e-13 ***\n",
       "hashtag_count  4.812e-08  5.480e-09   8.781  < 2e-16 ***\n",
       "url_count     -5.142e-08  1.007e-08  -5.109 3.25e-07 ***\n",
       "degree         9.363e-07  8.169e-09 114.605  < 2e-16 ***\n",
       "---\n",
       "Signif. codes:  0 ‘***’ 0.001 ‘**’ 0.01 ‘*’ 0.05 ‘.’ 0.1 ‘ ’ 1\n",
       "\n",
       "Residual standard error: 0.000176 on 137835 degrees of freedom\n",
       "Multiple R-squared:  0.1166,\tAdjusted R-squared:  0.1165 \n",
       "F-statistic:  2273 on 8 and 137835 DF,  p-value: < 2.2e-16\n"
      ]
     },
     "metadata": {},
     "output_type": "display_data"
    }
   ],
   "source": [
    "summary(lm.out.de.pl)"
   ]
  },
  {
   "cell_type": "code",
   "execution_count": 38,
   "metadata": {},
   "outputs": [
    {
     "data": {
      "text/plain": [
       "\n",
       "Call:\n",
       "lm(formula = betw ~ is_bilingual + country + followers + following + \n",
       "    num_tweets + hashtag_count + url_count + degree, data = df.de.tr)\n",
       "\n",
       "Residuals:\n",
       "       Min         1Q     Median         3Q        Max \n",
       "-0.0007881 -0.0000031  0.0000019  0.0000044  0.0092901 \n",
       "\n",
       "Coefficients:\n",
       "                Estimate Std. Error  t value Pr(>|t|)    \n",
       "(Intercept)   -2.744e-05  2.045e-07 -134.189   <2e-16 ***\n",
       "is_bilingual1  2.876e-07  2.804e-07    1.026   0.3050    \n",
       "countryTurkey  2.146e-05  2.043e-07  105.021   <2e-16 ***\n",
       "followers      2.698e-10  5.743e-12   46.984   <2e-16 ***\n",
       "following     -3.479e-10  1.732e-11  -20.080   <2e-16 ***\n",
       "num_tweets    -1.863e-08  6.280e-10  -29.659   <2e-16 ***\n",
       "hashtag_count  8.553e-09  9.153e-10    9.344   <2e-16 ***\n",
       "url_count      3.373e-09  1.673e-09    2.016   0.0438 *  \n",
       "degree         1.657e-06  3.056e-09  542.316   <2e-16 ***\n",
       "---\n",
       "Signif. codes:  0 ‘***’ 0.001 ‘**’ 0.01 ‘*’ 0.05 ‘.’ 0.1 ‘ ’ 1\n",
       "\n",
       "Residual standard error: 3.551e-05 on 653711 degrees of freedom\n",
       "Multiple R-squared:  0.3302,\tAdjusted R-squared:  0.3302 \n",
       "F-statistic: 4.029e+04 on 8 and 653711 DF,  p-value: < 2.2e-16\n"
      ]
     },
     "metadata": {},
     "output_type": "display_data"
    }
   ],
   "source": [
    "summary(lm.out.de.tr)"
   ]
  },
  {
   "cell_type": "code",
   "execution_count": 39,
   "metadata": {},
   "outputs": [
    {
     "data": {
      "text/plain": [
       "\n",
       "Call:\n",
       "lm(formula = betw ~ is_bilingual + country + followers + following + \n",
       "    num_tweets + hashtag_count + url_count + degree, data = df.es.pt)\n",
       "\n",
       "Residuals:\n",
       "       Min         1Q     Median         3Q        Max \n",
       "-1.430e-04 -2.060e-06  2.700e-07  1.440e-06  1.866e-03 \n",
       "\n",
       "Coefficients:\n",
       "                Estimate Std. Error t value Pr(>|t|)    \n",
       "(Intercept)   -1.605e-06  7.693e-08 -20.865  < 2e-16 ***\n",
       "is_bilingual1 -1.086e-08  4.842e-08  -0.224 0.822580    \n",
       "countrySpain  -2.799e-07  7.538e-08  -3.713 0.000205 ***\n",
       "followers     -4.516e-10  3.018e-11 -14.965  < 2e-16 ***\n",
       "following     -3.538e-10  3.823e-11  -9.253  < 2e-16 ***\n",
       "num_tweets     3.307e-09  2.481e-10  13.330  < 2e-16 ***\n",
       "hashtag_count  4.120e-10  4.694e-10   0.878 0.380137    \n",
       "url_count     -5.084e-09  5.638e-10  -9.018  < 2e-16 ***\n",
       "degree         1.554e-07  4.247e-10 366.040  < 2e-16 ***\n",
       "---\n",
       "Signif. codes:  0 ‘***’ 0.001 ‘**’ 0.01 ‘*’ 0.05 ‘.’ 0.1 ‘ ’ 1\n",
       "\n",
       "Residual standard error: 1.451e-05 on 591859 degrees of freedom\n",
       "Multiple R-squared:  0.2074,\tAdjusted R-squared:  0.2074 \n",
       "F-statistic: 1.936e+04 on 8 and 591859 DF,  p-value: < 2.2e-16\n"
      ]
     },
     "metadata": {},
     "output_type": "display_data"
    }
   ],
   "source": [
    "summary(lm.out.es.pt)"
   ]
  },
  {
   "cell_type": "code",
   "execution_count": 40,
   "metadata": {},
   "outputs": [
    {
     "ename": "ERROR",
     "evalue": "Error in library(\"MatchIt\"): there is no package called ‘MatchIt’\n",
     "output_type": "error",
     "traceback": [
      "Error in library(\"MatchIt\"): there is no package called ‘MatchIt’\nTraceback:\n",
      "1. library(\"MatchIt\")"
     ]
    }
   ],
   "source": [
    "library(\"MatchIt\")\n",
    "data(\"lalonde\")"
   ]
  },
  {
   "cell_type": "code",
   "execution_count": null,
   "metadata": {},
   "outputs": [],
   "source": []
  }
 ],
 "metadata": {
  "kernelspec": {
   "display_name": "R",
   "language": "R",
   "name": "ir"
  },
  "language_info": {
   "codemirror_mode": "r",
   "file_extension": ".r",
   "mimetype": "text/x-r-source",
   "name": "R",
   "pygments_lexer": "r",
   "version": "3.6.1"
  }
 },
 "nbformat": 4,
 "nbformat_minor": 2
}
