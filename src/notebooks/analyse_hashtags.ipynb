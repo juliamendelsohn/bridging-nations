{
 "cells": [
  {
   "cell_type": "code",
   "execution_count": 14,
   "metadata": {},
   "outputs": [],
   "source": [
    "import glob\n",
    "import os\n",
    "import ujson\n",
    "import csv"
   ]
  },
  {
   "cell_type": "code",
   "execution_count": 15,
   "metadata": {},
   "outputs": [],
   "source": [
    "hashtag_lists = glob.glob('/shared/0/projects/cross-lingual-exchange/data/hashtags/*/*.txt')\n",
    "hashtag_data = {}"
   ]
  },
  {
   "cell_type": "code",
   "execution_count": null,
   "metadata": {},
   "outputs": [],
   "source": [
    "for hashtag_list in hashtag_lists:\n",
    "    filename = os.path.splitext(os.path.basename(hashtag_list))[0]\n",
    "    hashtag = filename.split('_')[0].lower()\n",
    "    lang = filename.split('_')[-1]\n",
    "    \n",
    "    if hashtag not in hashtag_data:\n",
    "        hashtag_data[hashtag] = {'de': 0, 'en': 0, 'es': 0, 'pt': 0, 'tr':0, 'pl':0}\n",
    "    else:\n",
    "        with open(hashtag_list, 'r') as f:\n",
    "            for line in f:\n",
    "                hashtag_data[hashtag][lang] += 1"
   ]
  },
  {
   "cell_type": "code",
   "execution_count": 27,
   "metadata": {},
   "outputs": [],
   "source": [
    "with open('/home/sayghosh/cross-lingual-exchange/notebooks/hashtag_data.tsv', 'w+') as f:\n",
    "    writer = csv.writer(f, delimiter='\\t')\n",
    "    headers = ['hashtag', 'num_langs', 'de_count', 'en_count', 'es_count', 'pt_count', 'tr_count', 'pl_count']\n",
    "    writer.writerow(headers)\n",
    "    for hashtag, counts in hashtag_data.items():\n",
    "        num_langs = 0\n",
    "        for lang in counts:\n",
    "            if counts[lang] > 0:\n",
    "                num_langs += 1\n",
    "        writer.writerow([hashtag, num_langs, counts['de'], counts['en'], \n",
    "                         counts['es'], counts['pt'], counts['tr'], counts['pl']])"
   ]
  },
  {
   "cell_type": "code",
   "execution_count": null,
   "metadata": {},
   "outputs": [],
   "source": []
  }
 ],
 "metadata": {
  "kernelspec": {
   "display_name": "Python 3",
   "language": "python",
   "name": "python3"
  },
  "language_info": {
   "codemirror_mode": {
    "name": "ipython",
    "version": 3
   },
   "file_extension": ".py",
   "mimetype": "text/x-python",
   "name": "python",
   "nbconvert_exporter": "python",
   "pygments_lexer": "ipython3",
   "version": "3.7.4"
  }
 },
 "nbformat": 4,
 "nbformat_minor": 2
}
