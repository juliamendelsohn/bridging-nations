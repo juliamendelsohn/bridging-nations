{
 "cells": [
  {
   "cell_type": "code",
   "execution_count": 28,
   "metadata": {},
   "outputs": [],
   "source": [
    "import pandas as pd\n",
    "import seaborn as sns\n",
    "from matplotlib import pyplot as plt"
   ]
  },
  {
   "cell_type": "code",
   "execution_count": 89,
   "metadata": {},
   "outputs": [
    {
     "ename": "AttributeError",
     "evalue": "'DataFrame' object has no attribute 'read_csv'",
     "output_type": "error",
     "traceback": [
      "\u001b[0;31m---------------------------------------------------------------------------\u001b[0m",
      "\u001b[0;31mAttributeError\u001b[0m                            Traceback (most recent call last)",
      "\u001b[0;32m<ipython-input-89-2e1dfd8ffaa6>\u001b[0m in \u001b[0;36m<module>\u001b[0;34m\u001b[0m\n\u001b[1;32m      1\u001b[0m \u001b[0mdf\u001b[0m \u001b[0;34m=\u001b[0m \u001b[0mpd\u001b[0m\u001b[0;34m.\u001b[0m\u001b[0mread_csv\u001b[0m\u001b[0;34m(\u001b[0m\u001b[0;34m'/shared/2/projects/cross-lingual-exchange/results/user_multilingual_thresholds.tsv'\u001b[0m\u001b[0;34m,\u001b[0m\u001b[0msep\u001b[0m\u001b[0;34m=\u001b[0m\u001b[0;34m'\\t'\u001b[0m\u001b[0;34m)\u001b[0m\u001b[0;34m\u001b[0m\u001b[0;34m\u001b[0m\u001b[0m\n\u001b[0;32m----> 2\u001b[0;31m \u001b[0mdf_thresh\u001b[0m\u001b[0;34m.\u001b[0m\u001b[0mread_csv\u001b[0m\u001b[0;34m(\u001b[0m\u001b[0;34m'/shared/2/projects/cross-lingual-exchange/results/betw_mean_vary_thresholds.tsv'\u001b[0m\u001b[0;34m,\u001b[0m\u001b[0msep\u001b[0m\u001b[0;34m=\u001b[0m\u001b[0;34m'\\t'\u001b[0m\u001b[0;34m)\u001b[0m\u001b[0;34m\u001b[0m\u001b[0;34m\u001b[0m\u001b[0m\n\u001b[0m",
      "\u001b[0;32m/opt/anaconda/lib/python3.8/site-packages/pandas/core/generic.py\u001b[0m in \u001b[0;36m__getattr__\u001b[0;34m(self, name)\u001b[0m\n\u001b[1;32m   5485\u001b[0m         ):\n\u001b[1;32m   5486\u001b[0m             \u001b[0;32mreturn\u001b[0m \u001b[0mself\u001b[0m\u001b[0;34m[\u001b[0m\u001b[0mname\u001b[0m\u001b[0;34m]\u001b[0m\u001b[0;34m\u001b[0m\u001b[0;34m\u001b[0m\u001b[0m\n\u001b[0;32m-> 5487\u001b[0;31m         \u001b[0;32mreturn\u001b[0m \u001b[0mobject\u001b[0m\u001b[0;34m.\u001b[0m\u001b[0m__getattribute__\u001b[0m\u001b[0;34m(\u001b[0m\u001b[0mself\u001b[0m\u001b[0;34m,\u001b[0m \u001b[0mname\u001b[0m\u001b[0;34m)\u001b[0m\u001b[0;34m\u001b[0m\u001b[0;34m\u001b[0m\u001b[0m\n\u001b[0m\u001b[1;32m   5488\u001b[0m \u001b[0;34m\u001b[0m\u001b[0m\n\u001b[1;32m   5489\u001b[0m     \u001b[0;32mdef\u001b[0m \u001b[0m__setattr__\u001b[0m\u001b[0;34m(\u001b[0m\u001b[0mself\u001b[0m\u001b[0;34m,\u001b[0m \u001b[0mname\u001b[0m\u001b[0;34m:\u001b[0m \u001b[0mstr\u001b[0m\u001b[0;34m,\u001b[0m \u001b[0mvalue\u001b[0m\u001b[0;34m)\u001b[0m \u001b[0;34m->\u001b[0m \u001b[0;32mNone\u001b[0m\u001b[0;34m:\u001b[0m\u001b[0;34m\u001b[0m\u001b[0;34m\u001b[0m\u001b[0m\n",
      "\u001b[0;31mAttributeError\u001b[0m: 'DataFrame' object has no attribute 'read_csv'"
     ]
    }
   ],
   "source": [
    "df = pd.read_csv('/shared/2/projects/cross-lingual-exchange/results/user_multilingual_thresholds.tsv',sep='\\t')"
   ]
  },
  {
   "cell_type": "code",
   "execution_count": 90,
   "metadata": {},
   "outputs": [],
   "source": [
    "df_thresh = pd.read_csv('/shared/2/projects/cross-lingual-exchange/results/betw_mean_vary_thresholds.tsv',sep='\\t')\n"
   ]
  },
  {
   "cell_type": "code",
   "execution_count": 91,
   "metadata": {},
   "outputs": [
    {
     "data": {
      "text/html": [
       "<div>\n",
       "<style scoped>\n",
       "    .dataframe tbody tr th:only-of-type {\n",
       "        vertical-align: middle;\n",
       "    }\n",
       "\n",
       "    .dataframe tbody tr th {\n",
       "        vertical-align: top;\n",
       "    }\n",
       "\n",
       "    .dataframe thead th {\n",
       "        text-align: right;\n",
       "    }\n",
       "</style>\n",
       "<table border=\"1\" class=\"dataframe\">\n",
       "  <thead>\n",
       "    <tr style=\"text-align: right;\">\n",
       "      <th></th>\n",
       "      <th>Unnamed: 0</th>\n",
       "      <th>Threshold</th>\n",
       "      <th>Mean</th>\n",
       "      <th>Std. Error</th>\n",
       "      <th>Difference</th>\n",
       "    </tr>\n",
       "  </thead>\n",
       "  <tbody>\n",
       "    <tr>\n",
       "      <th>0</th>\n",
       "      <td>0</td>\n",
       "      <td>0.000</td>\n",
       "      <td>0.413154</td>\n",
       "      <td>0.000062</td>\n",
       "      <td>NaN</td>\n",
       "    </tr>\n",
       "    <tr>\n",
       "      <th>1</th>\n",
       "      <td>1</td>\n",
       "      <td>0.005</td>\n",
       "      <td>0.513376</td>\n",
       "      <td>0.000280</td>\n",
       "      <td>0.106884</td>\n",
       "    </tr>\n",
       "    <tr>\n",
       "      <th>2</th>\n",
       "      <td>2</td>\n",
       "      <td>0.010</td>\n",
       "      <td>0.455283</td>\n",
       "      <td>0.000297</td>\n",
       "      <td>0.044341</td>\n",
       "    </tr>\n",
       "    <tr>\n",
       "      <th>3</th>\n",
       "      <td>3</td>\n",
       "      <td>0.015</td>\n",
       "      <td>0.434472</td>\n",
       "      <td>0.000317</td>\n",
       "      <td>0.022258</td>\n",
       "    </tr>\n",
       "    <tr>\n",
       "      <th>4</th>\n",
       "      <td>4</td>\n",
       "      <td>0.020</td>\n",
       "      <td>0.424490</td>\n",
       "      <td>0.000336</td>\n",
       "      <td>0.011772</td>\n",
       "    </tr>\n",
       "    <tr>\n",
       "      <th>...</th>\n",
       "      <td>...</td>\n",
       "      <td>...</td>\n",
       "      <td>...</td>\n",
       "      <td>...</td>\n",
       "      <td>...</td>\n",
       "    </tr>\n",
       "    <tr>\n",
       "      <th>96</th>\n",
       "      <td>96</td>\n",
       "      <td>0.480</td>\n",
       "      <td>0.264535</td>\n",
       "      <td>0.006060</td>\n",
       "      <td>-0.148629</td>\n",
       "    </tr>\n",
       "    <tr>\n",
       "      <th>97</th>\n",
       "      <td>97</td>\n",
       "      <td>0.485</td>\n",
       "      <td>0.247781</td>\n",
       "      <td>0.006164</td>\n",
       "      <td>-0.165383</td>\n",
       "    </tr>\n",
       "    <tr>\n",
       "      <th>98</th>\n",
       "      <td>98</td>\n",
       "      <td>0.490</td>\n",
       "      <td>0.237921</td>\n",
       "      <td>0.006146</td>\n",
       "      <td>-0.175243</td>\n",
       "    </tr>\n",
       "    <tr>\n",
       "      <th>99</th>\n",
       "      <td>99</td>\n",
       "      <td>0.495</td>\n",
       "      <td>0.232699</td>\n",
       "      <td>0.006161</td>\n",
       "      <td>-0.180465</td>\n",
       "    </tr>\n",
       "    <tr>\n",
       "      <th>100</th>\n",
       "      <td>100</td>\n",
       "      <td>0.500</td>\n",
       "      <td>0.232016</td>\n",
       "      <td>0.006164</td>\n",
       "      <td>-0.181148</td>\n",
       "    </tr>\n",
       "  </tbody>\n",
       "</table>\n",
       "<p>101 rows × 5 columns</p>\n",
       "</div>"
      ],
      "text/plain": [
       "     Unnamed: 0  Threshold      Mean  Std. Error  Difference\n",
       "0             0      0.000  0.413154    0.000062         NaN\n",
       "1             1      0.005  0.513376    0.000280    0.106884\n",
       "2             2      0.010  0.455283    0.000297    0.044341\n",
       "3             3      0.015  0.434472    0.000317    0.022258\n",
       "4             4      0.020  0.424490    0.000336    0.011772\n",
       "..          ...        ...       ...         ...         ...\n",
       "96           96      0.480  0.264535    0.006060   -0.148629\n",
       "97           97      0.485  0.247781    0.006164   -0.165383\n",
       "98           98      0.490  0.237921    0.006146   -0.175243\n",
       "99           99      0.495  0.232699    0.006161   -0.180465\n",
       "100         100      0.500  0.232016    0.006164   -0.181148\n",
       "\n",
       "[101 rows x 5 columns]"
      ]
     },
     "execution_count": 91,
     "metadata": {},
     "output_type": "execute_result"
    }
   ],
   "source": [
    "df_thresh"
   ]
  },
  {
   "cell_type": "code",
   "execution_count": 44,
   "metadata": {},
   "outputs": [
    {
     "data": {
      "text/plain": [
       "0.10000       0.000000\n",
       "0.25000       0.000000\n",
       "0.50000       0.024825\n",
       "0.75000       0.357177\n",
       "0.90000       1.759425\n",
       "0.95000       4.814165\n",
       "0.99000      39.692734\n",
       "0.99900     269.666302\n",
       "0.99990    1318.852645\n",
       "0.99999    7441.298725\n",
       "Name: scaled_betw, dtype: float64"
      ]
     },
     "execution_count": 44,
     "metadata": {},
     "output_type": "execute_result"
    }
   ],
   "source": [
    "df['scaled_betw'].quantile([.1,.25,.5,.75,.9,.95,.99,.999,.9999,.99999])"
   ]
  },
  {
   "cell_type": "code",
   "execution_count": 56,
   "metadata": {},
   "outputs": [
    {
     "data": {
      "text/plain": [
       "0.10000    0.000000\n",
       "0.25000    0.000000\n",
       "0.50000    0.024522\n",
       "0.75000    0.305407\n",
       "0.90000    1.015022\n",
       "0.95000    1.760297\n",
       "0.99000    3.706050\n",
       "0.99900    5.600887\n",
       "0.99990    7.185275\n",
       "0.99999    8.914935\n",
       "Name: log_betw, dtype: float64"
      ]
     },
     "execution_count": 56,
     "metadata": {},
     "output_type": "execute_result"
    }
   ],
   "source": [
    "df['log_betw'].quantile([.1,.25,.5,.75,.9,.95,.99,.999,.9999,.99999])"
   ]
  },
  {
   "cell_type": "code",
   "execution_count": 55,
   "metadata": {},
   "outputs": [],
   "source": [
    "df['log_betw'] = np.log(df['scaled_betw']+1)"
   ]
  },
  {
   "cell_type": "code",
   "execution_count": 4,
   "metadata": {},
   "outputs": [],
   "source": [
    "df_small = df.sample(1000)"
   ]
  },
  {
   "cell_type": "code",
   "execution_count": 5,
   "metadata": {},
   "outputs": [
    {
     "data": {
      "text/html": [
       "<div>\n",
       "<style scoped>\n",
       "    .dataframe tbody tr th:only-of-type {\n",
       "        vertical-align: middle;\n",
       "    }\n",
       "\n",
       "    .dataframe tbody tr th {\n",
       "        vertical-align: top;\n",
       "    }\n",
       "\n",
       "    .dataframe thead th {\n",
       "        text-align: right;\n",
       "    }\n",
       "</style>\n",
       "<table border=\"1\" class=\"dataframe\">\n",
       "  <thead>\n",
       "    <tr style=\"text-align: right;\">\n",
       "      <th></th>\n",
       "      <th>Unnamed: 0</th>\n",
       "      <th>uid</th>\n",
       "      <th>scaled_betw</th>\n",
       "      <th>multilingual_threshold</th>\n",
       "    </tr>\n",
       "  </thead>\n",
       "  <tbody>\n",
       "    <tr>\n",
       "      <th>2832489</th>\n",
       "      <td>2832489</td>\n",
       "      <td>2601869700</td>\n",
       "      <td>0.000000</td>\n",
       "      <td>0.000000</td>\n",
       "    </tr>\n",
       "    <tr>\n",
       "      <th>232371584</th>\n",
       "      <td>2747498</td>\n",
       "      <td>2287661913</td>\n",
       "      <td>0.170231</td>\n",
       "      <td>0.000000</td>\n",
       "    </tr>\n",
       "    <tr>\n",
       "      <th>116196499</th>\n",
       "      <td>2941249</td>\n",
       "      <td>957969432567074816</td>\n",
       "      <td>0.000000</td>\n",
       "      <td>0.000000</td>\n",
       "    </tr>\n",
       "    <tr>\n",
       "      <th>259152932</th>\n",
       "      <td>423180</td>\n",
       "      <td>848882947092566018</td>\n",
       "      <td>2.082982</td>\n",
       "      <td>0.016827</td>\n",
       "    </tr>\n",
       "    <tr>\n",
       "      <th>298509734</th>\n",
       "      <td>435445</td>\n",
       "      <td>1002967890218364934</td>\n",
       "      <td>0.271144</td>\n",
       "      <td>0.061224</td>\n",
       "    </tr>\n",
       "    <tr>\n",
       "      <th>...</th>\n",
       "      <td>...</td>\n",
       "      <td>...</td>\n",
       "      <td>...</td>\n",
       "      <td>...</td>\n",
       "    </tr>\n",
       "    <tr>\n",
       "      <th>122654628</th>\n",
       "      <td>1877761</td>\n",
       "      <td>1018196559132061699</td>\n",
       "      <td>0.072527</td>\n",
       "      <td>0.008097</td>\n",
       "    </tr>\n",
       "    <tr>\n",
       "      <th>126006848</th>\n",
       "      <td>5229981</td>\n",
       "      <td>813003519557074944</td>\n",
       "      <td>0.005161</td>\n",
       "      <td>0.009615</td>\n",
       "    </tr>\n",
       "    <tr>\n",
       "      <th>70133790</th>\n",
       "      <td>148080</td>\n",
       "      <td>18836172</td>\n",
       "      <td>0.000000</td>\n",
       "      <td>0.000000</td>\n",
       "    </tr>\n",
       "    <tr>\n",
       "      <th>42148420</th>\n",
       "      <td>676479</td>\n",
       "      <td>724146540</td>\n",
       "      <td>0.373655</td>\n",
       "      <td>0.000000</td>\n",
       "    </tr>\n",
       "    <tr>\n",
       "      <th>275065709</th>\n",
       "      <td>232086</td>\n",
       "      <td>2184639173</td>\n",
       "      <td>0.003596</td>\n",
       "      <td>0.000000</td>\n",
       "    </tr>\n",
       "  </tbody>\n",
       "</table>\n",
       "<p>1000 rows × 4 columns</p>\n",
       "</div>"
      ],
      "text/plain": [
       "           Unnamed: 0                  uid  scaled_betw  \\\n",
       "2832489       2832489           2601869700     0.000000   \n",
       "232371584     2747498           2287661913     0.170231   \n",
       "116196499     2941249   957969432567074816     0.000000   \n",
       "259152932      423180   848882947092566018     2.082982   \n",
       "298509734      435445  1002967890218364934     0.271144   \n",
       "...               ...                  ...          ...   \n",
       "122654628     1877761  1018196559132061699     0.072527   \n",
       "126006848     5229981   813003519557074944     0.005161   \n",
       "70133790       148080             18836172     0.000000   \n",
       "42148420       676479            724146540     0.373655   \n",
       "275065709      232086           2184639173     0.003596   \n",
       "\n",
       "           multilingual_threshold  \n",
       "2832489                  0.000000  \n",
       "232371584                0.000000  \n",
       "116196499                0.000000  \n",
       "259152932                0.016827  \n",
       "298509734                0.061224  \n",
       "...                           ...  \n",
       "122654628                0.008097  \n",
       "126006848                0.009615  \n",
       "70133790                 0.000000  \n",
       "42148420                 0.000000  \n",
       "275065709                0.000000  \n",
       "\n",
       "[1000 rows x 4 columns]"
      ]
     },
     "execution_count": 5,
     "metadata": {},
     "output_type": "execute_result"
    }
   ],
   "source": [
    "df_small"
   ]
  },
  {
   "cell_type": "code",
   "execution_count": 13,
   "metadata": {},
   "outputs": [],
   "source": [
    "thresh_list = [i/200 for i in range(101)]"
   ]
  },
  {
   "cell_type": "code",
   "execution_count": 97,
   "metadata": {},
   "outputs": [],
   "source": [
    "res = [] \n",
    "for thresh in thresh_list:\n",
    "    df_thresh = df[df['multilingual_threshold'] >= thresh]\n",
    "    res.append((thresh,df_thresh['log_betw'].median()))"
   ]
  },
  {
   "cell_type": "code",
   "execution_count": 99,
   "metadata": {},
   "outputs": [],
   "source": [
    "df_res = pd.DataFrame(res,columns=['Threshold','Median Betweenness (Log-Scaled)'])"
   ]
  },
  {
   "cell_type": "code",
   "execution_count": 95,
   "metadata": {},
   "outputs": [
    {
     "data": {
      "text/html": [
       "<div>\n",
       "<style scoped>\n",
       "    .dataframe tbody tr th:only-of-type {\n",
       "        vertical-align: middle;\n",
       "    }\n",
       "\n",
       "    .dataframe tbody tr th {\n",
       "        vertical-align: top;\n",
       "    }\n",
       "\n",
       "    .dataframe thead th {\n",
       "        text-align: right;\n",
       "    }\n",
       "</style>\n",
       "<table border=\"1\" class=\"dataframe\">\n",
       "  <thead>\n",
       "    <tr style=\"text-align: right;\">\n",
       "      <th></th>\n",
       "      <th>Unnamed: 0</th>\n",
       "      <th>Threshold</th>\n",
       "      <th>Mean</th>\n",
       "      <th>Std. Error</th>\n",
       "      <th>Difference</th>\n",
       "    </tr>\n",
       "  </thead>\n",
       "  <tbody>\n",
       "    <tr>\n",
       "      <th>20</th>\n",
       "      <td>20</td>\n",
       "      <td>0.1</td>\n",
       "      <td>0.393272</td>\n",
       "      <td>0.000624</td>\n",
       "      <td>-0.020096</td>\n",
       "    </tr>\n",
       "  </tbody>\n",
       "</table>\n",
       "</div>"
      ],
      "text/plain": [
       "    Unnamed: 0  Threshold      Mean  Std. Error  Difference\n",
       "20          20        0.1  0.393272    0.000624   -0.020096"
      ]
     },
     "execution_count": 95,
     "metadata": {},
     "output_type": "execute_result"
    }
   ],
   "source": [
    "df_thresh[df_thresh['Threshold']==0.1]"
   ]
  },
  {
   "cell_type": "code",
   "execution_count": 93,
   "metadata": {},
   "outputs": [
    {
     "data": {
      "image/png": "[encoded data removed]",
      "text/plain": [
       "<Figure size 1080x360 with 1 Axes>"
      ]
     },
     "metadata": {
      "needs_background": "light"
     },
     "output_type": "display_data"
    }
   ],
   "source": [
    "sns.catplot(x='Threshold',y='Mean',data=df_thresh,aspect=3)\n",
    "plt.xticks(rotation=90)\n",
    "plt.show()"
   ]
  },
  {
   "cell_type": "code",
   "execution_count": 94,
   "metadata": {},
   "outputs": [
    {
     "data": {
      "image/png": "[encoded data removed]",
      "text/plain": [
       "<Figure size 1080x360 with 1 Axes>"
      ]
     },
     "metadata": {
      "needs_background": "light"
     },
     "output_type": "display_data"
    }
   ],
   "source": [
    "sns.catplot(x='Threshold',y='Difference',data=df_thresh,aspect=3)\n",
    "plt.xticks(rotation=90)\n",
    "plt.show()"
   ]
  },
  {
   "cell_type": "code",
   "execution_count": 46,
   "metadata": {},
   "outputs": [],
   "source": [
    "res2 = [] \n",
    "for thresh in thresh_list:\n",
    "    df_thresh = df_small[df_small['multilingual_threshold'] >= thresh]\n",
    "    res2.append((thresh,df_thresh['scaled_betw'].median()))"
   ]
  },
  {
   "cell_type": "code",
   "execution_count": 47,
   "metadata": {},
   "outputs": [
    {
     "data": {
      "image/png": "[encoded data removed]",
      "text/plain": [
       "<Figure size 1080x360 with 1 Axes>"
      ]
     },
     "metadata": {
      "needs_background": "light"
     },
     "output_type": "display_data"
    }
   ],
   "source": [
    "sns.catplot(x='Threshold',y='Betweenness',data=pd.DataFrame(res2,columns=['Threshold','Betweenness']),aspect=3)\n",
    "plt.xticks(rotation=90)\n",
    "plt.show()"
   ]
  },
  {
   "cell_type": "code",
   "execution_count": 52,
   "metadata": {},
   "outputs": [],
   "source": [
    "import numpy as np"
   ]
  },
  {
   "cell_type": "code",
   "execution_count": 54,
   "metadata": {},
   "outputs": [
    {
     "data": {
      "text/plain": [
       "2832489      0.000000\n",
       "232371584    0.157201\n",
       "116196499    0.000000\n",
       "259152932    1.125897\n",
       "298509734    0.239917\n",
       "               ...   \n",
       "122654628    0.070017\n",
       "126006848    0.005148\n",
       "70133790     0.000000\n",
       "42148420     0.317475\n",
       "275065709    0.003589\n",
       "Name: scaled_betw, Length: 1000, dtype: float64"
      ]
     },
     "execution_count": 54,
     "metadata": {},
     "output_type": "execute_result"
    }
   ],
   "source": [
    "np.log(df_small['scaled_betw']+1)"
   ]
  },
  {
   "cell_type": "code",
   "execution_count": 61,
   "metadata": {},
   "outputs": [
    {
     "data": {
      "text/html": [
       "<div>\n",
       "<style scoped>\n",
       "    .dataframe tbody tr th:only-of-type {\n",
       "        vertical-align: middle;\n",
       "    }\n",
       "\n",
       "    .dataframe tbody tr th {\n",
       "        vertical-align: top;\n",
       "    }\n",
       "\n",
       "    .dataframe thead th {\n",
       "        text-align: right;\n",
       "    }\n",
       "</style>\n",
       "<table border=\"1\" class=\"dataframe\">\n",
       "  <thead>\n",
       "    <tr style=\"text-align: right;\">\n",
       "      <th></th>\n",
       "      <th>Unnamed: 0</th>\n",
       "      <th>uid</th>\n",
       "      <th>scaled_betw</th>\n",
       "      <th>multilingual_threshold</th>\n",
       "      <th>log_betw</th>\n",
       "    </tr>\n",
       "  </thead>\n",
       "  <tbody>\n",
       "    <tr>\n",
       "      <th>0</th>\n",
       "      <td>0</td>\n",
       "      <td>1002331874</td>\n",
       "      <td>0.707735</td>\n",
       "      <td>0.030303</td>\n",
       "      <td>0.535168</td>\n",
       "    </tr>\n",
       "    <tr>\n",
       "      <th>1</th>\n",
       "      <td>1</td>\n",
       "      <td>208710267</td>\n",
       "      <td>0.438939</td>\n",
       "      <td>0.000000</td>\n",
       "      <td>0.363906</td>\n",
       "    </tr>\n",
       "    <tr>\n",
       "      <th>2</th>\n",
       "      <td>2</td>\n",
       "      <td>866579156</td>\n",
       "      <td>0.155011</td>\n",
       "      <td>0.000000</td>\n",
       "      <td>0.144110</td>\n",
       "    </tr>\n",
       "    <tr>\n",
       "      <th>3</th>\n",
       "      <td>3</td>\n",
       "      <td>248800745</td>\n",
       "      <td>0.217391</td>\n",
       "      <td>0.047619</td>\n",
       "      <td>0.196710</td>\n",
       "    </tr>\n",
       "    <tr>\n",
       "      <th>4</th>\n",
       "      <td>4</td>\n",
       "      <td>464682995</td>\n",
       "      <td>0.077391</td>\n",
       "      <td>0.043478</td>\n",
       "      <td>0.074542</td>\n",
       "    </tr>\n",
       "    <tr>\n",
       "      <th>...</th>\n",
       "      <td>...</td>\n",
       "      <td>...</td>\n",
       "      <td>...</td>\n",
       "      <td>...</td>\n",
       "      <td>...</td>\n",
       "    </tr>\n",
       "    <tr>\n",
       "      <th>306395143</th>\n",
       "      <td>1761862</td>\n",
       "      <td>464151739</td>\n",
       "      <td>0.000000</td>\n",
       "      <td>0.000000</td>\n",
       "      <td>0.000000</td>\n",
       "    </tr>\n",
       "    <tr>\n",
       "      <th>306395144</th>\n",
       "      <td>1761863</td>\n",
       "      <td>165711052</td>\n",
       "      <td>0.000000</td>\n",
       "      <td>0.000000</td>\n",
       "      <td>0.000000</td>\n",
       "    </tr>\n",
       "    <tr>\n",
       "      <th>306395145</th>\n",
       "      <td>1761864</td>\n",
       "      <td>1002334459</td>\n",
       "      <td>0.097354</td>\n",
       "      <td>0.051282</td>\n",
       "      <td>0.092902</td>\n",
       "    </tr>\n",
       "    <tr>\n",
       "      <th>306395146</th>\n",
       "      <td>1761865</td>\n",
       "      <td>1087258700513980416</td>\n",
       "      <td>0.000866</td>\n",
       "      <td>0.071429</td>\n",
       "      <td>0.000865</td>\n",
       "    </tr>\n",
       "    <tr>\n",
       "      <th>306395147</th>\n",
       "      <td>1761866</td>\n",
       "      <td>1128386936446562313</td>\n",
       "      <td>0.000571</td>\n",
       "      <td>0.000000</td>\n",
       "      <td>0.000571</td>\n",
       "    </tr>\n",
       "  </tbody>\n",
       "</table>\n",
       "<p>306395148 rows × 5 columns</p>\n",
       "</div>"
      ],
      "text/plain": [
       "           Unnamed: 0                  uid  scaled_betw  \\\n",
       "0                   0           1002331874     0.707735   \n",
       "1                   1            208710267     0.438939   \n",
       "2                   2            866579156     0.155011   \n",
       "3                   3            248800745     0.217391   \n",
       "4                   4            464682995     0.077391   \n",
       "...               ...                  ...          ...   \n",
       "306395143     1761862            464151739     0.000000   \n",
       "306395144     1761863            165711052     0.000000   \n",
       "306395145     1761864           1002334459     0.097354   \n",
       "306395146     1761865  1087258700513980416     0.000866   \n",
       "306395147     1761866  1128386936446562313     0.000571   \n",
       "\n",
       "           multilingual_threshold  log_betw  \n",
       "0                        0.030303  0.535168  \n",
       "1                        0.000000  0.363906  \n",
       "2                        0.000000  0.144110  \n",
       "3                        0.047619  0.196710  \n",
       "4                        0.043478  0.074542  \n",
       "...                           ...       ...  \n",
       "306395143                0.000000  0.000000  \n",
       "306395144                0.000000  0.000000  \n",
       "306395145                0.051282  0.092902  \n",
       "306395146                0.071429  0.000865  \n",
       "306395147                0.000000  0.000571  \n",
       "\n",
       "[306395148 rows x 5 columns]"
      ]
     },
     "execution_count": 61,
     "metadata": {},
     "output_type": "execute_result"
    }
   ],
   "source": [
    "df"
   ]
  },
  {
   "cell_type": "code",
   "execution_count": 83,
   "metadata": {},
   "outputs": [
    {
     "data": {
      "text/plain": [
       "Unnamed: 0                1.115192e+06\n",
       "uid                       1.110397e+09\n",
       "scaled_betw               2.718443e-02\n",
       "multilingual_threshold    0.000000e+00\n",
       "log_betw                  2.682150e-02\n",
       "dtype: float64"
      ]
     },
     "execution_count": 83,
     "metadata": {},
     "output_type": "execute_result"
    }
   ],
   "source": [
    "df[df['multilingual_threshold']<0.1].median()"
   ]
  },
  {
   "cell_type": "code",
   "execution_count": 84,
   "metadata": {},
   "outputs": [
    {
     "data": {
      "text/plain": [
       "Unnamed: 0                8.424960e+05\n",
       "uid                       1.467759e+09\n",
       "scaled_betw               1.347821e-02\n",
       "multilingual_threshold    1.880342e-01\n",
       "log_betw                  1.338819e-02\n",
       "dtype: float64"
      ]
     },
     "execution_count": 84,
     "metadata": {},
     "output_type": "execute_result"
    }
   ],
   "source": [
    "df[df['multilingual_threshold']>=0.1].median()"
   ]
  },
  {
   "cell_type": "code",
   "execution_count": 85,
   "metadata": {},
   "outputs": [
    {
     "data": {
      "text/plain": [
       "Unnamed: 0                1.089546e+06\n",
       "uid                       1.160354e+09\n",
       "scaled_betw               2.673548e-02\n",
       "multilingual_threshold    0.000000e+00\n",
       "log_betw                  2.638433e-02\n",
       "dtype: float64"
      ]
     },
     "execution_count": 85,
     "metadata": {},
     "output_type": "execute_result"
    }
   ],
   "source": [
    "df[df['multilingual_threshold']<0.2].median()"
   ]
  },
  {
   "cell_type": "code",
   "execution_count": 86,
   "metadata": {},
   "outputs": [
    {
     "data": {
      "text/plain": [
       "Unnamed: 0                8.647360e+05\n",
       "uid                       1.107000e+09\n",
       "scaled_betw               7.488073e-03\n",
       "multilingual_threshold    2.857143e-01\n",
       "log_betw                  7.460177e-03\n",
       "dtype: float64"
      ]
     },
     "execution_count": 86,
     "metadata": {},
     "output_type": "execute_result"
    }
   ],
   "source": [
    "df[df['multilingual_threshold']>=0.2].median()"
   ]
  },
  {
   "cell_type": "code",
   "execution_count": 87,
   "metadata": {},
   "outputs": [
    {
     "data": {
      "text/plain": [
       "Unnamed: 0                1.097887e+06\n",
       "uid                       1.145538e+09\n",
       "scaled_betw               2.688136e-02\n",
       "multilingual_threshold    0.000000e+00\n",
       "log_betw                  2.652640e-02\n",
       "dtype: float64"
      ]
     },
     "execution_count": 87,
     "metadata": {},
     "output_type": "execute_result"
    }
   ],
   "source": [
    "df[df['multilingual_threshold']<0.15].median()"
   ]
  },
  {
   "cell_type": "code",
   "execution_count": 88,
   "metadata": {},
   "outputs": [
    {
     "data": {
      "text/plain": [
       "Unnamed: 0                8.445970e+05\n",
       "uid                       1.267691e+09\n",
       "scaled_betw               9.947479e-03\n",
       "multilingual_threshold    2.500000e-01\n",
       "log_betw                  9.898329e-03\n",
       "dtype: float64"
      ]
     },
     "execution_count": 88,
     "metadata": {},
     "output_type": "execute_result"
    }
   ],
   "source": [
    "df[df['multilingual_threshold']>=0.15].median()"
   ]
  },
  {
   "cell_type": "code",
   "execution_count": 82,
   "metadata": {},
   "outputs": [
    {
     "data": {
      "text/html": [
       "<div>\n",
       "<style scoped>\n",
       "    .dataframe tbody tr th:only-of-type {\n",
       "        vertical-align: middle;\n",
       "    }\n",
       "\n",
       "    .dataframe tbody tr th {\n",
       "        vertical-align: top;\n",
       "    }\n",
       "\n",
       "    .dataframe thead th {\n",
       "        text-align: right;\n",
       "    }\n",
       "</style>\n",
       "<table border=\"1\" class=\"dataframe\">\n",
       "  <thead>\n",
       "    <tr style=\"text-align: right;\">\n",
       "      <th></th>\n",
       "      <th>Unnamed: 0</th>\n",
       "      <th>uid</th>\n",
       "      <th>scaled_betw</th>\n",
       "      <th>multilingual_threshold</th>\n",
       "    </tr>\n",
       "  </thead>\n",
       "  <tbody>\n",
       "    <tr>\n",
       "      <th>194819214</th>\n",
       "      <td>2024649</td>\n",
       "      <td>289845325</td>\n",
       "      <td>0.247721</td>\n",
       "      <td>0.5</td>\n",
       "    </tr>\n",
       "    <tr>\n",
       "      <th>109222861</th>\n",
       "      <td>1836785</td>\n",
       "      <td>3309612189</td>\n",
       "      <td>0.000000</td>\n",
       "      <td>0.5</td>\n",
       "    </tr>\n",
       "    <tr>\n",
       "      <th>282020555</th>\n",
       "      <td>1203676</td>\n",
       "      <td>2799961034</td>\n",
       "      <td>0.000000</td>\n",
       "      <td>0.5</td>\n",
       "    </tr>\n",
       "    <tr>\n",
       "      <th>181139871</th>\n",
       "      <td>1515454</td>\n",
       "      <td>501770182</td>\n",
       "      <td>0.000000</td>\n",
       "      <td>0.5</td>\n",
       "    </tr>\n",
       "    <tr>\n",
       "      <th>139604371</th>\n",
       "      <td>429643</td>\n",
       "      <td>1397968333</td>\n",
       "      <td>0.000568</td>\n",
       "      <td>0.5</td>\n",
       "    </tr>\n",
       "    <tr>\n",
       "      <th>...</th>\n",
       "      <td>...</td>\n",
       "      <td>...</td>\n",
       "      <td>...</td>\n",
       "      <td>...</td>\n",
       "    </tr>\n",
       "    <tr>\n",
       "      <th>272507637</th>\n",
       "      <td>1517765</td>\n",
       "      <td>471838619</td>\n",
       "      <td>0.212114</td>\n",
       "      <td>0.0</td>\n",
       "    </tr>\n",
       "    <tr>\n",
       "      <th>15604250</th>\n",
       "      <td>1506441</td>\n",
       "      <td>228495602</td>\n",
       "      <td>0.203849</td>\n",
       "      <td>0.0</td>\n",
       "    </tr>\n",
       "    <tr>\n",
       "      <th>146707355</th>\n",
       "      <td>2300609</td>\n",
       "      <td>544813899</td>\n",
       "      <td>0.399105</td>\n",
       "      <td>0.0</td>\n",
       "    </tr>\n",
       "    <tr>\n",
       "      <th>288235621</th>\n",
       "      <td>1755036</td>\n",
       "      <td>319873692</td>\n",
       "      <td>0.000000</td>\n",
       "      <td>0.0</td>\n",
       "    </tr>\n",
       "    <tr>\n",
       "      <th>275065709</th>\n",
       "      <td>232086</td>\n",
       "      <td>2184639173</td>\n",
       "      <td>0.003596</td>\n",
       "      <td>0.0</td>\n",
       "    </tr>\n",
       "  </tbody>\n",
       "</table>\n",
       "<p>1000 rows × 4 columns</p>\n",
       "</div>"
      ],
      "text/plain": [
       "           Unnamed: 0         uid  scaled_betw  multilingual_threshold\n",
       "194819214     2024649   289845325     0.247721                     0.5\n",
       "109222861     1836785  3309612189     0.000000                     0.5\n",
       "282020555     1203676  2799961034     0.000000                     0.5\n",
       "181139871     1515454   501770182     0.000000                     0.5\n",
       "139604371      429643  1397968333     0.000568                     0.5\n",
       "...               ...         ...          ...                     ...\n",
       "272507637     1517765   471838619     0.212114                     0.0\n",
       "15604250      1506441   228495602     0.203849                     0.0\n",
       "146707355     2300609   544813899     0.399105                     0.0\n",
       "288235621     1755036   319873692     0.000000                     0.0\n",
       "275065709      232086  2184639173     0.003596                     0.0\n",
       "\n",
       "[1000 rows x 4 columns]"
      ]
     },
     "execution_count": 82,
     "metadata": {},
     "output_type": "execute_result"
    }
   ],
   "source": [
    "df_small.sort_values(by='multilingual_threshold',ascending=False)"
   ]
  },
  {
   "cell_type": "code",
   "execution_count": null,
   "metadata": {},
   "outputs": [],
   "source": []
  }
 ],
 "metadata": {
  "kernelspec": {
   "display_name": "Python 3",
   "language": "python",
   "name": "python3"
  },
  "language_info": {
   "codemirror_mode": {
    "name": "ipython",
    "version": 3
   },
   "file_extension": ".py",
   "mimetype": "text/x-python",
   "name": "python",
   "nbconvert_exporter": "python",
   "pygments_lexer": "ipython3",
   "version": "3.8.5"
  }
 },
 "nbformat": 4,
 "nbformat_minor": 4
}
